{
 "cells": [
  {
   "cell_type": "code",
   "execution_count": 1,
   "id": "ffc2a126",
   "metadata": {
    "ExecuteTime": {
     "end_time": "2023-11-12T01:24:50.712899Z",
     "start_time": "2023-11-12T01:24:50.010746Z"
    }
   },
   "outputs": [],
   "source": [
    "import pandas as pd\n",
    "import numpy as np\n",
    "import requests\n",
    "import urllib\n",
    "import urllib.request\n",
    "from urllib.request import Request, urlopen\n",
    "from bs4 import BeautifulSoup\n",
    "import os\n",
    "import csv\n",
    "from http.cookiejar import CookieJar"
   ]
  },
  {
   "cell_type": "markdown",
   "id": "4b52616b",
   "metadata": {},
   "source": [
    "## West Coast"
   ]
  },
  {
   "cell_type": "markdown",
   "id": "c5e7df59",
   "metadata": {},
   "source": [
    "#### LA Times Articles"
   ]
  },
  {
   "cell_type": "code",
   "execution_count": 2,
   "id": "601e46ae",
   "metadata": {
    "ExecuteTime": {
     "end_time": "2023-11-12T01:24:50.728828Z",
     "start_time": "2023-11-12T01:24:50.714907Z"
    }
   },
   "outputs": [],
   "source": [
    "news1 = 'https://www.latimes.com/opinion/story/2022-09-17/electric-vehicles-climate-change-downsides/'\n",
    "news2 = 'https://www.latimes.com/opinion/story/2022-09-15/california-electric-vehicles-pollution-traffic-deaths/'\n",
    "news3 = 'https://www.latimes.com/opinion/story/2023-04-12/editorial-the-epa-proposes-a-speedy-switch-to-electric-vehicles-the-planet-needs-it/'\n",
    "news4 = 'https://www.latimes.com/politics/story/2021-07-21/californias-electric-car-revolution-designed-to-save-the-planet-inflicts-a-big-toll-on-it/'\n",
    "news5 = 'https://www.latimes.com/business/story/2023-11-01/electric-cars-now-make-up-a-fifth-of-californias-auto-sales?email=467cb6399cb7df64551775e431052b43a775c749&emaila=12a6d4d069cd56cfddaa391c24eb7042&emailb=054528e7403871c79f668e49dd3c44b1ec00c7f611bf9388f76bb2324d6ca5f3&utm_source=Sailthru&utm_medium=email&utm_campaign=11.02.23%20Energy%20%26%20Environment%20RF/'\n",
    "news6 = 'https://www.latimes.com/politics/story/2022-12-12/california-electric-cars-evs-2035-culture-war'\n",
    "\n",
    "la_times = [news1, news2, news3, news4, news5, news6]"
   ]
  },
  {
   "cell_type": "code",
   "execution_count": 3,
   "id": "f5f4ede0",
   "metadata": {
    "ExecuteTime": {
     "end_time": "2023-11-12T01:24:50.744297Z",
     "start_time": "2023-11-12T01:24:50.730832Z"
    }
   },
   "outputs": [],
   "source": [
    "def get_la_times_article(url):\n",
    "    req = Request(url)\n",
    "    cj = CookieJar()\n",
    "    opener = urllib.request.build_opener(urllib.request.HTTPCookieProcessor(cj))\n",
    "    response = opener.open(req)\n",
    "    page_soup = BeautifulSoup(response, 'html.parser')\n",
    "    title = page_soup.find('h1', class_='headline').get_text()\n",
    "    date = page_soup.find('time', class_='published-date').get_text()\n",
    "    \n",
    "    article = []\n",
    "    paragraphs = page_soup.find('article', class_='story').find_all('p')\n",
    "    for p in paragraphs:\n",
    "        article.append(p.get_text())\n",
    "    news_source = url.split('/')[2].split('.')[1]\n",
    "    return title, article, date, news_source\n",
    "    "
   ]
  },
  {
   "cell_type": "code",
   "execution_count": 4,
   "id": "9c92475d",
   "metadata": {
    "ExecuteTime": {
     "end_time": "2023-11-12T01:24:50.759160Z",
     "start_time": "2023-11-12T01:24:50.746296Z"
    }
   },
   "outputs": [],
   "source": [
    "def create_dataset(file_name, dir_path, news_source, news_fetcher):\n",
    "    os.makedirs(dir_path, exist_ok=True)\n",
    "    csv_filename = os.path.join(dir_path, file_name)\n",
    "    \n",
    "    with open(csv_filename, 'w', newline='', encoding='utf-8') as file:\n",
    "        writer = csv.writer(file)\n",
    "        writer.writerow(['title', 'article', 'date', 'news_source'])\n",
    "        \n",
    "        for news in news_source:\n",
    "            title, article, date, news_source = news_fetcher(news)\n",
    "            writer.writerow([title, article, date, news_source])"
   ]
  },
  {
   "cell_type": "code",
   "execution_count": 5,
   "id": "82e4ba8b",
   "metadata": {
    "ExecuteTime": {
     "end_time": "2023-11-12T01:24:55.522694Z",
     "start_time": "2023-11-12T01:24:50.761554Z"
    }
   },
   "outputs": [],
   "source": [
    "dir_path = 'news/west-coast/la'\n",
    "create_dataset('articles.csv', dir_path, la_times, get_la_times_article)\n",
    "\n",
    "file_name = os.path.join(dir_path, 'articles.csv')\n",
    "df = pd.read_csv(file_name)\n",
    "\n",
    "df['region'] = 'west-coast'\n",
    "df.to_csv(file_name, index=False)"
   ]
  },
  {
   "cell_type": "code",
   "execution_count": 6,
   "id": "7d95d809",
   "metadata": {
    "ExecuteTime": {
     "end_time": "2023-11-12T01:24:55.554730Z",
     "start_time": "2023-11-12T01:24:55.524703Z"
    }
   },
   "outputs": [
    {
     "data": {
      "text/html": [
       "<div>\n",
       "<style scoped>\n",
       "    .dataframe tbody tr th:only-of-type {\n",
       "        vertical-align: middle;\n",
       "    }\n",
       "\n",
       "    .dataframe tbody tr th {\n",
       "        vertical-align: top;\n",
       "    }\n",
       "\n",
       "    .dataframe thead th {\n",
       "        text-align: right;\n",
       "    }\n",
       "</style>\n",
       "<table border=\"1\" class=\"dataframe\">\n",
       "  <thead>\n",
       "    <tr style=\"text-align: right;\">\n",
       "      <th></th>\n",
       "      <th>title</th>\n",
       "      <th>article</th>\n",
       "      <th>date</th>\n",
       "      <th>news_source</th>\n",
       "      <th>region</th>\n",
       "    </tr>\n",
       "  </thead>\n",
       "  <tbody>\n",
       "    <tr>\n",
       "      <th>0</th>\n",
       "      <td>Commentary: Driving an EV does not make you p...</td>\n",
       "      <td>['When I started driving an electric vehicle i...</td>\n",
       "      <td>Sept. 17, 2022 3:10 AM PT</td>\n",
       "      <td>latimes</td>\n",
       "      <td>west-coast</td>\n",
       "    </tr>\n",
       "    <tr>\n",
       "      <th>1</th>\n",
       "      <td>Op-Ed: Think bigger. Switching to electric ca...</td>\n",
       "      <td>['It might feel like the easy solution — just ...</td>\n",
       "      <td>Sept. 15, 2022 3 AM PT</td>\n",
       "      <td>latimes</td>\n",
       "      <td>west-coast</td>\n",
       "    </tr>\n",
       "    <tr>\n",
       "      <th>2</th>\n",
       "      <td>Editorial: EPA wants to speed up EV switch. G...</td>\n",
       "      <td>['The Biden administration just proposed hitti...</td>\n",
       "      <td>April 12, 2023 3:57 PM PT</td>\n",
       "      <td>latimes</td>\n",
       "      <td>west-coast</td>\n",
       "    </tr>\n",
       "    <tr>\n",
       "      <th>3</th>\n",
       "      <td>California’s electric car revolution, designe...</td>\n",
       "      <td>['The precious cargo on the ship docked in San...</td>\n",
       "      <td>July 21, 2021 3 AM PT</td>\n",
       "      <td>latimes</td>\n",
       "      <td>west-coast</td>\n",
       "    </tr>\n",
       "    <tr>\n",
       "      <th>4</th>\n",
       "      <td>Electric cars now make up a fifth of Californ...</td>\n",
       "      <td>['One out of every 5 cars sold in California i...</td>\n",
       "      <td>Nov. 1, 2023 2:46 PM PT</td>\n",
       "      <td>latimes</td>\n",
       "      <td>west-coast</td>\n",
       "    </tr>\n",
       "    <tr>\n",
       "      <th>5</th>\n",
       "      <td>Can California’s electric-vehicle push overco...</td>\n",
       "      <td>['This industrial city an hour north of Indian...</td>\n",
       "      <td>Dec. 12, 2022 3 AM PT</td>\n",
       "      <td>latimes</td>\n",
       "      <td>west-coast</td>\n",
       "    </tr>\n",
       "  </tbody>\n",
       "</table>\n",
       "</div>"
      ],
      "text/plain": [
       "                                               title  \\\n",
       "0   Commentary: Driving an EV does not make you p...   \n",
       "1   Op-Ed: Think bigger. Switching to electric ca...   \n",
       "2   Editorial: EPA wants to speed up EV switch. G...   \n",
       "3   California’s electric car revolution, designe...   \n",
       "4   Electric cars now make up a fifth of Californ...   \n",
       "5   Can California’s electric-vehicle push overco...   \n",
       "\n",
       "                                             article  \\\n",
       "0  ['When I started driving an electric vehicle i...   \n",
       "1  ['It might feel like the easy solution — just ...   \n",
       "2  ['The Biden administration just proposed hitti...   \n",
       "3  ['The precious cargo on the ship docked in San...   \n",
       "4  ['One out of every 5 cars sold in California i...   \n",
       "5  ['This industrial city an hour north of Indian...   \n",
       "\n",
       "                         date news_source      region  \n",
       "0  Sept. 17, 2022 3:10 AM PT      latimes  west-coast  \n",
       "1     Sept. 15, 2022 3 AM PT      latimes  west-coast  \n",
       "2  April 12, 2023 3:57 PM PT      latimes  west-coast  \n",
       "3      July 21, 2021 3 AM PT      latimes  west-coast  \n",
       "4    Nov. 1, 2023 2:46 PM PT      latimes  west-coast  \n",
       "5      Dec. 12, 2022 3 AM PT      latimes  west-coast  "
      ]
     },
     "execution_count": 6,
     "metadata": {},
     "output_type": "execute_result"
    }
   ],
   "source": [
    "df_la = pd.read_csv(file_name)\n",
    "df_la"
   ]
  },
  {
   "cell_type": "markdown",
   "id": "7cb44567",
   "metadata": {},
   "source": [
    "###### San Francisco Chronicles Articles"
   ]
  },
  {
   "cell_type": "code",
   "execution_count": 7,
   "id": "54b625b6",
   "metadata": {
    "ExecuteTime": {
     "end_time": "2023-11-12T01:24:55.570756Z",
     "start_time": "2023-11-12T01:24:55.556755Z"
    }
   },
   "outputs": [],
   "source": [
    "news1 = 'https://web.archive.org/web/20190323184608/https://www.sfchronicle.com/bayarea/article/Environmental-groups-want-SF-to-nudge-Uber-Lyft-13707375.php'\n",
    "news2 = 'https://web.archive.org/web/20190716185842/https://www.sfchronicle.com/bayarea/article/To-cut-carbon-footprint-SF-moves-to-eliminate-14097997.php'\n",
    "news3 = 'https://web.archive.org/web/20230320181546/https://www.sfchronicle.com/bayarea/article/With-new-grant-program-Bay-Area-spreads-electric-14888605.php'\n",
    "news4 = 'https://web.archive.org/web/20230129201621/https://www.sfchronicle.com/bayarea/article/Berkeley-to-considering-banning-the-sale-of-15862688.php'\n",
    "news5 = 'https://web.archive.org/web/20230401195138/https://www.sfchronicle.com/opinion/openforum/article/electric-cars-california-power-17333054.php'\n",
    "\n",
    "sf_chronicles_news = [news1, news2, news3, news4, news5]\n",
    "\n",
    "def get_sf_news(url):\n",
    "    text = ''\n",
    "    response = requests.get(url)\n",
    "    response.raise_for_status()\n",
    "\n",
    "    soup = BeautifulSoup(response.text, 'html.parser')\n",
    "    paragraphs = soup.find_all('p')\n",
    "    title = soup.find('h1', class_='header-title')\n",
    "    if not title or title.text.strip() == '':\n",
    "        title = soup.find('h1', class_='articleHeader--headline')\n",
    "    title = title.text.strip() if title else None\n",
    "    text = ' '.join(p.get_text(strip=True) for p in paragraphs)\n",
    "    published_date = soup.find('time').text\n",
    "    news_source = url.split('/')[7].split('.')[1]\n",
    "    \n",
    "    return title, text, published_date, news_source\n",
    " "
   ]
  },
  {
   "cell_type": "code",
   "execution_count": 8,
   "id": "dae6998c",
   "metadata": {
    "ExecuteTime": {
     "end_time": "2023-11-12T01:24:59.955177Z",
     "start_time": "2023-11-12T01:24:55.572755Z"
    }
   },
   "outputs": [],
   "source": [
    "dir_path = 'news/west-coast/sf/'\n",
    "\n",
    "create_dataset('articles.csv', dir_path, sf_chronicles_news, get_sf_news)\n",
    "\n",
    "file_name = os.path.join(dir_path, 'articles.csv')\n",
    "df = pd.read_csv(file_name)\n",
    "\n",
    "df['region'] = 'west-coast'\n",
    "df.to_csv(file_name, index=False)"
   ]
  },
  {
   "cell_type": "code",
   "execution_count": 9,
   "id": "d6fef3b4",
   "metadata": {
    "ExecuteTime": {
     "end_time": "2023-11-12T01:24:59.985602Z",
     "start_time": "2023-11-12T01:24:59.958177Z"
    }
   },
   "outputs": [
    {
     "data": {
      "text/html": [
       "<div>\n",
       "<style scoped>\n",
       "    .dataframe tbody tr th:only-of-type {\n",
       "        vertical-align: middle;\n",
       "    }\n",
       "\n",
       "    .dataframe tbody tr th {\n",
       "        vertical-align: top;\n",
       "    }\n",
       "\n",
       "    .dataframe thead th {\n",
       "        text-align: right;\n",
       "    }\n",
       "</style>\n",
       "<table border=\"1\" class=\"dataframe\">\n",
       "  <thead>\n",
       "    <tr style=\"text-align: right;\">\n",
       "      <th></th>\n",
       "      <th>title</th>\n",
       "      <th>article</th>\n",
       "      <th>date</th>\n",
       "      <th>news_source</th>\n",
       "      <th>region</th>\n",
       "    </tr>\n",
       "  </thead>\n",
       "  <tbody>\n",
       "    <tr>\n",
       "      <th>0</th>\n",
       "      <td>Environmental groups want SF to nudge Uber, Ly...</td>\n",
       "      <td>Environmental advocates want San Francisco to ...</td>\n",
       "      <td>\\n            March 21, 2019\\n</td>\n",
       "      <td>sfchronicle</td>\n",
       "      <td>west-coast</td>\n",
       "    </tr>\n",
       "    <tr>\n",
       "      <th>1</th>\n",
       "      <td>To cut carbon footprint, SF moves to eliminate...</td>\n",
       "      <td>San Francisco officials want to shrink the cit...</td>\n",
       "      <td>\\n            July 16, 2019\\n</td>\n",
       "      <td>sfchronicle</td>\n",
       "      <td>west-coast</td>\n",
       "    </tr>\n",
       "    <tr>\n",
       "      <th>2</th>\n",
       "      <td>With new grant program, Bay Area spreads elect...</td>\n",
       "      <td>This is a carousel. Use Next and Previous butt...</td>\n",
       "      <td>Dec. 7, 2019</td>\n",
       "      <td>sfchronicle</td>\n",
       "      <td>west-coast</td>\n",
       "    </tr>\n",
       "    <tr>\n",
       "      <th>3</th>\n",
       "      <td>Berkeley considers banning the sale of gas-pow...</td>\n",
       "      <td>This is a carousel. Use Next and Previous butt...</td>\n",
       "      <td>Jan. 11, 2021</td>\n",
       "      <td>sfchronicle</td>\n",
       "      <td>west-coast</td>\n",
       "    </tr>\n",
       "    <tr>\n",
       "      <th>4</th>\n",
       "      <td>How electric cars can keep California’s power ...</td>\n",
       "      <td>When we’re not driving them, electric cars, tr...</td>\n",
       "      <td>July 28, 2022</td>\n",
       "      <td>sfchronicle</td>\n",
       "      <td>west-coast</td>\n",
       "    </tr>\n",
       "  </tbody>\n",
       "</table>\n",
       "</div>"
      ],
      "text/plain": [
       "                                               title  \\\n",
       "0  Environmental groups want SF to nudge Uber, Ly...   \n",
       "1  To cut carbon footprint, SF moves to eliminate...   \n",
       "2  With new grant program, Bay Area spreads elect...   \n",
       "3  Berkeley considers banning the sale of gas-pow...   \n",
       "4  How electric cars can keep California’s power ...   \n",
       "\n",
       "                                             article  \\\n",
       "0  Environmental advocates want San Francisco to ...   \n",
       "1  San Francisco officials want to shrink the cit...   \n",
       "2  This is a carousel. Use Next and Previous butt...   \n",
       "3  This is a carousel. Use Next and Previous butt...   \n",
       "4  When we’re not driving them, electric cars, tr...   \n",
       "\n",
       "                                     date  news_source      region  \n",
       "0  \\n            March 21, 2019\\n          sfchronicle  west-coast  \n",
       "1   \\n            July 16, 2019\\n          sfchronicle  west-coast  \n",
       "2                            Dec. 7, 2019  sfchronicle  west-coast  \n",
       "3                           Jan. 11, 2021  sfchronicle  west-coast  \n",
       "4                           July 28, 2022  sfchronicle  west-coast  "
      ]
     },
     "execution_count": 9,
     "metadata": {},
     "output_type": "execute_result"
    }
   ],
   "source": [
    "df_sf = pd.read_csv('news/west-coast/sf/articles.csv')\n",
    "df_sf"
   ]
  },
  {
   "cell_type": "markdown",
   "id": "c278bd66",
   "metadata": {},
   "source": [
    "#### Washington State Wire"
   ]
  },
  {
   "cell_type": "code",
   "execution_count": 10,
   "id": "0e9061a5",
   "metadata": {
    "ExecuteTime": {
     "end_time": "2023-11-12T01:25:00.001306Z",
     "start_time": "2023-11-12T01:24:59.990736Z"
    }
   },
   "outputs": [],
   "source": [
    "news1 = 'https://washingtonstatewire.com/cities-awarded-funding-for-electric-vehicle-charging-stations/'\n",
    "news2 = 'https://washingtonstatewire.com/electric-vehicle-tax-break-extension-faces-stiff-challenges-cost-conscious-legislature/'\n",
    "news3 = 'https://washingtonstatewire.com/op-ed-now-is-the-time-to-electrify-public-vehicle-fleets/'\n",
    "news4 = 'https://washingtonstatewire.com/washington-state-passes-law-establishing-2030-target-for-phasing-out-gasoline-vehicles/'\n",
    "\n",
    "washington_state_wire = [news1, news2, news3, news4]"
   ]
  },
  {
   "cell_type": "code",
   "execution_count": 11,
   "id": "e24eb4b2",
   "metadata": {
    "ExecuteTime": {
     "end_time": "2023-11-12T01:25:00.016888Z",
     "start_time": "2023-11-12T01:25:00.003306Z"
    }
   },
   "outputs": [],
   "source": [
    "def get_washington_news_article(url):\n",
    "    response = requests.get(url)\n",
    "    response.raise_for_status()\n",
    "    soup = BeautifulSoup(response.text, 'html.parser')\n",
    "    \n",
    "    title = soup.find('h1', class_='story-title').get_text(strip=True)\n",
    "    date = soup.find('span', class_='story-date').get_text(strip=True)\n",
    "    \n",
    "    article_content = soup.find('div', class_='story-content').get_text(strip=True)\n",
    "    news_source = url.split('/')[2].split('.')[0]\n",
    "    if article_content:\n",
    "        return title, article_content, date, news_source\n",
    "    else:\n",
    "        print(\"couldnt find the article content\")"
   ]
  },
  {
   "cell_type": "code",
   "execution_count": 12,
   "id": "3e9d4024",
   "metadata": {
    "ExecuteTime": {
     "end_time": "2023-11-12T01:25:00.032420Z",
     "start_time": "2023-11-12T01:25:00.019889Z"
    }
   },
   "outputs": [],
   "source": [
    "def create_dataset(file_name, dir_path, news_source, news_fetcher):\n",
    "    os.makedirs(dir_path, exist_ok=True)\n",
    "    csv_filename = os.path.join(dir_path, file_name)\n",
    "    \n",
    "    with open(csv_filename, 'w', newline='', encoding='utf-8') as file:\n",
    "        writer = csv.writer(file)\n",
    "        writer.writerow(['title', 'article', 'date', 'news_source'])\n",
    "        \n",
    "        for news in news_source:\n",
    "            title, article, date, news_source = news_fetcher(news)\n",
    "            writer.writerow([title, article, date, news_source])"
   ]
  },
  {
   "cell_type": "code",
   "execution_count": 13,
   "id": "50c7a3bf",
   "metadata": {
    "ExecuteTime": {
     "end_time": "2023-11-12T01:25:01.206748Z",
     "start_time": "2023-11-12T01:25:00.034419Z"
    }
   },
   "outputs": [],
   "source": [
    "dir_path = 'news/west-coast/ws/'\n",
    "create_dataset('articles.csv', dir_path, washington_state_wire, get_washington_news_article)\n",
    "\n",
    "file_name = os.path.join(dir_path, 'articles.csv')\n",
    "df = pd.read_csv(file_name)\n",
    "\n",
    "df['region'] = 'west-coast'\n",
    "df.to_csv(file_name, index=False)"
   ]
  },
  {
   "cell_type": "code",
   "execution_count": 14,
   "id": "bf6ea464",
   "metadata": {
    "ExecuteTime": {
     "end_time": "2023-11-12T01:25:01.238160Z",
     "start_time": "2023-11-12T01:25:01.208759Z"
    }
   },
   "outputs": [
    {
     "data": {
      "text/html": [
       "<div>\n",
       "<style scoped>\n",
       "    .dataframe tbody tr th:only-of-type {\n",
       "        vertical-align: middle;\n",
       "    }\n",
       "\n",
       "    .dataframe tbody tr th {\n",
       "        vertical-align: top;\n",
       "    }\n",
       "\n",
       "    .dataframe thead th {\n",
       "        text-align: right;\n",
       "    }\n",
       "</style>\n",
       "<table border=\"1\" class=\"dataframe\">\n",
       "  <thead>\n",
       "    <tr style=\"text-align: right;\">\n",
       "      <th></th>\n",
       "      <th>title</th>\n",
       "      <th>article</th>\n",
       "      <th>date</th>\n",
       "      <th>news_source</th>\n",
       "      <th>region</th>\n",
       "    </tr>\n",
       "  </thead>\n",
       "  <tbody>\n",
       "    <tr>\n",
       "      <th>0</th>\n",
       "      <td>Cities awarded funding for electric vehicle ch...</td>\n",
       "      <td>The Washington State Department of Commerce (C...</td>\n",
       "      <td>December 28, 2020</td>\n",
       "      <td>washingtonstatewire</td>\n",
       "      <td>west-coast</td>\n",
       "    </tr>\n",
       "    <tr>\n",
       "      <th>1</th>\n",
       "      <td>Electric Vehicle Tax Break Extension Faces Sti...</td>\n",
       "      <td>Consider the political oddity that is the elec...</td>\n",
       "      <td>January 21, 2015</td>\n",
       "      <td>washingtonstatewire</td>\n",
       "      <td>west-coast</td>\n",
       "    </tr>\n",
       "    <tr>\n",
       "      <th>2</th>\n",
       "      <td>Op-ed: Now is the Time to Electrify Public Veh...</td>\n",
       "      <td>Matthew Metz is the founder and co-executive d...</td>\n",
       "      <td>June 5, 2018</td>\n",
       "      <td>washingtonstatewire</td>\n",
       "      <td>west-coast</td>\n",
       "    </tr>\n",
       "    <tr>\n",
       "      <th>3</th>\n",
       "      <td>Washington State passes law establishing 2030 ...</td>\n",
       "      <td>The Washington State legislature has passed gr...</td>\n",
       "      <td>April 15, 2021</td>\n",
       "      <td>washingtonstatewire</td>\n",
       "      <td>west-coast</td>\n",
       "    </tr>\n",
       "  </tbody>\n",
       "</table>\n",
       "</div>"
      ],
      "text/plain": [
       "                                               title  \\\n",
       "0  Cities awarded funding for electric vehicle ch...   \n",
       "1  Electric Vehicle Tax Break Extension Faces Sti...   \n",
       "2  Op-ed: Now is the Time to Electrify Public Veh...   \n",
       "3  Washington State passes law establishing 2030 ...   \n",
       "\n",
       "                                             article               date  \\\n",
       "0  The Washington State Department of Commerce (C...  December 28, 2020   \n",
       "1  Consider the political oddity that is the elec...   January 21, 2015   \n",
       "2  Matthew Metz is the founder and co-executive d...       June 5, 2018   \n",
       "3  The Washington State legislature has passed gr...     April 15, 2021   \n",
       "\n",
       "           news_source      region  \n",
       "0  washingtonstatewire  west-coast  \n",
       "1  washingtonstatewire  west-coast  \n",
       "2  washingtonstatewire  west-coast  \n",
       "3  washingtonstatewire  west-coast  "
      ]
     },
     "execution_count": 14,
     "metadata": {},
     "output_type": "execute_result"
    }
   ],
   "source": [
    "df_wsw = pd.read_csv(file_name)\n",
    "df_wsw.head()"
   ]
  },
  {
   "cell_type": "markdown",
   "id": "17b469d6",
   "metadata": {},
   "source": [
    "## Central"
   ]
  },
  {
   "cell_type": "markdown",
   "id": "c978e7f6",
   "metadata": {},
   "source": [
    "#### Chicago Sun Times"
   ]
  },
  {
   "cell_type": "code",
   "execution_count": 15,
   "id": "9f5ca712",
   "metadata": {
    "ExecuteTime": {
     "end_time": "2023-11-12T01:25:01.253348Z",
     "start_time": "2023-11-12T01:25:01.240397Z"
    }
   },
   "outputs": [],
   "source": [
    "from datetime import datetime\n",
    "import re"
   ]
  },
  {
   "cell_type": "code",
   "execution_count": 16,
   "id": "9b283a20",
   "metadata": {
    "ExecuteTime": {
     "end_time": "2023-11-12T01:25:03.873636Z",
     "start_time": "2023-11-12T01:25:01.256354Z"
    }
   },
   "outputs": [],
   "source": [
    "news1 = 'https://chicago.suntimes.com/2021/4/5/22368102/electric-cars-vehicles-charging-stations-illinois'\n",
    "news2 = 'https://chicago.suntimes.com/politics/2021/11/16/22785414/illinois-electric-vehicle-legislation-ev-clean-transportation-revolution-pritzker'\n",
    "news3 = 'https://chicago.suntimes.com/2021/4/4/22362953/electric-vehicles-volkswagen-trust-money-illinois-editorial'\n",
    "news4 = 'https://chicago.suntimes.com/2023/7/17/23795105/electric-vehicle-manufacturing-illinois-pritzker-corporate-headquarters-jobs-editorial'\n",
    "\n",
    "cst_news = [news1, news2, news3, news4]\n",
    "\n",
    "def get_cst_news(url):\n",
    "    response = requests.get(url)\n",
    "    response.raise_for_status()\n",
    "    soup = BeautifulSoup(response.text, 'html.parser')\n",
    "    article_content = soup.find('div', class_='RichTextBody')\n",
    "    if article_content:\n",
    "        text = article_content.get_text()\n",
    "    else:\n",
    "        print(\"couldnt find article content\")\n",
    "    title = soup.find('h1', class_='Page-headline').get_text(strip=True)\n",
    "    date = soup.find('div', class_='Page-datePublished').find('bsp-timestamp')\n",
    "    date = re.findall(r'\\d+', str(date))\n",
    "    date = datetime.fromtimestamp(float(date[0])/1000)\n",
    "    news_source = '-'.join(url.split('/')[2].split('.')[:2])\n",
    "\n",
    "    return title, text, date, news_source\n",
    "\n",
    "dir_path = 'news/central/chicago'\n",
    "\n",
    "create_dataset('articles.csv', dir_path, cst_news, get_cst_news)\n",
    "\n",
    "file_name = os.path.join(dir_path, 'articles.csv')\n",
    "df_cst = pd.read_csv(file_name)\n",
    "\n",
    "df_cst['region'] = 'central'\n",
    "df_cst.to_csv(file_name, index=False)"
   ]
  },
  {
   "cell_type": "code",
   "execution_count": 17,
   "id": "6b7500d0",
   "metadata": {
    "ExecuteTime": {
     "end_time": "2023-11-12T01:25:03.889067Z",
     "start_time": "2023-11-12T01:25:03.876636Z"
    }
   },
   "outputs": [
    {
     "data": {
      "text/html": [
       "<div>\n",
       "<style scoped>\n",
       "    .dataframe tbody tr th:only-of-type {\n",
       "        vertical-align: middle;\n",
       "    }\n",
       "\n",
       "    .dataframe tbody tr th {\n",
       "        vertical-align: top;\n",
       "    }\n",
       "\n",
       "    .dataframe thead th {\n",
       "        text-align: right;\n",
       "    }\n",
       "</style>\n",
       "<table border=\"1\" class=\"dataframe\">\n",
       "  <thead>\n",
       "    <tr style=\"text-align: right;\">\n",
       "      <th></th>\n",
       "      <th>title</th>\n",
       "      <th>article</th>\n",
       "      <th>date</th>\n",
       "      <th>news_source</th>\n",
       "      <th>region</th>\n",
       "    </tr>\n",
       "  </thead>\n",
       "  <tbody>\n",
       "    <tr>\n",
       "      <th>0</th>\n",
       "      <td>Electric vehicle charging stations could be bo...</td>\n",
       "      <td>\\nI have owned and driven an electric vehicle ...</td>\n",
       "      <td>2021-04-05 12:30:27</td>\n",
       "      <td>chicago-suntimes</td>\n",
       "      <td>central</td>\n",
       "    </tr>\n",
       "    <tr>\n",
       "      <th>1</th>\n",
       "      <td>Pritzker signs electric vehicle legislation, a...</td>\n",
       "      <td>\\nGov. J.B. Pritzker on Tuesday signed legisla...</td>\n",
       "      <td>2021-11-16 12:03:13</td>\n",
       "      <td>chicago-suntimes</td>\n",
       "      <td>central</td>\n",
       "    </tr>\n",
       "    <tr>\n",
       "      <th>2</th>\n",
       "      <td>Illinois is sitting on millions that could be ...</td>\n",
       "      <td>\\nIllinois has an electric vehicle chicken-and...</td>\n",
       "      <td>2021-04-04 15:52:24</td>\n",
       "      <td>chicago-suntimes</td>\n",
       "      <td>central</td>\n",
       "    </tr>\n",
       "    <tr>\n",
       "      <th>3</th>\n",
       "      <td>Bring electric vehicle manufacturing to Illino...</td>\n",
       "      <td>\\nAs some corporate headquarters decamp for ot...</td>\n",
       "      <td>2023-07-17 07:00:00</td>\n",
       "      <td>chicago-suntimes</td>\n",
       "      <td>central</td>\n",
       "    </tr>\n",
       "  </tbody>\n",
       "</table>\n",
       "</div>"
      ],
      "text/plain": [
       "                                               title  \\\n",
       "0  Electric vehicle charging stations could be bo...   \n",
       "1  Pritzker signs electric vehicle legislation, a...   \n",
       "2  Illinois is sitting on millions that could be ...   \n",
       "3  Bring electric vehicle manufacturing to Illino...   \n",
       "\n",
       "                                             article                 date  \\\n",
       "0  \\nI have owned and driven an electric vehicle ...  2021-04-05 12:30:27   \n",
       "1  \\nGov. J.B. Pritzker on Tuesday signed legisla...  2021-11-16 12:03:13   \n",
       "2  \\nIllinois has an electric vehicle chicken-and...  2021-04-04 15:52:24   \n",
       "3  \\nAs some corporate headquarters decamp for ot...  2023-07-17 07:00:00   \n",
       "\n",
       "        news_source   region  \n",
       "0  chicago-suntimes  central  \n",
       "1  chicago-suntimes  central  \n",
       "2  chicago-suntimes  central  \n",
       "3  chicago-suntimes  central  "
      ]
     },
     "execution_count": 17,
     "metadata": {},
     "output_type": "execute_result"
    }
   ],
   "source": [
    "df_cst"
   ]
  },
  {
   "cell_type": "markdown",
   "id": "603f8f32",
   "metadata": {},
   "source": [
    "#### Minneapolis Star Tribune"
   ]
  },
  {
   "cell_type": "code",
   "execution_count": 18,
   "id": "2a436208",
   "metadata": {
    "ExecuteTime": {
     "end_time": "2023-11-12T01:25:08.947589Z",
     "start_time": "2023-11-12T01:25:03.891402Z"
    }
   },
   "outputs": [],
   "source": [
    "news1 = 'https://web.archive.org/web/20230606091720/https://www.startribune.com/evs-are-only-part-of-the-solution/600276690/'\n",
    "news2 = 'https://web.archive.org/web/20230606091839/https://www.startribune.com/minnesota-ev-hydrogen-clean-energy-transportation-climate-electric-vehicle-st-paul-cummins-native/600276366/'\n",
    "news3 = 'https://web.archive.org/web/20231022194355/https://www.startribune.com/farm-reporter-roams-rural-minnesota-by-ev-and-its-no-easy-task-electric-vehicle-charging-stations/600311652/'\n",
    "news4 = 'https://web.archive.org/web/20231017085213/https://www.startribune.com/minnesota-auto-dealers-lose-court-fight-with-state-pollution-regulators-over-clean-cars-rule/600247837/'\n",
    "\n",
    "mst_news = [news1, news2, news3, news4]\n",
    "\n",
    "def get_mst_news(url):\n",
    "    text = ''\n",
    "    response = requests.get(url)\n",
    "    response.raise_for_status()\n",
    "\n",
    "    soup = BeautifulSoup(response.text, 'html.parser')\n",
    "    title = soup.find('h1', class_='article-headline').get_text(strip=True)\n",
    "    published_date = soup.find('div', class_='article-dateline').get_text(strip=True)\n",
    "    text = soup.find('div', class_='article-body').find_all('p')\n",
    "    text = ' '.join(p.get_text(strip=True) for p in text)\n",
    "    news_source = 'minneapolis-star-tribune'\n",
    "    return title, text, published_date, news_source\n",
    "\n",
    "dir_path = 'news/central/minneapolis'\n",
    "\n",
    "create_dataset('articles.csv', dir_path, mst_news, get_mst_news)\n",
    "\n",
    "file_name = os.path.join(dir_path, 'articles.csv')\n",
    "df_mst = pd.read_csv(file_name)\n",
    "\n",
    "df_mst['region'] = 'central'\n",
    "df_mst.to_csv(file_name, index=False)"
   ]
  },
  {
   "cell_type": "code",
   "execution_count": 19,
   "id": "9e418785",
   "metadata": {
    "ExecuteTime": {
     "end_time": "2023-11-12T01:25:08.962819Z",
     "start_time": "2023-11-12T01:25:08.949598Z"
    }
   },
   "outputs": [
    {
     "data": {
      "text/html": [
       "<div>\n",
       "<style scoped>\n",
       "    .dataframe tbody tr th:only-of-type {\n",
       "        vertical-align: middle;\n",
       "    }\n",
       "\n",
       "    .dataframe tbody tr th {\n",
       "        vertical-align: top;\n",
       "    }\n",
       "\n",
       "    .dataframe thead th {\n",
       "        text-align: right;\n",
       "    }\n",
       "</style>\n",
       "<table border=\"1\" class=\"dataframe\">\n",
       "  <thead>\n",
       "    <tr style=\"text-align: right;\">\n",
       "      <th></th>\n",
       "      <th>title</th>\n",
       "      <th>article</th>\n",
       "      <th>date</th>\n",
       "      <th>news_source</th>\n",
       "      <th>region</th>\n",
       "    </tr>\n",
       "  </thead>\n",
       "  <tbody>\n",
       "    <tr>\n",
       "      <th>0</th>\n",
       "      <td>EVs are only part of the solution</td>\n",
       "      <td>Arresting climate change requires, among other...</td>\n",
       "      <td>May 21, 2023 — 6:00pm</td>\n",
       "      <td>minneapolis-star-tribune</td>\n",
       "      <td>central</td>\n",
       "    </tr>\n",
       "    <tr>\n",
       "      <th>1</th>\n",
       "      <td>Energy secretary announces electric vehicle gr...</td>\n",
       "      <td>Two Minnesota organizations, including a Nativ...</td>\n",
       "      <td>May 19, 2023 — 6:57pm</td>\n",
       "      <td>minneapolis-star-tribune</td>\n",
       "      <td>central</td>\n",
       "    </tr>\n",
       "    <tr>\n",
       "      <th>2</th>\n",
       "      <td>This farm reporter roams rural Minnesota by EV...</td>\n",
       "      <td>The first time I knew our new Nissan Leaf was ...</td>\n",
       "      <td>October 14, 2023 — 1:45pm</td>\n",
       "      <td>minneapolis-star-tribune</td>\n",
       "      <td>central</td>\n",
       "    </tr>\n",
       "    <tr>\n",
       "      <th>3</th>\n",
       "      <td>Minnesota auto dealers lose court fight with s...</td>\n",
       "      <td>The Minnesota Court of Appeals has upheld the ...</td>\n",
       "      <td>January 30, 2023 — 6:18pm</td>\n",
       "      <td>minneapolis-star-tribune</td>\n",
       "      <td>central</td>\n",
       "    </tr>\n",
       "  </tbody>\n",
       "</table>\n",
       "</div>"
      ],
      "text/plain": [
       "                                               title  \\\n",
       "0                  EVs are only part of the solution   \n",
       "1  Energy secretary announces electric vehicle gr...   \n",
       "2  This farm reporter roams rural Minnesota by EV...   \n",
       "3  Minnesota auto dealers lose court fight with s...   \n",
       "\n",
       "                                             article  \\\n",
       "0  Arresting climate change requires, among other...   \n",
       "1  Two Minnesota organizations, including a Nativ...   \n",
       "2  The first time I knew our new Nissan Leaf was ...   \n",
       "3  The Minnesota Court of Appeals has upheld the ...   \n",
       "\n",
       "                        date               news_source   region  \n",
       "0      May 21, 2023 — 6:00pm  minneapolis-star-tribune  central  \n",
       "1      May 19, 2023 — 6:57pm  minneapolis-star-tribune  central  \n",
       "2  October 14, 2023 — 1:45pm  minneapolis-star-tribune  central  \n",
       "3  January 30, 2023 — 6:18pm  minneapolis-star-tribune  central  "
      ]
     },
     "execution_count": 19,
     "metadata": {},
     "output_type": "execute_result"
    }
   ],
   "source": [
    "df_mst"
   ]
  },
  {
   "cell_type": "markdown",
   "id": "d2b5a7d9",
   "metadata": {},
   "source": [
    "#### Houston Chronicle"
   ]
  },
  {
   "cell_type": "code",
   "execution_count": 20,
   "id": "6a1bb4b0",
   "metadata": {
    "ExecuteTime": {
     "end_time": "2023-11-12T01:25:08.978940Z",
     "start_time": "2023-11-12T01:25:08.964938Z"
    }
   },
   "outputs": [],
   "source": [
    "import requests\n",
    "import random"
   ]
  },
  {
   "cell_type": "code",
   "execution_count": 21,
   "id": "93100b77",
   "metadata": {
    "ExecuteTime": {
     "end_time": "2023-11-12T01:25:12.494526Z",
     "start_time": "2023-11-12T01:25:08.980942Z"
    }
   },
   "outputs": [],
   "source": [
    "news1 = 'https://web.archive.org/web/20230128180351/https://www.houstonchronicle.com/local/gray-matters/article/How-electric-vehicles-can-help-cities-like-11219396.php'\n",
    "news2 = 'https://web.archive.org/web/20230128203128/https://www.houstonchronicle.com/opinion/letters/article/electric-vehicles-Tesla-climate-renewables-EV-17728318.php'\n",
    "news3 = 'https://web.archive.org/web/20230703224808/https://www.houstonchronicle.com/business/energy/article/almost-half-u-s-car-buyers-plan-go-electric-next-18182452.php'\n",
    "\n",
    "hc_news = [news1, news2, news3]\n",
    "\n",
    "def get_hc_news(url):\n",
    "    text = ''\n",
    "    response = requests.get(url)\n",
    "    response.raise_for_status()\n",
    "\n",
    "    soup = BeautifulSoup(response.text, 'html.parser')\n",
    "    paragraphs = soup.find_all('p')\n",
    "    title = soup.find('h1', class_='header-title')\n",
    "    if not title or title.text.strip() == '':\n",
    "        title = soup.find('h1', class_='articleHeader--headline')\n",
    "    title = title.text.strip() if title else None\n",
    "    text = ' '.join(p.get_text(strip=True) for p in paragraphs)\n",
    "    published_date = soup.find('time').text\n",
    "    news_source = url.split('/')[7].split('.')[1]\n",
    "    \n",
    "    return title, text, published_date, news_source\n",
    "\n",
    "dir_path = 'news/central/houston/'\n",
    "\n",
    "create_dataset('articles.csv', dir_path, hc_news, get_hc_news)\n",
    "\n",
    "file_name = os.path.join(dir_path, 'articles.csv')\n",
    "df_hc = pd.read_csv(file_name)\n",
    "\n",
    "df_hc['region'] = 'central'\n",
    "df_hc.to_csv(file_name, index=False)"
   ]
  },
  {
   "cell_type": "code",
   "execution_count": 22,
   "id": "674fe870",
   "metadata": {
    "ExecuteTime": {
     "end_time": "2023-11-12T01:25:12.526037Z",
     "start_time": "2023-11-12T01:25:12.497271Z"
    }
   },
   "outputs": [
    {
     "data": {
      "text/html": [
       "<div>\n",
       "<style scoped>\n",
       "    .dataframe tbody tr th:only-of-type {\n",
       "        vertical-align: middle;\n",
       "    }\n",
       "\n",
       "    .dataframe tbody tr th {\n",
       "        vertical-align: top;\n",
       "    }\n",
       "\n",
       "    .dataframe thead th {\n",
       "        text-align: right;\n",
       "    }\n",
       "</style>\n",
       "<table border=\"1\" class=\"dataframe\">\n",
       "  <thead>\n",
       "    <tr style=\"text-align: right;\">\n",
       "      <th></th>\n",
       "      <th>title</th>\n",
       "      <th>article</th>\n",
       "      <th>date</th>\n",
       "      <th>news_source</th>\n",
       "      <th>region</th>\n",
       "    </tr>\n",
       "  </thead>\n",
       "  <tbody>\n",
       "    <tr>\n",
       "      <th>0</th>\n",
       "      <td>How electric vehicles can help cities like Hou...</td>\n",
       "      <td>Houston Mayor Sylvester Turner was one ofmore ...</td>\n",
       "      <td>June 15, 2017</td>\n",
       "      <td>houstonchronicle</td>\n",
       "      <td>central</td>\n",
       "    </tr>\n",
       "    <tr>\n",
       "      <th>1</th>\n",
       "      <td>Opinion: Electric vehicles are no silver bullet</td>\n",
       "      <td>Regarding \"Tomlinson: GM’s new Hummer and othe...</td>\n",
       "      <td>Jan. 20, 2023</td>\n",
       "      <td>houstonchronicle</td>\n",
       "      <td>central</td>\n",
       "    </tr>\n",
       "    <tr>\n",
       "      <th>2</th>\n",
       "      <td>Nearly half of U.S. car buyers plan to go elec...</td>\n",
       "      <td>Analysts at Ernst and Young surveyed 1,500 U.S...</td>\n",
       "      <td>July 3, 2023</td>\n",
       "      <td>houstonchronicle</td>\n",
       "      <td>central</td>\n",
       "    </tr>\n",
       "  </tbody>\n",
       "</table>\n",
       "</div>"
      ],
      "text/plain": [
       "                                               title  \\\n",
       "0  How electric vehicles can help cities like Hou...   \n",
       "1    Opinion: Electric vehicles are no silver bullet   \n",
       "2  Nearly half of U.S. car buyers plan to go elec...   \n",
       "\n",
       "                                             article           date  \\\n",
       "0  Houston Mayor Sylvester Turner was one ofmore ...  June 15, 2017   \n",
       "1  Regarding \"Tomlinson: GM’s new Hummer and othe...  Jan. 20, 2023   \n",
       "2  Analysts at Ernst and Young surveyed 1,500 U.S...   July 3, 2023   \n",
       "\n",
       "        news_source   region  \n",
       "0  houstonchronicle  central  \n",
       "1  houstonchronicle  central  \n",
       "2  houstonchronicle  central  "
      ]
     },
     "execution_count": 22,
     "metadata": {},
     "output_type": "execute_result"
    }
   ],
   "source": [
    "df_hc"
   ]
  },
  {
   "cell_type": "markdown",
   "id": "69301233",
   "metadata": {},
   "source": [
    "#### Dallas News"
   ]
  },
  {
   "cell_type": "code",
   "execution_count": 23,
   "id": "755f3473",
   "metadata": {
    "ExecuteTime": {
     "end_time": "2023-11-12T01:25:19.853383Z",
     "start_time": "2023-11-12T01:25:12.528236Z"
    }
   },
   "outputs": [],
   "source": [
    "news1 = 'https://www.dallasnews.com/business/autos/2022/12/28/2023-tax-credits-may-boost-the-appeal-of-electric-vehicles/'\n",
    "news2 = 'https://www.dallasnews.com/news/2022/10/08/are-electric-vehicles-the-future-heres-what-state-fair-of-texas-visitors-are-saying/'\n",
    "news3 = 'https://www.dallasnews.com/business/autos/2023/04/17/only-10-electric-vehicles-will-qualify-for-7500-tax-credit/'\n",
    "news4 = 'https://www.dallasnews.com/news/politics/2023/07/03/new-texas-laws-aimed-at-sharp-rise-in-electric-vehicle-ownership-in-lone-star-state/'\n",
    "\n",
    "dallas_news = [news1, news2, news3, news4]\n",
    "\n",
    "def get_dallas_news(url):\n",
    "    text = ''\n",
    "    response = requests.get(url)\n",
    "    response.raise_for_status()  # This will raise an exception if there's a HTTP error\n",
    "\n",
    "    soup = BeautifulSoup(response.text, 'html.parser')\n",
    "    paragraphs = soup.find_all('p')\n",
    "    \n",
    "    text = ' '.join(p.get_text(strip=True) for p in paragraphs)\n",
    "    title = soup.find('span', class_='dmnc_generic-header-header-module__i2K-Y mr-7').get_text(strip=True)\n",
    "    date = soup.find('div', class_='text-gray-medium')\n",
    "    second_p = date.find_all('p')[1].get_text(strip=True)\n",
    "    news_source = url.split('/')[2].split('.')[1]\n",
    "    \n",
    "    return title, text, second_p, news_source\n",
    "\n",
    "dir_path = 'news/central/dallas/'\n",
    "create_dataset('articles.csv', dir_path, dallas_news, get_dallas_news)\n",
    "\n",
    "file_name = os.path.join(dir_path, 'articles.csv')\n",
    "df_dn = pd.read_csv(file_name)\n",
    "\n",
    "df_dn['region'] = 'central'\n",
    "df_dn.to_csv(file_name, index=False)"
   ]
  },
  {
   "cell_type": "code",
   "execution_count": 24,
   "id": "a365304d",
   "metadata": {
    "ExecuteTime": {
     "end_time": "2023-11-12T01:25:19.868892Z",
     "start_time": "2023-11-12T01:25:19.856404Z"
    }
   },
   "outputs": [
    {
     "data": {
      "text/html": [
       "<div>\n",
       "<style scoped>\n",
       "    .dataframe tbody tr th:only-of-type {\n",
       "        vertical-align: middle;\n",
       "    }\n",
       "\n",
       "    .dataframe tbody tr th {\n",
       "        vertical-align: top;\n",
       "    }\n",
       "\n",
       "    .dataframe thead th {\n",
       "        text-align: right;\n",
       "    }\n",
       "</style>\n",
       "<table border=\"1\" class=\"dataframe\">\n",
       "  <thead>\n",
       "    <tr style=\"text-align: right;\">\n",
       "      <th></th>\n",
       "      <th>title</th>\n",
       "      <th>article</th>\n",
       "      <th>date</th>\n",
       "      <th>news_source</th>\n",
       "      <th>region</th>\n",
       "    </tr>\n",
       "  </thead>\n",
       "  <tbody>\n",
       "    <tr>\n",
       "      <th>0</th>\n",
       "      <td>2023 tax credits may boost the appeal of elect...</td>\n",
       "      <td>businessAutos ByThe Associated Press 5:38 AM o...</td>\n",
       "      <td>5:38 AM on Dec 28, 2022 CST</td>\n",
       "      <td>dallasnews</td>\n",
       "      <td>central</td>\n",
       "    </tr>\n",
       "    <tr>\n",
       "      <th>1</th>\n",
       "      <td>Are electric vehicles the future? Here’s what ...</td>\n",
       "      <td>News ByNoor Adatia 8:00 AM on Oct 8, 2022 CDT ...</td>\n",
       "      <td>8:00 AM on Oct 8, 2022 CDT</td>\n",
       "      <td>dallasnews</td>\n",
       "      <td>central</td>\n",
       "    </tr>\n",
       "    <tr>\n",
       "      <th>2</th>\n",
       "      <td>Only 10 electric vehicles will qualify for $7,...</td>\n",
       "      <td>businessAutos ByThe Associated Press 1:38 PM o...</td>\n",
       "      <td>1:38 PM on Apr 17, 2023 CDT</td>\n",
       "      <td>dallasnews</td>\n",
       "      <td>central</td>\n",
       "    </tr>\n",
       "    <tr>\n",
       "      <th>3</th>\n",
       "      <td>New Texas laws aimed at sharp rise in electric...</td>\n",
       "      <td>newsPolitics ByAarón Torres 6:00 AM on Jul 3, ...</td>\n",
       "      <td>6:00 AM on Jul 3, 2023 CDT</td>\n",
       "      <td>dallasnews</td>\n",
       "      <td>central</td>\n",
       "    </tr>\n",
       "  </tbody>\n",
       "</table>\n",
       "</div>"
      ],
      "text/plain": [
       "                                               title  \\\n",
       "0  2023 tax credits may boost the appeal of elect...   \n",
       "1  Are electric vehicles the future? Here’s what ...   \n",
       "2  Only 10 electric vehicles will qualify for $7,...   \n",
       "3  New Texas laws aimed at sharp rise in electric...   \n",
       "\n",
       "                                             article  \\\n",
       "0  businessAutos ByThe Associated Press 5:38 AM o...   \n",
       "1  News ByNoor Adatia 8:00 AM on Oct 8, 2022 CDT ...   \n",
       "2  businessAutos ByThe Associated Press 1:38 PM o...   \n",
       "3  newsPolitics ByAarón Torres 6:00 AM on Jul 3, ...   \n",
       "\n",
       "                          date news_source   region  \n",
       "0  5:38 AM on Dec 28, 2022 CST  dallasnews  central  \n",
       "1   8:00 AM on Oct 8, 2022 CDT  dallasnews  central  \n",
       "2  1:38 PM on Apr 17, 2023 CDT  dallasnews  central  \n",
       "3   6:00 AM on Jul 3, 2023 CDT  dallasnews  central  "
      ]
     },
     "execution_count": 24,
     "metadata": {},
     "output_type": "execute_result"
    }
   ],
   "source": [
    "df_dn.head()"
   ]
  },
  {
   "cell_type": "markdown",
   "id": "b2bac6f0",
   "metadata": {},
   "source": [
    "## East Coast"
   ]
  },
  {
   "cell_type": "markdown",
   "id": "b190acdf",
   "metadata": {},
   "source": [
    "#### Washington Post"
   ]
  },
  {
   "cell_type": "code",
   "execution_count": 25,
   "id": "4f845223",
   "metadata": {
    "ExecuteTime": {
     "end_time": "2023-11-12T01:26:05.256900Z",
     "start_time": "2023-11-12T01:25:19.872135Z"
    }
   },
   "outputs": [],
   "source": [
    "news1 = 'https://www.washingtonpost.com/climate-environment/2023/09/19/electric-cars-better-environment-fossil-fuels/'\n",
    "news2 = 'https://www.washingtonpost.com/business/energy/2023/05/17/electric-vehicles-are-an-imperfect-answer-to-climate-change/44085522-f4ad-11ed-918d-012572d64930_story.html'\n",
    "news3 = 'https://www.washingtonpost.com/climate-environment/2023/04/11/electric-vehicle-buying-guide/'\n",
    "news4 = 'https://www.washingtonpost.com/climate-solutions/2023/11/09/car-dealerships-ev-sales/'\n",
    "news5 = 'https://www.washingtonpost.com/climate-environment/2023/06/13/electric-vehicles-power-grid-solar-panels-climate-change/'\n",
    "\n",
    "wp_news = [news1, news2, news3, news4, news5]\n",
    "\n",
    "def get_wp_news(url):\n",
    "    text = ''\n",
    "    response = requests.get(url)\n",
    "    response.raise_for_status()\n",
    "\n",
    "    soup = BeautifulSoup(response.text, 'html.parser')\n",
    "    paragraphs = soup.find_all('p')\n",
    "    title = soup.find('h1').get_text()\n",
    "    text = ' '.join(p.get_text(strip=True) for p in paragraphs)\n",
    "    published_date = soup.find('div', attrs={'data-testid': 'timestamp'}).get_text()\n",
    "    news_source = 'washington-post'\n",
    "    \n",
    "    return title, text, published_date, news_source\n",
    "\n",
    "dir_path = 'news/east-coast/dc'\n",
    "\n",
    "create_dataset('articles.csv', dir_path, wp_news, get_wp_news)\n",
    "\n",
    "file_name = os.path.join(dir_path, 'articles.csv')\n",
    "df_wp = pd.read_csv(file_name)\n",
    "\n",
    "df_wp['region'] = 'east-coast'\n",
    "df_wp.to_csv(file_name, index=False)"
   ]
  },
  {
   "cell_type": "code",
   "execution_count": 26,
   "id": "c67e54d3",
   "metadata": {
    "ExecuteTime": {
     "end_time": "2023-11-12T01:26:05.272304Z",
     "start_time": "2023-11-12T01:26:05.259045Z"
    }
   },
   "outputs": [
    {
     "data": {
      "text/html": [
       "<div>\n",
       "<style scoped>\n",
       "    .dataframe tbody tr th:only-of-type {\n",
       "        vertical-align: middle;\n",
       "    }\n",
       "\n",
       "    .dataframe tbody tr th {\n",
       "        vertical-align: top;\n",
       "    }\n",
       "\n",
       "    .dataframe thead th {\n",
       "        text-align: right;\n",
       "    }\n",
       "</style>\n",
       "<table border=\"1\" class=\"dataframe\">\n",
       "  <thead>\n",
       "    <tr style=\"text-align: right;\">\n",
       "      <th></th>\n",
       "      <th>title</th>\n",
       "      <th>article</th>\n",
       "      <th>date</th>\n",
       "      <th>news_source</th>\n",
       "      <th>region</th>\n",
       "    </tr>\n",
       "  </thead>\n",
       "  <tbody>\n",
       "    <tr>\n",
       "      <th>0</th>\n",
       "      <td>Are electric cars really better for the enviro...</td>\n",
       "      <td>Electric vehicles, you might have heard, have ...</td>\n",
       "      <td>September 19, 2023 at 6:30 a.m. EDT</td>\n",
       "      <td>washington-post</td>\n",
       "      <td>east-coast</td>\n",
       "    </tr>\n",
       "    <tr>\n",
       "      <th>1</th>\n",
       "      <td>Electric Vehicles Alone Can’t Solve Climate Ch...</td>\n",
       "      <td>Arresting climate change requires, among other...</td>\n",
       "      <td>May 17, 2023 at 8:04 a.m. EDT</td>\n",
       "      <td>washington-post</td>\n",
       "      <td>east-coast</td>\n",
       "    </tr>\n",
       "    <tr>\n",
       "      <th>2</th>\n",
       "      <td>Buy an electric vehicle now or wait? Here’s ho...</td>\n",
       "      <td>Thecoronaviruspandemic saw a virtually unprece...</td>\n",
       "      <td>April 11, 2023 at 6:30 a.m. EDT</td>\n",
       "      <td>washington-post</td>\n",
       "      <td>east-coast</td>\n",
       "    </tr>\n",
       "    <tr>\n",
       "      <th>3</th>\n",
       "      <td>Electric vehicles are hitting a road block: Ca...</td>\n",
       "      <td>As news started coming out aboutelectric carsi...</td>\n",
       "      <td>Updated November 9, 2023 at 12:10 p.m. EST|Pub...</td>\n",
       "      <td>washington-post</td>\n",
       "      <td>east-coast</td>\n",
       "    </tr>\n",
       "    <tr>\n",
       "      <th>4</th>\n",
       "      <td>Why EVs won’t crash the electric grid — and more</td>\n",
       "      <td>Climate Coach readers are thinking hard about ...</td>\n",
       "      <td>June 13, 2023 at 6:30 a.m. EDT</td>\n",
       "      <td>washington-post</td>\n",
       "      <td>east-coast</td>\n",
       "    </tr>\n",
       "  </tbody>\n",
       "</table>\n",
       "</div>"
      ],
      "text/plain": [
       "                                               title  \\\n",
       "0  Are electric cars really better for the enviro...   \n",
       "1  Electric Vehicles Alone Can’t Solve Climate Ch...   \n",
       "2  Buy an electric vehicle now or wait? Here’s ho...   \n",
       "3  Electric vehicles are hitting a road block: Ca...   \n",
       "4   Why EVs won’t crash the electric grid — and more   \n",
       "\n",
       "                                             article  \\\n",
       "0  Electric vehicles, you might have heard, have ...   \n",
       "1  Arresting climate change requires, among other...   \n",
       "2  Thecoronaviruspandemic saw a virtually unprece...   \n",
       "3  As news started coming out aboutelectric carsi...   \n",
       "4  Climate Coach readers are thinking hard about ...   \n",
       "\n",
       "                                                date      news_source  \\\n",
       "0                September 19, 2023 at 6:30 a.m. EDT  washington-post   \n",
       "1                      May 17, 2023 at 8:04 a.m. EDT  washington-post   \n",
       "2                    April 11, 2023 at 6:30 a.m. EDT  washington-post   \n",
       "3  Updated November 9, 2023 at 12:10 p.m. EST|Pub...  washington-post   \n",
       "4                     June 13, 2023 at 6:30 a.m. EDT  washington-post   \n",
       "\n",
       "       region  \n",
       "0  east-coast  \n",
       "1  east-coast  \n",
       "2  east-coast  \n",
       "3  east-coast  \n",
       "4  east-coast  "
      ]
     },
     "execution_count": 26,
     "metadata": {},
     "output_type": "execute_result"
    }
   ],
   "source": [
    "df_wp"
   ]
  },
  {
   "cell_type": "markdown",
   "id": "9429d4ea",
   "metadata": {},
   "source": [
    "####  New York Times"
   ]
  },
  {
   "cell_type": "code",
   "execution_count": 27,
   "id": "eaeb5ac1",
   "metadata": {
    "ExecuteTime": {
     "end_time": "2023-11-12T01:26:10.628869Z",
     "start_time": "2023-11-12T01:26:05.275496Z"
    }
   },
   "outputs": [],
   "source": [
    "news1 = 'https://web.archive.org/web/20231103120806/https://www.nytimes.com/2021/03/02/climate/electric-vehicles-environment.html#:~:text=Around%20the%20world%2C%20governments%20and,pivot%20to%20battery%2Dpowered%20models.'\n",
    "news2 = 'https://web.archive.org/web/20231104012045/https://www.nytimes.com/interactive/2021/01/15/climate/electric-car-cost.html'\n",
    "news3 = 'https://web.archive.org/web/20230920204337/https://www.nytimes.com/interactive/2023/04/14/climate/electric-car-heater-everything.html'\n",
    "news4 = 'https://web.archive.org/web/20231030153715/https://www.nytimes.com/2022/08/08/business/energy-environment/electric-vehicles-climate-bill.html'\n",
    "news5 = 'https://web.archive.org/web/20231110204200/https://www.nytimes.com/2023/11/07/business/energy-environment/electric-vehicles-sales.html'\n",
    "\n",
    "nyt_news = [news1, news2, news3, news4, news5]\n",
    "\n",
    "def get_nyt_news(url):\n",
    "    text = ''\n",
    "    response = requests.get(url)\n",
    "    response.raise_for_status()\n",
    "\n",
    "    soup = BeautifulSoup(response.text, 'html.parser')\n",
    "    paragraphs = soup.find_all('p')\n",
    "    title = soup.find('h1', attrs={'data-testid': 'headline'}).get_text()\n",
    "    text = ' '.join(p.get_text(strip=True) for p in paragraphs)\n",
    "    published_date = soup.find('time').text\n",
    "    news_source = 'new-york-times'\n",
    "    \n",
    "    return title, text, published_date, news_source\n",
    "\n",
    "dir_path = 'news/east-coast/nyc'\n",
    "\n",
    "create_dataset('articles.csv', dir_path, nyt_news, get_nyt_news)\n",
    "\n",
    "file_name = os.path.join(dir_path, 'articles.csv')\n",
    "df_nyt = pd.read_csv(file_name)\n",
    "\n",
    "df_nyt['region'] = 'east-coast'\n",
    "df_nyt.to_csv(file_name, index=False)"
   ]
  },
  {
   "cell_type": "code",
   "execution_count": 28,
   "id": "8fc64355",
   "metadata": {
    "ExecuteTime": {
     "end_time": "2023-11-12T01:26:10.660813Z",
     "start_time": "2023-11-12T01:26:10.636494Z"
    }
   },
   "outputs": [
    {
     "data": {
      "text/html": [
       "<div>\n",
       "<style scoped>\n",
       "    .dataframe tbody tr th:only-of-type {\n",
       "        vertical-align: middle;\n",
       "    }\n",
       "\n",
       "    .dataframe tbody tr th {\n",
       "        vertical-align: top;\n",
       "    }\n",
       "\n",
       "    .dataframe thead th {\n",
       "        text-align: right;\n",
       "    }\n",
       "</style>\n",
       "<table border=\"1\" class=\"dataframe\">\n",
       "  <thead>\n",
       "    <tr style=\"text-align: right;\">\n",
       "      <th></th>\n",
       "      <th>title</th>\n",
       "      <th>article</th>\n",
       "      <th>date</th>\n",
       "      <th>news_source</th>\n",
       "      <th>region</th>\n",
       "    </tr>\n",
       "  </thead>\n",
       "  <tbody>\n",
       "    <tr>\n",
       "      <th>0</th>\n",
       "      <td>How Green Are Electric Vehicles?</td>\n",
       "      <td>Advertisement Supported by In short: Very gree...</td>\n",
       "      <td>Published March 2, 2021Updated June 23, 2023</td>\n",
       "      <td>new-york-times</td>\n",
       "      <td>east-coast</td>\n",
       "    </tr>\n",
       "    <tr>\n",
       "      <th>1</th>\n",
       "      <td>Electric Cars Are Better for the Planet – and ...</td>\n",
       "      <td>Advertisement ByVeronica PenneyJan. 15, 2021 E...</td>\n",
       "      <td>Jan. 15, 2021</td>\n",
       "      <td>new-york-times</td>\n",
       "      <td>east-coast</td>\n",
       "    </tr>\n",
       "    <tr>\n",
       "      <th>2</th>\n",
       "      <td>How Electrifying Everything Became a Key Clima...</td>\n",
       "      <td>Advertisement ByNadja PopovichandBrad PlumerAp...</td>\n",
       "      <td>April 14, 2023</td>\n",
       "      <td>new-york-times</td>\n",
       "      <td>east-coast</td>\n",
       "    </tr>\n",
       "    <tr>\n",
       "      <th>3</th>\n",
       "      <td>Electric Cars Too Costly for Many, Even With A...</td>\n",
       "      <td>Advertisement Supported by Battery-powered veh...</td>\n",
       "      <td>Published Aug. 8, 2022Updated Aug. 9, 2022</td>\n",
       "      <td>new-york-times</td>\n",
       "      <td>east-coast</td>\n",
       "    </tr>\n",
       "    <tr>\n",
       "      <th>4</th>\n",
       "      <td>Automakers Delay Electric Vehicle Spending as ...</td>\n",
       "      <td>Advertisement Supported by Growth is brisk but...</td>\n",
       "      <td>Nov. 7, 2023</td>\n",
       "      <td>new-york-times</td>\n",
       "      <td>east-coast</td>\n",
       "    </tr>\n",
       "  </tbody>\n",
       "</table>\n",
       "</div>"
      ],
      "text/plain": [
       "                                               title  \\\n",
       "0                   How Green Are Electric Vehicles?   \n",
       "1  Electric Cars Are Better for the Planet – and ...   \n",
       "2  How Electrifying Everything Became a Key Clima...   \n",
       "3  Electric Cars Too Costly for Many, Even With A...   \n",
       "4  Automakers Delay Electric Vehicle Spending as ...   \n",
       "\n",
       "                                             article  \\\n",
       "0  Advertisement Supported by In short: Very gree...   \n",
       "1  Advertisement ByVeronica PenneyJan. 15, 2021 E...   \n",
       "2  Advertisement ByNadja PopovichandBrad PlumerAp...   \n",
       "3  Advertisement Supported by Battery-powered veh...   \n",
       "4  Advertisement Supported by Growth is brisk but...   \n",
       "\n",
       "                                           date     news_source      region  \n",
       "0  Published March 2, 2021Updated June 23, 2023  new-york-times  east-coast  \n",
       "1                                 Jan. 15, 2021  new-york-times  east-coast  \n",
       "2                                April 14, 2023  new-york-times  east-coast  \n",
       "3    Published Aug. 8, 2022Updated Aug. 9, 2022  new-york-times  east-coast  \n",
       "4                                  Nov. 7, 2023  new-york-times  east-coast  "
      ]
     },
     "execution_count": 28,
     "metadata": {},
     "output_type": "execute_result"
    }
   ],
   "source": [
    "df_nyt"
   ]
  },
  {
   "cell_type": "markdown",
   "id": "d5e73d94",
   "metadata": {},
   "source": [
    "#### Baltimore Sun"
   ]
  },
  {
   "cell_type": "code",
   "execution_count": 29,
   "id": "12e7284c",
   "metadata": {
    "ExecuteTime": {
     "end_time": "2023-11-12T01:26:10.676289Z",
     "start_time": "2023-11-12T01:26:10.663814Z"
    }
   },
   "outputs": [],
   "source": [
    "news1 = 'https://www.baltimoresun.com/business/ct-biz-electric-vehicles-tax-credits-ap-20220809-xyjdmajuurh4lehqct2mek7nly-story.html'\n",
    "news2 = 'https://www.baltimoresun.com/opinion/columnists/dan-rodricks/bs-ed-rodricks-0816-electric-cars-20220816-jx5tqcuzhffmrh5un3mubollri-story.html'\n",
    "news3 = 'https://www.baltimoresun.com/business/ct-biz-rivian-georgia-meeting-20220420-qjctyvdlqfal5gyncifphhxpzu-story.html'\n",
    "news4 = 'https://www.baltimoresun.com/news/environment/bs-md-hogan-administration-california-electric-cars-rule-20221213-ag72mp7qrfe2jb23yhym5hapqe-story.html'\n",
    "news5 = 'https://www.baltimoresun.com/news/environment/bs-md-california-electric-vehicle-rule-20230313-44vamz2vczevvahuhivdluqscy-story.html'\n",
    "\n",
    "maryland_news = [news1, news2, news3, news4, news5]\n",
    "\n",
    "def get_maryland_news(url):\n",
    "    text = ''\n",
    "    response = requests.get(url)\n",
    "    response.raise_for_status()  # This will raise an exception if there's a HTTP error\n",
    "\n",
    "    soup = BeautifulSoup(response.text, 'html.parser')\n",
    "    title = soup.find('h1', class_='headline').get_text(strip=True)\n",
    "    \n",
    "    paragraphs = soup.find('article', class_='article-body-wrapper-custom')\n",
    "    text = ' '.join(p.get_text(strip=True) for p in paragraphs.find_all('p'))\n",
    "    \n",
    "    date = soup.find('time')\n",
    "    datetime_value = date['datetime']\n",
    "    \n",
    "    news_source = url.split('/')[2].split('.')[1]\n",
    "    \n",
    "    return title, text, datetime_value, news_source\n"
   ]
  },
  {
   "cell_type": "code",
   "execution_count": 30,
   "id": "10d83d0d",
   "metadata": {
    "ExecuteTime": {
     "end_time": "2023-11-12T01:26:15.135016Z",
     "start_time": "2023-11-12T01:26:10.678909Z"
    }
   },
   "outputs": [],
   "source": [
    "dir_path = 'news/east-coast/md/'\n",
    "create_dataset('articles.csv', dir_path, maryland_news, get_maryland_news)\n",
    "\n",
    "file_name = os.path.join(dir_path, 'articles.csv')\n",
    "df_md = pd.read_csv(file_name)\n",
    "\n",
    "df_md['region'] = 'east-coast'\n",
    "df_md.to_csv(file_name, index=False)"
   ]
  },
  {
   "cell_type": "code",
   "execution_count": 31,
   "id": "4ac20c95",
   "metadata": {
    "ExecuteTime": {
     "end_time": "2023-11-12T01:26:15.150595Z",
     "start_time": "2023-11-12T01:26:15.138067Z"
    }
   },
   "outputs": [
    {
     "data": {
      "text/html": [
       "<div>\n",
       "<style scoped>\n",
       "    .dataframe tbody tr th:only-of-type {\n",
       "        vertical-align: middle;\n",
       "    }\n",
       "\n",
       "    .dataframe tbody tr th {\n",
       "        vertical-align: top;\n",
       "    }\n",
       "\n",
       "    .dataframe thead th {\n",
       "        text-align: right;\n",
       "    }\n",
       "</style>\n",
       "<table border=\"1\" class=\"dataframe\">\n",
       "  <thead>\n",
       "    <tr style=\"text-align: right;\">\n",
       "      <th></th>\n",
       "      <th>title</th>\n",
       "      <th>article</th>\n",
       "      <th>date</th>\n",
       "      <th>news_source</th>\n",
       "      <th>region</th>\n",
       "    </tr>\n",
       "  </thead>\n",
       "  <tbody>\n",
       "    <tr>\n",
       "      <th>0</th>\n",
       "      <td>Most electric vehicles won’t qualify for feder...</td>\n",
       "      <td>DETROIT — A tax credit of up to $7,500 could b...</td>\n",
       "      <td>2022-08-09 10:54:00</td>\n",
       "      <td>baltimoresun</td>\n",
       "      <td>east-coast</td>\n",
       "    </tr>\n",
       "    <tr>\n",
       "      <th>1</th>\n",
       "      <td>Dan Rodricks: All charged up for an electric c...</td>\n",
       "      <td>If you own an electric car or truck, or drive ...</td>\n",
       "      <td>2022-08-16 11:12:00</td>\n",
       "      <td>baltimoresun</td>\n",
       "      <td>east-coast</td>\n",
       "    </tr>\n",
       "    <tr>\n",
       "      <th>2</th>\n",
       "      <td>Rivian electric car plant blasted by foes at G...</td>\n",
       "      <td>MONROE, Ga. — Opponents trying to derail a $5 ...</td>\n",
       "      <td>2022-04-20 12:13:00</td>\n",
       "      <td>baltimoresun</td>\n",
       "      <td>east-coast</td>\n",
       "    </tr>\n",
       "    <tr>\n",
       "      <th>3</th>\n",
       "      <td>Hogan administration won’t match California’s ...</td>\n",
       "      <td>Maryland Gov. Larry Hogan’s administration won...</td>\n",
       "      <td>2022-12-14 15:59:00</td>\n",
       "      <td>baltimoresun</td>\n",
       "      <td>east-coast</td>\n",
       "    </tr>\n",
       "    <tr>\n",
       "      <th>4</th>\n",
       "      <td>California electric vehicle rule takes another...</td>\n",
       "      <td>Maryland took a big step Monday toward eventua...</td>\n",
       "      <td>2023-03-13 17:52:00</td>\n",
       "      <td>baltimoresun</td>\n",
       "      <td>east-coast</td>\n",
       "    </tr>\n",
       "  </tbody>\n",
       "</table>\n",
       "</div>"
      ],
      "text/plain": [
       "                                               title  \\\n",
       "0  Most electric vehicles won’t qualify for feder...   \n",
       "1  Dan Rodricks: All charged up for an electric c...   \n",
       "2  Rivian electric car plant blasted by foes at G...   \n",
       "3  Hogan administration won’t match California’s ...   \n",
       "4  California electric vehicle rule takes another...   \n",
       "\n",
       "                                             article                 date  \\\n",
       "0  DETROIT — A tax credit of up to $7,500 could b...  2022-08-09 10:54:00   \n",
       "1  If you own an electric car or truck, or drive ...  2022-08-16 11:12:00   \n",
       "2  MONROE, Ga. — Opponents trying to derail a $5 ...  2022-04-20 12:13:00   \n",
       "3  Maryland Gov. Larry Hogan’s administration won...  2022-12-14 15:59:00   \n",
       "4  Maryland took a big step Monday toward eventua...  2023-03-13 17:52:00   \n",
       "\n",
       "    news_source      region  \n",
       "0  baltimoresun  east-coast  \n",
       "1  baltimoresun  east-coast  \n",
       "2  baltimoresun  east-coast  \n",
       "3  baltimoresun  east-coast  \n",
       "4  baltimoresun  east-coast  "
      ]
     },
     "execution_count": 31,
     "metadata": {},
     "output_type": "execute_result"
    }
   ],
   "source": [
    "df_md"
   ]
  },
  {
   "cell_type": "code",
   "execution_count": null,
   "id": "ec4e096a",
   "metadata": {},
   "outputs": [],
   "source": []
  }
 ],
 "metadata": {
  "kernelspec": {
   "display_name": "Python 3 (ipykernel)",
   "language": "python",
   "name": "python3"
  },
  "language_info": {
   "codemirror_mode": {
    "name": "ipython",
    "version": 3
   },
   "file_extension": ".py",
   "mimetype": "text/x-python",
   "name": "python",
   "nbconvert_exporter": "python",
   "pygments_lexer": "ipython3",
   "version": "3.9.18"
  }
 },
 "nbformat": 4,
 "nbformat_minor": 5
}
