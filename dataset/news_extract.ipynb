{
 "cells": [
  {
   "cell_type": "code",
   "execution_count": 1,
   "id": "e21f00c0",
   "metadata": {
    "ExecuteTime": {
     "end_time": "2023-10-26T22:08:28.416702Z",
     "start_time": "2023-10-26T22:08:27.710130Z"
    }
   },
   "outputs": [],
   "source": [
    "import pandas as pd\n",
    "import numpy as np\n",
    "import requests\n",
    "from bs4 import BeautifulSoup\n",
    "import os\n",
    "import csv\n"
   ]
  },
  {
   "cell_type": "code",
   "execution_count": 2,
   "id": "78052206",
   "metadata": {
    "ExecuteTime": {
     "end_time": "2023-10-26T22:08:28.432387Z",
     "start_time": "2023-10-26T22:08:28.418878Z"
    }
   },
   "outputs": [],
   "source": [
    "washington_state_wire = []"
   ]
  },
  {
   "cell_type": "code",
   "execution_count": 7,
   "id": "fe227377",
   "metadata": {},
   "outputs": [],
   "source": [
    "with open('news_articles_links/washington_state_wire.txt', 'r') as file:\n",
    "    for line in file:\n",
    "        url = line.strip()\n",
    "        washington_state_wire.append(url)"
   ]
  },
  {
   "cell_type": "code",
   "execution_count": 24,
   "id": "822ef0d4",
   "metadata": {
    "ExecuteTime": {
     "end_time": "2023-10-26T22:08:28.447278Z",
     "start_time": "2023-10-26T22:08:28.433397Z"
    }
   },
   "outputs": [],
   "source": [
    "def get_washington_news_article(url):\n",
    "    response = requests.get(url)\n",
    "    response.raise_for_status()\n",
    "    soup = BeautifulSoup(response.text, 'html.parser')\n",
    "    \n",
    "    title = soup.find('h1', class_='story-title').get_text(strip=True)\n",
    "    date = soup.find('span', class_='story-date').get_text(strip=True)\n",
    "    \n",
    "    article_content = soup.find('div', class_='story-content').get_text(strip=True)\n",
    "    news_source = url.split('/')[2].split('.')[0]\n",
    "    if article_content:\n",
    "        return title, article_content, date, news_source\n",
    "    else:\n",
    "        print(\"couldnt find the article content\")"
   ]
  },
  {
   "cell_type": "code",
   "execution_count": 25,
   "id": "1cdd7d8f",
   "metadata": {},
   "outputs": [
    {
     "data": {
      "text/plain": [
       "('Cities awarded funding for electric vehicle charging stations',\n",
       " 'The Washington State Department of Commerce (COM) has awarded $9.8 million in Electrification of Transportation Systems (ETS) grants for 14 projects located in cities across the state.These grant awards follow an initial round of 37 applications totaling $25 million in requests for funding, according to COM.The Morning Wire: Keeping you informed on politics, policies, and personalities of Washington State.The agency says that priority was given to projects designed to close gaps in availability of EV charging infrastructure and aid communities disproportionately impacted by climate change and pollution from transportation systems.Investing in the electrification of transportation is essential to Washington’s clean energy future and for equitable economic recovery and growth throughout the state,” said Commerce Director Lisa Brown. “Importantly, these projects cover the entire state, supporting expansion of EV infrastructure that will benefit the most communities.”The grants will come out of the state’s Clean Energy Fund. In total, COM says that the projects will result in over 320 new plugs in 11 counties installing Level 2 charging stations.Here are the proposed projects that were awarded grants:City of Anacortes– $28,804for the installation of level 2 chargers for public and fleet EV charging at City Hall and public library parking lots.City of Bellingham– $1.5 millionto install charging stations on city-owned land for public, fleet and workplace use, including DC fast charging stations near on-and-off-ramps to Interstate 5, Level 2 charging stations at established parking locations, and off-grid solar chargers at areas with higher use during summer travel months.City of Tacoma– $597,558for additional EV charging stations in the downtown area, including both Level 2 and DC fast chargers at sites serving local workplaces and event centers.Clallam County– $67,890to provide charging stations at the Clallam County Courthouse to serve employees, residents, visitors and county fleet vehicles.Energy Northwest – $1.2 millionto install a charging station network along the White Pass Scenic Byway, including stations in Lewis and Yakima counties.Port of Longview – $96,800to install Level 2 charging stations to support port fleet vehicle charging, paid workplace charging and paid public charging.Port of Seattle– $1.2 millionto install DC fast charging EV chargers in the Seattle-Tacoma International Airport (SEA) transportation networking company/taxi holding lot, providing thousands of end-users with an opportunity to transition to electric vehicles.Puget Sound Energy– $77,762to install a Level 2 charger serving a shared, light-duty electric vehicle that affordable housing residents may access for transportation in Auburn.Seattle City Light– $600,000to install battery-integrated EV fast chargers on a city-owned parcel in the Belltown neighborhood of Seattle, serving ride hail and taxi drivers, residents of nearby multi-unit dwellings and employees of nearby workplaces.Skagit County– $989,521to procure and construct shore-side EVSE for a 28-car, 150-passenger battery electric ferry for service to Guemes Island.Snohomish County Public Utility District #1– $135,582to install charging stations at a newly-constructed affordable multi-family housing and commercial building serving the formerly homeless in Everett.Snohomish County Public Utility District #1– $728,780to install an en-route induction bus charging station as a demonstration project for regional transit agencies and fleets.Spokane Regional Transportation Council– $2.5 millionto install, in a consortium with Avista and member agencies, Level 2 and DC fast charging plugs at 51 strategic locations throughout Spokane County. Chargers will be used for a variety of purposes including public, fleet, workplace and bus charging.Town of Cathlamet – $109,410to install the only DCFC (Level 3) charger in rural Wahkiakum County, adjacent to State Route 4 and along State Route 409, an important rural highway connecting Washington to Oregon via the Oscar B. toll vehicle ferry.In addition to prioritizing communities disproportionately impacted by climate change and pollution from transportation systems, COM says that the grants also prioritized communities underserved by existing electric transportation infrastructure. The proposed projects are designed to advance zero-emission transportation technology.Among the eligible applicants were federally-recognized Tribes, local governments and retail electric utilities. The grant funding is conditional upon final project details and execution of contracts.Theclimate package released by Gov. Insleeearlier this month proposes a $100 million investment in the Clean Energy Fund, including $20 million for transportation electrification in order to expand the ETS grant program.Your support matters.Public service journalism is important today as ever. If you get something from our coverage, please considermaking a donationto support our work. Thanks for reading our stuff.Share This:',\n",
       " 'December 28, 2020',\n",
       " 'washingtonstatewire')"
      ]
     },
     "execution_count": 25,
     "metadata": {},
     "output_type": "execute_result"
    }
   ],
   "source": [
    "get_washington_news_article('https://washingtonstatewire.com/cities-awarded-funding-for-electric-vehicle-charging-stations/')"
   ]
  },
  {
   "cell_type": "code",
   "execution_count": 4,
   "id": "addfb754",
   "metadata": {
    "ExecuteTime": {
     "end_time": "2023-10-26T22:08:28.462648Z",
     "start_time": "2023-10-26T22:08:28.450283Z"
    }
   },
   "outputs": [],
   "source": [
    "def create_dataset(file_name, dir_path, news_source, news_fetcher):\n",
    "    os.makedirs(dir_path, exist_ok=True)\n",
    "    csv_filename = os.path.join(dir_path, file_name)\n",
    "    \n",
    "    with open(csv_filename, 'w', newline='', encoding='utf-8') as file:\n",
    "        writer = csv.writer(file)\n",
    "        writer.writerow(['title', 'article', 'date', 'news_source'])\n",
    "        \n",
    "        for news in news_source:\n",
    "            title, article, date, news_source = news_fetcher(news)\n",
    "            writer.writerow([title, article, date, news_source])"
   ]
  },
  {
   "cell_type": "code",
   "execution_count": 5,
   "id": "d50f3470",
   "metadata": {
    "ExecuteTime": {
     "end_time": "2023-10-26T22:08:29.710178Z",
     "start_time": "2023-10-26T22:08:28.464172Z"
    }
   },
   "outputs": [],
   "source": [
    "dir_path = 'news/washington-state/'\n",
    "create_dataset('articles.csv', dir_path, washington_state_wire, get_washington_news_article)\n",
    "\n",
    "file_name = os.path.join(dir_path, 'articles.csv')\n",
    "df = pd.read_csv(file_name)\n",
    "\n",
    "df['state'] = 'washington-state'\n",
    "df.to_csv(file_name, index=False)\n"
   ]
  },
  {
   "cell_type": "code",
   "execution_count": 6,
   "id": "a674e1f7",
   "metadata": {
    "ExecuteTime": {
     "end_time": "2023-10-26T22:08:29.742356Z",
     "start_time": "2023-10-26T22:08:29.712690Z"
    }
   },
   "outputs": [
    {
     "data": {
      "text/html": [
       "<div>\n",
       "<style scoped>\n",
       "    .dataframe tbody tr th:only-of-type {\n",
       "        vertical-align: middle;\n",
       "    }\n",
       "\n",
       "    .dataframe tbody tr th {\n",
       "        vertical-align: top;\n",
       "    }\n",
       "\n",
       "    .dataframe thead th {\n",
       "        text-align: right;\n",
       "    }\n",
       "</style>\n",
       "<table border=\"1\" class=\"dataframe\">\n",
       "  <thead>\n",
       "    <tr style=\"text-align: right;\">\n",
       "      <th></th>\n",
       "      <th>title</th>\n",
       "      <th>article</th>\n",
       "      <th>date</th>\n",
       "      <th>news_source</th>\n",
       "      <th>state</th>\n",
       "    </tr>\n",
       "  </thead>\n",
       "  <tbody>\n",
       "    <tr>\n",
       "      <th>0</th>\n",
       "      <td>Cities awarded funding for electric vehicle ch...</td>\n",
       "      <td>The Washington State Department of Commerce (C...</td>\n",
       "      <td>December 28, 2020</td>\n",
       "      <td>washingtonstatewire</td>\n",
       "      <td>washington-state</td>\n",
       "    </tr>\n",
       "    <tr>\n",
       "      <th>1</th>\n",
       "      <td>Adapt or mitigate? Washington Republicans roll...</td>\n",
       "      <td>A new proposal from Washington State Republica...</td>\n",
       "      <td>November 30, 2021</td>\n",
       "      <td>washingtonstatewire</td>\n",
       "      <td>washington-state</td>\n",
       "    </tr>\n",
       "    <tr>\n",
       "      <th>2</th>\n",
       "      <td>Op-ed: Now is the Time to Electrify Public Veh...</td>\n",
       "      <td>Matthew Metz is the founder and co-executive d...</td>\n",
       "      <td>June 5, 2018</td>\n",
       "      <td>washingtonstatewire</td>\n",
       "      <td>washington-state</td>\n",
       "    </tr>\n",
       "    <tr>\n",
       "      <th>3</th>\n",
       "      <td>Washington State passes law establishing 2030 ...</td>\n",
       "      <td>The Washington State legislature has passed gr...</td>\n",
       "      <td>April 15, 2021</td>\n",
       "      <td>washingtonstatewire</td>\n",
       "      <td>washington-state</td>\n",
       "    </tr>\n",
       "    <tr>\n",
       "      <th>4</th>\n",
       "      <td>Electric Vehicle Tax Break Extension Faces Sti...</td>\n",
       "      <td>Consider the political oddity that is the elec...</td>\n",
       "      <td>January 21, 2015</td>\n",
       "      <td>washingtonstatewire</td>\n",
       "      <td>washington-state</td>\n",
       "    </tr>\n",
       "  </tbody>\n",
       "</table>\n",
       "</div>"
      ],
      "text/plain": [
       "                                               title  \\\n",
       "0  Cities awarded funding for electric vehicle ch...   \n",
       "1  Adapt or mitigate? Washington Republicans roll...   \n",
       "2  Op-ed: Now is the Time to Electrify Public Veh...   \n",
       "3  Washington State passes law establishing 2030 ...   \n",
       "4  Electric Vehicle Tax Break Extension Faces Sti...   \n",
       "\n",
       "                                             article               date  \\\n",
       "0  The Washington State Department of Commerce (C...  December 28, 2020   \n",
       "1  A new proposal from Washington State Republica...  November 30, 2021   \n",
       "2  Matthew Metz is the founder and co-executive d...       June 5, 2018   \n",
       "3  The Washington State legislature has passed gr...     April 15, 2021   \n",
       "4  Consider the political oddity that is the elec...   January 21, 2015   \n",
       "\n",
       "           news_source             state  \n",
       "0  washingtonstatewire  washington-state  \n",
       "1  washingtonstatewire  washington-state  \n",
       "2  washingtonstatewire  washington-state  \n",
       "3  washingtonstatewire  washington-state  \n",
       "4  washingtonstatewire  washington-state  "
      ]
     },
     "execution_count": 6,
     "metadata": {},
     "output_type": "execute_result"
    }
   ],
   "source": [
    "df = pd.read_csv(file_name)\n",
    "df.head()"
   ]
  },
  {
   "cell_type": "markdown",
   "id": "4f512632",
   "metadata": {},
   "source": [
    "# Los angeles daily news"
   ]
  },
  {
   "cell_type": "code",
   "execution_count": 9,
   "id": "5b870870",
   "metadata": {
    "ExecuteTime": {
     "end_time": "2023-10-26T22:08:29.757705Z",
     "start_time": "2023-10-26T22:08:29.744903Z"
    }
   },
   "outputs": [],
   "source": [
    "la_daily_news = []"
   ]
  },
  {
   "cell_type": "code",
   "execution_count": 10,
   "id": "8bad9fb9",
   "metadata": {},
   "outputs": [],
   "source": [
    "with open('news_articles_links/la_daily_news.txt', 'r') as file:\n",
    "    for line in file:\n",
    "        url = line.strip()\n",
    "        la_daily_news.append(url)"
   ]
  },
  {
   "cell_type": "code",
   "execution_count": 11,
   "id": "314e7c7c",
   "metadata": {},
   "outputs": [
    {
     "data": {
      "text/plain": [
       "['https://www.dailynews.com/2023/10/18/pennsylvania-regulators-follow-californias-lead-with-the-same-abysmal-results/',\n",
       " 'https://www.dailynews.com/2023/10/22/proposed-tax-credit-could-help-landscapers-transition-to-electric-leaf-blowers-lawn-mowers/',\n",
       " 'https://www.dailynews.com/2023/10/09/tesla-prices-now-rival-average-us-carsafter-billions-in-cuts/',\n",
       " 'https://www.dailynews.com/2023/09/22/why-cant-americans-buy-cheap-chinese-evs/']"
      ]
     },
     "execution_count": 11,
     "metadata": {},
     "output_type": "execute_result"
    }
   ],
   "source": [
    "la_daily_news"
   ]
  },
  {
   "cell_type": "code",
   "execution_count": 7,
   "id": "e71657ac",
   "metadata": {
    "ExecuteTime": {
     "end_time": "2023-10-26T22:08:29.757705Z",
     "start_time": "2023-10-26T22:08:29.744903Z"
    }
   },
   "outputs": [],
   "source": [
    "def get_la_news(url):\n",
    "    response = requests.get(url)\n",
    "    response.raise_for_status()\n",
    "    soup = BeautifulSoup(response.text, 'html.parser')\n",
    "    article_content = soup.find('div', class_='article-body').get_text(strip=True)\n",
    "    title = soup.find('span', class_='metered').get_text(strip=True)\n",
    "    date = soup.find('time', class_='updated').get_text(strip=True)\n",
    "    news_source = url.split('/')[2].split('.')[1]\n",
    "    \n",
    "    if article_content:\n",
    "        return title, article_content, date, news_source\n",
    "    else:\n",
    "        print(\"couldnt find article content\")"
   ]
  },
  {
   "cell_type": "code",
   "execution_count": 8,
   "id": "4cabebf4",
   "metadata": {
    "ExecuteTime": {
     "end_time": "2023-10-26T22:08:30.394469Z",
     "start_time": "2023-10-26T22:08:29.759307Z"
    }
   },
   "outputs": [],
   "source": [
    "dir_path = 'news/california/la/'\n",
    "create_dataset('articles.csv', dir_path, la_daily_news, get_la_news)\n",
    "\n",
    "file_name = os.path.join(dir_path, 'articles.csv')\n",
    "df = pd.read_csv(file_name)\n",
    "\n",
    "df['state'] = 'california-la'\n",
    "df.to_csv(file_name, index=False)\n"
   ]
  },
  {
   "cell_type": "code",
   "execution_count": 9,
   "id": "08145609",
   "metadata": {
    "ExecuteTime": {
     "end_time": "2023-10-26T22:08:30.409787Z",
     "start_time": "2023-10-26T22:08:30.396460Z"
    }
   },
   "outputs": [
    {
     "data": {
      "text/html": [
       "<div>\n",
       "<style scoped>\n",
       "    .dataframe tbody tr th:only-of-type {\n",
       "        vertical-align: middle;\n",
       "    }\n",
       "\n",
       "    .dataframe tbody tr th {\n",
       "        vertical-align: top;\n",
       "    }\n",
       "\n",
       "    .dataframe thead th {\n",
       "        text-align: right;\n",
       "    }\n",
       "</style>\n",
       "<table border=\"1\" class=\"dataframe\">\n",
       "  <thead>\n",
       "    <tr style=\"text-align: right;\">\n",
       "      <th></th>\n",
       "      <th>title</th>\n",
       "      <th>article</th>\n",
       "      <th>date</th>\n",
       "      <th>news_source</th>\n",
       "      <th>state</th>\n",
       "    </tr>\n",
       "  </thead>\n",
       "  <tbody>\n",
       "    <tr>\n",
       "      <th>0</th>\n",
       "      <td>Pennsylvania regulators follow…</td>\n",
       "      <td>Pennsylvania’s Peter Brothers Trucking deliver...</td>\n",
       "      <td>October 18, 2023 at 5:01 a.m.</td>\n",
       "      <td>dailynews</td>\n",
       "      <td>california-la</td>\n",
       "    </tr>\n",
       "    <tr>\n",
       "      <th>1</th>\n",
       "      <td>Proposed tax credit could help landscapers…</td>\n",
       "      <td>When Sana Sirodan and her team launched Greenp...</td>\n",
       "      <td>October 22, 2023 at 7:01 a.m.</td>\n",
       "      <td>dailynews</td>\n",
       "      <td>california-la</td>\n",
       "    </tr>\n",
       "    <tr>\n",
       "      <th>2</th>\n",
       "      <td>Tesla prices rival average US cars after…</td>\n",
       "      <td>By Tom Randall| BloombergTesla Inc.’s top-sell...</td>\n",
       "      <td>October 9, 2023 at 9:40 a.m.</td>\n",
       "      <td>dailynews</td>\n",
       "      <td>california-la</td>\n",
       "    </tr>\n",
       "    <tr>\n",
       "      <th>3</th>\n",
       "      <td>Why can’t Americans buy cheap Chinese…</td>\n",
       "      <td>By Kyle Stock | BloombergEV variety is easy to...</td>\n",
       "      <td>September 22, 2023 at 12:04 p.m.</td>\n",
       "      <td>dailynews</td>\n",
       "      <td>california-la</td>\n",
       "    </tr>\n",
       "  </tbody>\n",
       "</table>\n",
       "</div>"
      ],
      "text/plain": [
       "                                         title  \\\n",
       "0              Pennsylvania regulators follow…   \n",
       "1  Proposed tax credit could help landscapers…   \n",
       "2    Tesla prices rival average US cars after…   \n",
       "3       Why can’t Americans buy cheap Chinese…   \n",
       "\n",
       "                                             article  \\\n",
       "0  Pennsylvania’s Peter Brothers Trucking deliver...   \n",
       "1  When Sana Sirodan and her team launched Greenp...   \n",
       "2  By Tom Randall| BloombergTesla Inc.’s top-sell...   \n",
       "3  By Kyle Stock | BloombergEV variety is easy to...   \n",
       "\n",
       "                               date news_source          state  \n",
       "0     October 18, 2023 at 5:01 a.m.   dailynews  california-la  \n",
       "1     October 22, 2023 at 7:01 a.m.   dailynews  california-la  \n",
       "2      October 9, 2023 at 9:40 a.m.   dailynews  california-la  \n",
       "3  September 22, 2023 at 12:04 p.m.   dailynews  california-la  "
      ]
     },
     "execution_count": 9,
     "metadata": {},
     "output_type": "execute_result"
    }
   ],
   "source": [
    "df.head()"
   ]
  },
  {
   "cell_type": "markdown",
   "id": "22fc428a",
   "metadata": {},
   "source": [
    "# San francisco chronicles"
   ]
  },
  {
   "cell_type": "code",
   "execution_count": 12,
   "id": "621d17a0",
   "metadata": {
    "ExecuteTime": {
     "end_time": "2023-10-26T22:08:30.425345Z",
     "start_time": "2023-10-26T22:08:30.413537Z"
    }
   },
   "outputs": [],
   "source": [
    "sf_chronicles_news = []"
   ]
  },
  {
   "cell_type": "code",
   "execution_count": 13,
   "id": "dd3730c6",
   "metadata": {},
   "outputs": [],
   "source": [
    "with open('news_articles_links/sf_chronicles_news.txt', 'r') as file:\n",
    "    for line in file:\n",
    "        url = line.strip()\n",
    "        sf_chronicles_news.append(url)"
   ]
  },
  {
   "cell_type": "code",
   "execution_count": 14,
   "id": "d7d4710b",
   "metadata": {},
   "outputs": [
    {
     "data": {
      "text/plain": [
       "['https://web.archive.org/web/20190323184608/https://www.sfchronicle.com/bayarea/article/Environmental-groups-want-SF-to-nudge-Uber-Lyft-13707375.php',\n",
       " 'https://web.archive.org/web/20190716185842/https://www.sfchronicle.com/bayarea/article/To-cut-carbon-footprint-SF-moves-to-eliminate-14097997.php',\n",
       " 'https://web.archive.org/web/20230320181546/https://www.sfchronicle.com/bayarea/article/With-new-grant-program-Bay-Area-spreads-electric-14888605.php',\n",
       " 'https://web.archive.org/web/20230129201621/https://www.sfchronicle.com/bayarea/article/Berkeley-to-considering-banning-the-sale-of-15862688.php']"
      ]
     },
     "execution_count": 14,
     "metadata": {},
     "output_type": "execute_result"
    }
   ],
   "source": [
    "sf_chronicles_news"
   ]
  },
  {
   "cell_type": "code",
   "execution_count": 10,
   "id": "00bfd838",
   "metadata": {
    "ExecuteTime": {
     "end_time": "2023-10-26T22:08:30.425345Z",
     "start_time": "2023-10-26T22:08:30.413537Z"
    }
   },
   "outputs": [],
   "source": [
    "def get_sf_news(url):\n",
    "    text = ''\n",
    "    response = requests.get(url)\n",
    "    response.raise_for_status()\n",
    "\n",
    "    soup = BeautifulSoup(response.text, 'html.parser')\n",
    "    paragraphs = soup.find_all('p')\n",
    "    title = soup.find('h1', class_='header-title')\n",
    "    if not title or title.text.strip() == '':\n",
    "        title = soup.find('h1', class_='articleHeader--headline')\n",
    "    title = title.text.strip() if title else None\n",
    "    text = ' '.join(p.get_text(strip=True) for p in paragraphs)\n",
    "    published_date = soup.find('time').text\n",
    "    news_source = url.split('/')[7].split('.')[1]\n",
    "    \n",
    "    return title, text, published_date, news_source\n",
    " "
   ]
  },
  {
   "cell_type": "code",
   "execution_count": 11,
   "id": "2cd27e6f",
   "metadata": {
    "ExecuteTime": {
     "end_time": "2023-10-26T22:08:32.742989Z",
     "start_time": "2023-10-26T22:08:30.426947Z"
    }
   },
   "outputs": [],
   "source": [
    "dir_path = 'news/california/sf/'\n",
    "\n",
    "create_dataset('articles.csv', dir_path, sf_chronicles_news, get_sf_news)\n",
    "\n",
    "file_name = os.path.join(dir_path, 'articles.csv')\n",
    "df = pd.read_csv(file_name)\n",
    "\n",
    "df['state'] = 'california-sf'\n",
    "df.to_csv(file_name, index=False)"
   ]
  },
  {
   "cell_type": "code",
   "execution_count": 12,
   "id": "09044413",
   "metadata": {
    "ExecuteTime": {
     "end_time": "2023-10-26T22:08:32.774084Z",
     "start_time": "2023-10-26T22:08:32.744355Z"
    }
   },
   "outputs": [
    {
     "data": {
      "text/html": [
       "<div>\n",
       "<style scoped>\n",
       "    .dataframe tbody tr th:only-of-type {\n",
       "        vertical-align: middle;\n",
       "    }\n",
       "\n",
       "    .dataframe tbody tr th {\n",
       "        vertical-align: top;\n",
       "    }\n",
       "\n",
       "    .dataframe thead th {\n",
       "        text-align: right;\n",
       "    }\n",
       "</style>\n",
       "<table border=\"1\" class=\"dataframe\">\n",
       "  <thead>\n",
       "    <tr style=\"text-align: right;\">\n",
       "      <th></th>\n",
       "      <th>title</th>\n",
       "      <th>article</th>\n",
       "      <th>date</th>\n",
       "      <th>news_source</th>\n",
       "      <th>state</th>\n",
       "    </tr>\n",
       "  </thead>\n",
       "  <tbody>\n",
       "    <tr>\n",
       "      <th>0</th>\n",
       "      <td>Environmental groups want SF to nudge Uber, Ly...</td>\n",
       "      <td>Environmental advocates want San Francisco to ...</td>\n",
       "      <td>\\n            March 21, 2019\\n</td>\n",
       "      <td>sfchronicle</td>\n",
       "      <td>california-sf</td>\n",
       "    </tr>\n",
       "    <tr>\n",
       "      <th>1</th>\n",
       "      <td>To cut carbon footprint, SF moves to eliminate...</td>\n",
       "      <td>San Francisco officials want to shrink the cit...</td>\n",
       "      <td>\\n            July 16, 2019\\n</td>\n",
       "      <td>sfchronicle</td>\n",
       "      <td>california-sf</td>\n",
       "    </tr>\n",
       "    <tr>\n",
       "      <th>2</th>\n",
       "      <td>With new grant program, Bay Area spreads elect...</td>\n",
       "      <td>This is a carousel. Use Next and Previous butt...</td>\n",
       "      <td>Dec. 7, 2019</td>\n",
       "      <td>sfchronicle</td>\n",
       "      <td>california-sf</td>\n",
       "    </tr>\n",
       "    <tr>\n",
       "      <th>3</th>\n",
       "      <td>Berkeley considers banning the sale of gas-pow...</td>\n",
       "      <td>This is a carousel. Use Next and Previous butt...</td>\n",
       "      <td>Jan. 11, 2021</td>\n",
       "      <td>sfchronicle</td>\n",
       "      <td>california-sf</td>\n",
       "    </tr>\n",
       "  </tbody>\n",
       "</table>\n",
       "</div>"
      ],
      "text/plain": [
       "                                               title  \\\n",
       "0  Environmental groups want SF to nudge Uber, Ly...   \n",
       "1  To cut carbon footprint, SF moves to eliminate...   \n",
       "2  With new grant program, Bay Area spreads elect...   \n",
       "3  Berkeley considers banning the sale of gas-pow...   \n",
       "\n",
       "                                             article  \\\n",
       "0  Environmental advocates want San Francisco to ...   \n",
       "1  San Francisco officials want to shrink the cit...   \n",
       "2  This is a carousel. Use Next and Previous butt...   \n",
       "3  This is a carousel. Use Next and Previous butt...   \n",
       "\n",
       "                                     date  news_source          state  \n",
       "0  \\n            March 21, 2019\\n          sfchronicle  california-sf  \n",
       "1   \\n            July 16, 2019\\n          sfchronicle  california-sf  \n",
       "2                            Dec. 7, 2019  sfchronicle  california-sf  \n",
       "3                           Jan. 11, 2021  sfchronicle  california-sf  "
      ]
     },
     "execution_count": 12,
     "metadata": {},
     "output_type": "execute_result"
    }
   ],
   "source": [
    "df = pd.read_csv('news/california/sf/articles.csv')\n",
    "df.head()"
   ]
  },
  {
   "cell_type": "markdown",
   "id": "bb7efb23",
   "metadata": {},
   "source": [
    "# illinois"
   ]
  },
  {
   "cell_type": "code",
   "execution_count": 15,
   "id": "67ad3040",
   "metadata": {
    "ExecuteTime": {
     "end_time": "2023-10-26T22:08:33.840433Z",
     "start_time": "2023-10-26T22:08:32.776216Z"
    }
   },
   "outputs": [],
   "source": [
    "cst_news = []"
   ]
  },
  {
   "cell_type": "code",
   "execution_count": 16,
   "id": "4c56ee9f",
   "metadata": {},
   "outputs": [],
   "source": [
    "with open('news_articles_links/cst_news.txt', 'r') as file:\n",
    "    for line in file:\n",
    "        url = line.strip()\n",
    "        cst_news.append(url)"
   ]
  },
  {
   "cell_type": "code",
   "execution_count": 17,
   "id": "63314a7c",
   "metadata": {},
   "outputs": [
    {
     "data": {
      "text/plain": [
       "['https://chicago.suntimes.com/2021/4/5/22368102/electric-cars-vehicles-charging-stations-illinois',\n",
       " 'https://chicago.suntimes.com/politics/2021/11/16/22785414/illinois-electric-vehicle-legislation-ev-clean-transportation-revolution-pritzker',\n",
       " 'https://chicago.suntimes.com/2021/4/4/22362953/electric-vehicles-volkswagen-trust-money-illinois-editorial',\n",
       " 'https://chicago.suntimes.com/2023/7/17/23795105/electric-vehicle-manufacturing-illinois-pritzker-corporate-headquarters-jobs-editorial',\n",
       " 'https://chicago.suntimes.com/2018/1/14/18356079/ford-to-bring-out-40-electrics-hybrids-by-2022']"
      ]
     },
     "execution_count": 17,
     "metadata": {},
     "output_type": "execute_result"
    }
   ],
   "source": [
    "cst_news"
   ]
  },
  {
   "cell_type": "code",
   "execution_count": 13,
   "id": "f8ddf3d4",
   "metadata": {
    "ExecuteTime": {
     "end_time": "2023-10-26T22:08:33.840433Z",
     "start_time": "2023-10-26T22:08:32.776216Z"
    }
   },
   "outputs": [],
   "source": [
    "def get_cst_news(url):\n",
    "    response = requests.get(url)\n",
    "    response.raise_for_status()\n",
    "    soup = BeautifulSoup(response.text, 'html.parser')\n",
    "    article_content = soup.find('div', class_='RichTextBody')\n",
    "    if article_content:\n",
    "        text = article_content.get_text()\n",
    "    else:\n",
    "        print(\"couldnt find article content\")\n",
    "    title = soup.find('h1', class_='Page-headline').get_text(strip=True)\n",
    "    date = 'nan'\n",
    "    news_source = '-'.join(url.split('/')[2].split('.')[:2])\n",
    "\n",
    "    return title, text, date, news_source\n",
    "\n",
    "dir_path = 'news/illinois/'\n",
    "\n",
    "create_dataset('articles.csv', dir_path, cst_news, get_cst_news)\n",
    "\n",
    "file_name = os.path.join(dir_path, 'articles.csv')\n",
    "df = pd.read_csv(file_name)\n",
    "\n",
    "df['state'] = 'illinois'\n",
    "df.to_csv(file_name, index=False)"
   ]
  },
  {
   "cell_type": "code",
   "execution_count": 14,
   "id": "a01ea0be",
   "metadata": {
    "ExecuteTime": {
     "end_time": "2023-10-26T22:08:33.855579Z",
     "start_time": "2023-10-26T22:08:33.842944Z"
    }
   },
   "outputs": [
    {
     "data": {
      "text/html": [
       "<div>\n",
       "<style scoped>\n",
       "    .dataframe tbody tr th:only-of-type {\n",
       "        vertical-align: middle;\n",
       "    }\n",
       "\n",
       "    .dataframe tbody tr th {\n",
       "        vertical-align: top;\n",
       "    }\n",
       "\n",
       "    .dataframe thead th {\n",
       "        text-align: right;\n",
       "    }\n",
       "</style>\n",
       "<table border=\"1\" class=\"dataframe\">\n",
       "  <thead>\n",
       "    <tr style=\"text-align: right;\">\n",
       "      <th></th>\n",
       "      <th>title</th>\n",
       "      <th>article</th>\n",
       "      <th>date</th>\n",
       "      <th>news_source</th>\n",
       "      <th>state</th>\n",
       "    </tr>\n",
       "  </thead>\n",
       "  <tbody>\n",
       "    <tr>\n",
       "      <th>0</th>\n",
       "      <td>Electric vehicle charging stations could be bo...</td>\n",
       "      <td>\\nI have owned and driven an electric vehicle ...</td>\n",
       "      <td>NaN</td>\n",
       "      <td>chicago-suntimes</td>\n",
       "      <td>illinois</td>\n",
       "    </tr>\n",
       "    <tr>\n",
       "      <th>1</th>\n",
       "      <td>Pritzker signs electric vehicle legislation, a...</td>\n",
       "      <td>\\nGov. J.B. Pritzker on Tuesday signed legisla...</td>\n",
       "      <td>NaN</td>\n",
       "      <td>chicago-suntimes</td>\n",
       "      <td>illinois</td>\n",
       "    </tr>\n",
       "    <tr>\n",
       "      <th>2</th>\n",
       "      <td>Illinois is sitting on millions that could be ...</td>\n",
       "      <td>\\nIllinois has an electric vehicle chicken-and...</td>\n",
       "      <td>NaN</td>\n",
       "      <td>chicago-suntimes</td>\n",
       "      <td>illinois</td>\n",
       "    </tr>\n",
       "    <tr>\n",
       "      <th>3</th>\n",
       "      <td>Bring electric vehicle manufacturing to Illino...</td>\n",
       "      <td>\\nAs some corporate headquarters decamp for ot...</td>\n",
       "      <td>NaN</td>\n",
       "      <td>chicago-suntimes</td>\n",
       "      <td>illinois</td>\n",
       "    </tr>\n",
       "    <tr>\n",
       "      <th>4</th>\n",
       "      <td>Ford to bring out 40 electrics, hybrids by 2022</td>\n",
       "      <td>\\nDETROIT — Ford Motor Co. said it’s doubling ...</td>\n",
       "      <td>NaN</td>\n",
       "      <td>chicago-suntimes</td>\n",
       "      <td>illinois</td>\n",
       "    </tr>\n",
       "  </tbody>\n",
       "</table>\n",
       "</div>"
      ],
      "text/plain": [
       "                                               title  \\\n",
       "0  Electric vehicle charging stations could be bo...   \n",
       "1  Pritzker signs electric vehicle legislation, a...   \n",
       "2  Illinois is sitting on millions that could be ...   \n",
       "3  Bring electric vehicle manufacturing to Illino...   \n",
       "4    Ford to bring out 40 electrics, hybrids by 2022   \n",
       "\n",
       "                                             article  date       news_source  \\\n",
       "0  \\nI have owned and driven an electric vehicle ...   NaN  chicago-suntimes   \n",
       "1  \\nGov. J.B. Pritzker on Tuesday signed legisla...   NaN  chicago-suntimes   \n",
       "2  \\nIllinois has an electric vehicle chicken-and...   NaN  chicago-suntimes   \n",
       "3  \\nAs some corporate headquarters decamp for ot...   NaN  chicago-suntimes   \n",
       "4  \\nDETROIT — Ford Motor Co. said it’s doubling ...   NaN  chicago-suntimes   \n",
       "\n",
       "      state  \n",
       "0  illinois  \n",
       "1  illinois  \n",
       "2  illinois  \n",
       "3  illinois  \n",
       "4  illinois  "
      ]
     },
     "execution_count": 14,
     "metadata": {},
     "output_type": "execute_result"
    }
   ],
   "source": [
    "df.head()"
   ]
  },
  {
   "cell_type": "markdown",
   "id": "300bf07c",
   "metadata": {},
   "source": [
    "# Texas"
   ]
  },
  {
   "cell_type": "code",
   "execution_count": 18,
   "id": "b2bb6415",
   "metadata": {
    "ExecuteTime": {
     "end_time": "2023-10-26T22:08:36.862580Z",
     "start_time": "2023-10-26T22:08:33.857159Z"
    }
   },
   "outputs": [],
   "source": [
    "dallas_news = []"
   ]
  },
  {
   "cell_type": "code",
   "execution_count": 19,
   "id": "2e658fdf",
   "metadata": {},
   "outputs": [],
   "source": [
    "with open('news_articles_links/dallas_news.txt', 'r') as file:\n",
    "    for line in file:\n",
    "        url = line.strip()\n",
    "        dallas_news.append(url)"
   ]
  },
  {
   "cell_type": "code",
   "execution_count": 20,
   "id": "6254aa31",
   "metadata": {},
   "outputs": [
    {
     "data": {
      "text/plain": [
       "['https://www.dallasnews.com/business/autos/2022/12/28/2023-tax-credits-may-boost-the-appeal-of-electric-vehicles/',\n",
       " 'https://www.dallasnews.com/news/2022/10/08/are-electric-vehicles-the-future-heres-what-state-fair-of-texas-visitors-are-saying/',\n",
       " 'https://www.dallasnews.com/business/autos/2023/04/17/only-10-electric-vehicles-will-qualify-for-7500-tax-credit/',\n",
       " 'https://www.dallasnews.com/news/politics/2023/07/03/new-texas-laws-aimed-at-sharp-rise-in-electric-vehicle-ownership-in-lone-star-state/']"
      ]
     },
     "execution_count": 20,
     "metadata": {},
     "output_type": "execute_result"
    }
   ],
   "source": [
    "dallas_news"
   ]
  },
  {
   "cell_type": "code",
   "execution_count": 15,
   "id": "9afdd025",
   "metadata": {
    "ExecuteTime": {
     "end_time": "2023-10-26T22:08:36.862580Z",
     "start_time": "2023-10-26T22:08:33.857159Z"
    }
   },
   "outputs": [],
   "source": [
    "def get_dallas_news(url):\n",
    "    text = ''\n",
    "    response = requests.get(url)\n",
    "    response.raise_for_status()  # This will raise an exception if there's a HTTP error\n",
    "\n",
    "    soup = BeautifulSoup(response.text, 'html.parser')\n",
    "    paragraphs = soup.find_all('p')\n",
    "    \n",
    "    text = ' '.join(p.get_text(strip=True) for p in paragraphs)\n",
    "    title = soup.find('span', class_='dmnc_generic-header-header-module__i2K-Y mr-7').get_text(strip=True)\n",
    "    date = soup.find('div', class_='text-gray-medium')\n",
    "    second_p = date.find_all('p')[1].get_text(strip=True)\n",
    "    news_source = url.split('/')[2].split('.')[1]\n",
    "    \n",
    "    return title, text, second_p, news_source\n",
    "\n",
    "dir_path = 'news/texas/'\n",
    "create_dataset('articles.csv', dir_path, dallas_news, get_dallas_news)\n",
    "\n",
    "file_name = os.path.join(dir_path, 'articles.csv')\n",
    "df = pd.read_csv(file_name)\n",
    "\n",
    "df['state'] = 'texas'\n",
    "df.to_csv(file_name, index=False)"
   ]
  },
  {
   "cell_type": "code",
   "execution_count": 16,
   "id": "3720bb95",
   "metadata": {
    "ExecuteTime": {
     "end_time": "2023-10-26T22:08:36.878490Z",
     "start_time": "2023-10-26T22:08:36.865139Z"
    }
   },
   "outputs": [
    {
     "data": {
      "text/html": [
       "<div>\n",
       "<style scoped>\n",
       "    .dataframe tbody tr th:only-of-type {\n",
       "        vertical-align: middle;\n",
       "    }\n",
       "\n",
       "    .dataframe tbody tr th {\n",
       "        vertical-align: top;\n",
       "    }\n",
       "\n",
       "    .dataframe thead th {\n",
       "        text-align: right;\n",
       "    }\n",
       "</style>\n",
       "<table border=\"1\" class=\"dataframe\">\n",
       "  <thead>\n",
       "    <tr style=\"text-align: right;\">\n",
       "      <th></th>\n",
       "      <th>title</th>\n",
       "      <th>article</th>\n",
       "      <th>date</th>\n",
       "      <th>news_source</th>\n",
       "      <th>state</th>\n",
       "    </tr>\n",
       "  </thead>\n",
       "  <tbody>\n",
       "    <tr>\n",
       "      <th>0</th>\n",
       "      <td>2023 tax credits may boost the appeal of elect...</td>\n",
       "      <td>businessAutos ByThe Associated Press 5:38 AM o...</td>\n",
       "      <td>5:38 AM on Dec 28, 2022 CST</td>\n",
       "      <td>dallasnews</td>\n",
       "      <td>texas</td>\n",
       "    </tr>\n",
       "    <tr>\n",
       "      <th>1</th>\n",
       "      <td>Are electric vehicles the future? Here’s what ...</td>\n",
       "      <td>News ByNoor Adatia 8:00 AM on Oct 8, 2022 CDT ...</td>\n",
       "      <td>8:00 AM on Oct 8, 2022 CDT</td>\n",
       "      <td>dallasnews</td>\n",
       "      <td>texas</td>\n",
       "    </tr>\n",
       "    <tr>\n",
       "      <th>2</th>\n",
       "      <td>Only 10 electric vehicles will qualify for $7,...</td>\n",
       "      <td>businessAutos ByThe Associated Press 1:38 PM o...</td>\n",
       "      <td>1:38 PM on Apr 17, 2023 CDT</td>\n",
       "      <td>dallasnews</td>\n",
       "      <td>texas</td>\n",
       "    </tr>\n",
       "    <tr>\n",
       "      <th>3</th>\n",
       "      <td>New Texas laws aimed at sharp rise in electric...</td>\n",
       "      <td>newsPolitics ByAarón Torres 6:00 AM on Jul 3, ...</td>\n",
       "      <td>6:00 AM on Jul 3, 2023 CDT</td>\n",
       "      <td>dallasnews</td>\n",
       "      <td>texas</td>\n",
       "    </tr>\n",
       "  </tbody>\n",
       "</table>\n",
       "</div>"
      ],
      "text/plain": [
       "                                               title  \\\n",
       "0  2023 tax credits may boost the appeal of elect...   \n",
       "1  Are electric vehicles the future? Here’s what ...   \n",
       "2  Only 10 electric vehicles will qualify for $7,...   \n",
       "3  New Texas laws aimed at sharp rise in electric...   \n",
       "\n",
       "                                             article  \\\n",
       "0  businessAutos ByThe Associated Press 5:38 AM o...   \n",
       "1  News ByNoor Adatia 8:00 AM on Oct 8, 2022 CDT ...   \n",
       "2  businessAutos ByThe Associated Press 1:38 PM o...   \n",
       "3  newsPolitics ByAarón Torres 6:00 AM on Jul 3, ...   \n",
       "\n",
       "                          date news_source  state  \n",
       "0  5:38 AM on Dec 28, 2022 CST  dallasnews  texas  \n",
       "1   8:00 AM on Oct 8, 2022 CDT  dallasnews  texas  \n",
       "2  1:38 PM on Apr 17, 2023 CDT  dallasnews  texas  \n",
       "3   6:00 AM on Jul 3, 2023 CDT  dallasnews  texas  "
      ]
     },
     "execution_count": 16,
     "metadata": {},
     "output_type": "execute_result"
    }
   ],
   "source": [
    "df.head()"
   ]
  },
  {
   "cell_type": "markdown",
   "id": "e9169ae4",
   "metadata": {},
   "source": [
    "# Maryland"
   ]
  },
  {
   "cell_type": "code",
   "execution_count": 21,
   "id": "bf16b499",
   "metadata": {
    "ExecuteTime": {
     "end_time": "2023-10-26T22:08:36.909377Z",
     "start_time": "2023-10-26T22:08:36.880952Z"
    }
   },
   "outputs": [],
   "source": [
    "maryland_news = []"
   ]
  },
  {
   "cell_type": "code",
   "execution_count": 22,
   "id": "9b7e0ab1",
   "metadata": {},
   "outputs": [],
   "source": [
    "with open('news_articles_links/maryland_news.txt', 'r') as file:\n",
    "    for line in file:\n",
    "        url = line.strip()\n",
    "        maryland_news.append(url)"
   ]
  },
  {
   "cell_type": "code",
   "execution_count": 23,
   "id": "6802ba2c",
   "metadata": {},
   "outputs": [
    {
     "data": {
      "text/plain": [
       "['https://www.baltimoresun.com/business/ct-biz-electric-vehicles-tax-credits-ap-20220809-xyjdmajuurh4lehqct2mek7nly-story.html',\n",
       " 'https://www.baltimoresun.com/opinion/columnists/dan-rodricks/bs-ed-rodricks-0816-electric-cars-20220816-jx5tqcuzhffmrh5un3mubollri-story.html',\n",
       " 'https://www.baltimoresun.com/business/ct-biz-rivian-georgia-meeting-20220420-qjctyvdlqfal5gyncifphhxpzu-story.html',\n",
       " 'https://www.baltimoresun.com/news/environment/bs-md-hogan-administration-california-electric-cars-rule-20221213-ag72mp7qrfe2jb23yhym5hapqe-story.html',\n",
       " 'https://www.baltimoresun.com/news/environment/bs-md-california-electric-vehicle-rule-20230313-44vamz2vczevvahuhivdluqscy-story.html']"
      ]
     },
     "execution_count": 23,
     "metadata": {},
     "output_type": "execute_result"
    }
   ],
   "source": [
    "maryland_news"
   ]
  },
  {
   "cell_type": "code",
   "execution_count": 17,
   "id": "7cbec671",
   "metadata": {
    "ExecuteTime": {
     "end_time": "2023-10-26T22:08:36.909377Z",
     "start_time": "2023-10-26T22:08:36.880952Z"
    }
   },
   "outputs": [],
   "source": [
    "def get_maryland_news(url):\n",
    "    text = ''\n",
    "    response = requests.get(url)\n",
    "    response.raise_for_status()  # This will raise an exception if there's a HTTP error\n",
    "\n",
    "    soup = BeautifulSoup(response.text, 'html.parser')\n",
    "    title = soup.find('h1', class_='headline').get_text(strip=True)\n",
    "    \n",
    "    paragraphs = soup.find('article', class_='article-body-wrapper-custom')\n",
    "    text = ' '.join(p.get_text(strip=True) for p in paragraphs.find_all('p'))\n",
    "    \n",
    "    date = soup.find('time')\n",
    "    datetime_value = date['datetime']\n",
    "    \n",
    "    news_source = url.split('/')[2].split('.')[1]\n",
    "    \n",
    "    return title, text, datetime_value, news_source"
   ]
  },
  {
   "cell_type": "code",
   "execution_count": 18,
   "id": "22b19c22",
   "metadata": {
    "ExecuteTime": {
     "end_time": "2023-10-26T22:08:42.425954Z",
     "start_time": "2023-10-26T22:08:36.911593Z"
    }
   },
   "outputs": [],
   "source": [
    "dir_path = 'news/maryland/'\n",
    "create_dataset('articles.csv', dir_path, maryland_news, get_maryland_news)\n",
    "\n",
    "file_name = os.path.join(dir_path, 'articles.csv')\n",
    "df = pd.read_csv(file_name)\n",
    "\n",
    "df['state'] = 'maryland'\n",
    "df.to_csv(file_name, index=False)"
   ]
  },
  {
   "cell_type": "code",
   "execution_count": 19,
   "id": "cf7fc4c3",
   "metadata": {
    "ExecuteTime": {
     "end_time": "2023-10-26T22:08:42.441570Z",
     "start_time": "2023-10-26T22:08:42.428466Z"
    }
   },
   "outputs": [
    {
     "data": {
      "text/html": [
       "<div>\n",
       "<style scoped>\n",
       "    .dataframe tbody tr th:only-of-type {\n",
       "        vertical-align: middle;\n",
       "    }\n",
       "\n",
       "    .dataframe tbody tr th {\n",
       "        vertical-align: top;\n",
       "    }\n",
       "\n",
       "    .dataframe thead th {\n",
       "        text-align: right;\n",
       "    }\n",
       "</style>\n",
       "<table border=\"1\" class=\"dataframe\">\n",
       "  <thead>\n",
       "    <tr style=\"text-align: right;\">\n",
       "      <th></th>\n",
       "      <th>title</th>\n",
       "      <th>article</th>\n",
       "      <th>date</th>\n",
       "      <th>news_source</th>\n",
       "      <th>state</th>\n",
       "    </tr>\n",
       "  </thead>\n",
       "  <tbody>\n",
       "    <tr>\n",
       "      <th>0</th>\n",
       "      <td>Most electric vehicles won’t qualify for feder...</td>\n",
       "      <td>DETROIT — A tax credit of up to $7,500 could b...</td>\n",
       "      <td>2022-08-09 10:54:00</td>\n",
       "      <td>baltimoresun</td>\n",
       "      <td>maryland</td>\n",
       "    </tr>\n",
       "    <tr>\n",
       "      <th>1</th>\n",
       "      <td>Dan Rodricks: All charged up for an electric c...</td>\n",
       "      <td>If you own an electric car or truck, or drive ...</td>\n",
       "      <td>2022-08-16 11:12:00</td>\n",
       "      <td>baltimoresun</td>\n",
       "      <td>maryland</td>\n",
       "    </tr>\n",
       "    <tr>\n",
       "      <th>2</th>\n",
       "      <td>Rivian electric car plant blasted by foes at G...</td>\n",
       "      <td>MONROE, Ga. — Opponents trying to derail a $5 ...</td>\n",
       "      <td>2022-04-20 12:13:00</td>\n",
       "      <td>baltimoresun</td>\n",
       "      <td>maryland</td>\n",
       "    </tr>\n",
       "    <tr>\n",
       "      <th>3</th>\n",
       "      <td>Hogan administration won’t match California’s ...</td>\n",
       "      <td>Maryland Gov. Larry Hogan’s administration won...</td>\n",
       "      <td>2022-12-14 15:59:00</td>\n",
       "      <td>baltimoresun</td>\n",
       "      <td>maryland</td>\n",
       "    </tr>\n",
       "    <tr>\n",
       "      <th>4</th>\n",
       "      <td>California electric vehicle rule takes another...</td>\n",
       "      <td>Maryland took a big step Monday toward eventua...</td>\n",
       "      <td>2023-03-13 17:52:00</td>\n",
       "      <td>baltimoresun</td>\n",
       "      <td>maryland</td>\n",
       "    </tr>\n",
       "  </tbody>\n",
       "</table>\n",
       "</div>"
      ],
      "text/plain": [
       "                                               title  \\\n",
       "0  Most electric vehicles won’t qualify for feder...   \n",
       "1  Dan Rodricks: All charged up for an electric c...   \n",
       "2  Rivian electric car plant blasted by foes at G...   \n",
       "3  Hogan administration won’t match California’s ...   \n",
       "4  California electric vehicle rule takes another...   \n",
       "\n",
       "                                             article                 date  \\\n",
       "0  DETROIT — A tax credit of up to $7,500 could b...  2022-08-09 10:54:00   \n",
       "1  If you own an electric car or truck, or drive ...  2022-08-16 11:12:00   \n",
       "2  MONROE, Ga. — Opponents trying to derail a $5 ...  2022-04-20 12:13:00   \n",
       "3  Maryland Gov. Larry Hogan’s administration won...  2022-12-14 15:59:00   \n",
       "4  Maryland took a big step Monday toward eventua...  2023-03-13 17:52:00   \n",
       "\n",
       "    news_source     state  \n",
       "0  baltimoresun  maryland  \n",
       "1  baltimoresun  maryland  \n",
       "2  baltimoresun  maryland  \n",
       "3  baltimoresun  maryland  \n",
       "4  baltimoresun  maryland  "
      ]
     },
     "execution_count": 19,
     "metadata": {},
     "output_type": "execute_result"
    }
   ],
   "source": [
    "df.head()"
   ]
  }
 ],
 "metadata": {
  "kernelspec": {
   "display_name": "Python 3 (ipykernel)",
   "language": "python",
   "name": "python3"
  },
  "language_info": {
   "codemirror_mode": {
    "name": "ipython",
    "version": 3
   },
   "file_extension": ".py",
   "mimetype": "text/x-python",
   "name": "python",
   "nbconvert_exporter": "python",
   "pygments_lexer": "ipython3",
   "version": "3.10.9"
  }
 },
 "nbformat": 4,
 "nbformat_minor": 5
}
