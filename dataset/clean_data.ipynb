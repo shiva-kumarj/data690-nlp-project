{
 "cells": [
  {
   "cell_type": "code",
   "execution_count": 1,
   "id": "41bbf11b",
   "metadata": {},
   "outputs": [
    {
     "name": "stdout",
     "output_type": "stream",
     "text": [
      "Requirement already satisfied: contractions in d:\\data_690\\nlp\\project\\nlp_690\\lib\\site-packages (0.1.73)\n",
      "Requirement already satisfied: textsearch>=0.0.21 in d:\\data_690\\nlp\\project\\nlp_690\\lib\\site-packages (from contractions) (0.0.24)\n",
      "Requirement already satisfied: anyascii in d:\\data_690\\nlp\\project\\nlp_690\\lib\\site-packages (from textsearch>=0.0.21->contractions) (0.3.2)\n",
      "Requirement already satisfied: pyahocorasick in d:\\data_690\\nlp\\project\\nlp_690\\lib\\site-packages (from textsearch>=0.0.21->contractions) (2.0.0)\n",
      "Note: you may need to restart the kernel to use updated packages.\n"
     ]
    }
   ],
   "source": [
    "pip install contractions"
   ]
  },
  {
   "cell_type": "code",
   "execution_count": 2,
   "id": "2e724fa7",
   "metadata": {},
   "outputs": [
    {
     "name": "stdout",
     "output_type": "stream",
     "text": [
      "Requirement already satisfied: pyspellchecker in d:\\data_690\\nlp\\project\\nlp_690\\lib\\site-packages (0.7.2)\n",
      "Note: you may need to restart the kernel to use updated packages.\n"
     ]
    }
   ],
   "source": [
    "pip install pyspellchecker"
   ]
  },
  {
   "cell_type": "code",
   "execution_count": 3,
   "id": "e0dc84b9",
   "metadata": {},
   "outputs": [
    {
     "name": "stdout",
     "output_type": "stream",
     "text": [
      "Requirement already satisfied: word2number in d:\\data_690\\nlp\\project\\nlp_690\\lib\\site-packages (1.1)\n",
      "Note: you may need to restart the kernel to use updated packages.\n"
     ]
    }
   ],
   "source": [
    "pip install word2number"
   ]
  },
  {
   "cell_type": "code",
   "execution_count": 1,
   "id": "b533a861",
   "metadata": {
    "ExecuteTime": {
     "end_time": "2023-11-12T03:16:40.538514Z",
     "start_time": "2023-11-12T03:16:39.533678Z"
    }
   },
   "outputs": [],
   "source": [
    "import pandas as pd\n",
    "import numpy as np\n",
    "import requests\n",
    "from bs4 import BeautifulSoup\n",
    "import os\n",
    "import csv\n",
    "import re\n",
    "pd.set_option('display.max_colwidth', None)"
   ]
  },
  {
   "cell_type": "code",
   "execution_count": 104,
   "id": "dfb51264",
   "metadata": {
    "ExecuteTime": {
     "end_time": "2023-11-12T03:16:40.632445Z",
     "start_time": "2023-11-12T03:16:40.541519Z"
    }
   },
   "outputs": [],
   "source": [
    "#get east-coast data\n",
    "df_wp = pd.read_csv('news/east-coast/dc/articles.csv')\n",
    "df_md = pd.read_csv('news/east-coast/md/articles.csv')\n",
    "df_nyt = pd.read_csv('news/east-coast/nyc/articles.csv')\n",
    "#get west-coast data\n",
    "df_la = pd.read_csv('news/west-coast/la/articles.csv')\n",
    "df_sf = pd.read_csv('news/west-coast/sf/articles.csv')\n",
    "df_ws = pd.read_csv('news/west-coast/ws/articles.csv')\n",
    "#get mid-west data\n",
    "df_cst = pd.read_csv('news/central/chicago/articles.csv')\n",
    "df_mst = pd.read_csv('news/central/minneapolis/articles.csv')\n",
    "df_dn = pd.read_csv('news/central/dallas/articles.csv')\n",
    "df_hc = pd.read_csv('news/central/houston/articles.csv')"
   ]
  },
  {
   "cell_type": "code",
   "execution_count": 105,
   "id": "0a36aa21",
   "metadata": {},
   "outputs": [
    {
     "data": {
      "text/html": [
       "<div>\n",
       "<style scoped>\n",
       "    .dataframe tbody tr th:only-of-type {\n",
       "        vertical-align: middle;\n",
       "    }\n",
       "\n",
       "    .dataframe tbody tr th {\n",
       "        vertical-align: top;\n",
       "    }\n",
       "\n",
       "    .dataframe thead th {\n",
       "        text-align: right;\n",
       "    }\n",
       "</style>\n",
       "<table border=\"1\" class=\"dataframe\">\n",
       "  <thead>\n",
       "    <tr style=\"text-align: right;\">\n",
       "      <th></th>\n",
       "      <th>title</th>\n",
       "      <th>article</th>\n",
       "      <th>date</th>\n",
       "      <th>news_source</th>\n",
       "      <th>region</th>\n",
       "    </tr>\n",
       "  </thead>\n",
       "  <tbody>\n",
       "    <tr>\n",
       "      <th>0</th>\n",
       "      <td>Are electric cars really better for the environment?</td>\n",
       "      <td>Electric vehicles, you might have heard, have a mineral problem. Beneath the floor of an EV sits a900-pound batteryfilled with minerals extracted from around the world. Millions of tons of lithium, cobalt, bauxite and other minerals are mined, processed, shipped and refined — sometimes leaving atrail of human rights and environmental abuses. For some, that makes fossil fuel engines look good by comparison. No one wants to drive around on thecobalt equivalent of blood diamonds. But does all this mining negate the climate and environmental benefits of EVs compared to sticking with gas? I looked into the world’s evolving supply chains for the clean-energy economy. In every scenario, it turns out, the demand for battery minerals represents a tiny fraction of the amounts of fossil fuels now needed to power the world. But not everything is measured in tons. For EVs to fulfill their clean-energy promise, they need to avoid repeating the mistakes of the first Industrial Revolution. Miners and manufacturers can embrace cleaner ways to get the materials they need, and recover more of what they use. Here’s how EVs and gasoline cars stack up. Almost all cars require steel, aluminum, copper, plastic, rubber and glass. Where EVs differ most from conventional vehicles is in their battery packs. Atypical 200-mile range EVlugs around a lithium-ion battery pack that’s nearly a third of the weight of the vehicle. Much of that weight is the battery pack’s casing, structural materials and aliquid electrolytethat ferries electrons around to charge and discharge the battery. But roughly 353 pounds are crucial minerals or metals, including cobalt, nickel, manganese, graphite, aluminum and copper,estimates Transport and Environment, a nongovernmental organization campaigning for cleaner transport. Not counting steel and aluminum, says MIT, anEV requires six times more minerals than a conventional vehicle. We will need a massive increase in these materials in the coming years. Global EV sales are predicted to surpass gas-vehicle sales in just over a decade after havingblown past early projections.General Motors, Volkswagen, Volvo, Hyundai and Hondacommitted to electrifying their lineup. With jurisdictions from California to theEuropean Unionprohibiting the sale of most new fossil fuel vehiclesby 2035, thevast majority of new passenger vehiclesare likely to be electric well before mid-century. That will mean expanding today’s mines and launching new ones. “The volume is large and it’s going to get very large,” says Gerbrand Ceder, a professor of materials science at the University of California at Berkeley. Gigafactories springing up around the world to build batteries are already straining the volume of clean-energy minerals the mining industry can produce. Mining minerals is never a clean affair. Cobalt from Congo, lithium and graphite from China, nickel from Indonesia and Russia, and battery supply chains thatrun through Xinjiang, in the Uyghur regionwhere forced labor has been rampant: All of these have immediate problems, which The Washington Post explored in our “Clean Cars, Hidden Toll” series. Guinea, home to the world’s largest bauxite reserves for aluminum,yields misery for local communities. Nickel refiners in Indonesia areadopting a risky technology. Mineworkers in South Africa, the world’s largest producer of manganese,face neurological ills. These environmental and social problems are real. But compared to the track record of the oil, gas and coal industry, they are a drop in the barrel. To compare EVs with conventional vehicles, first we need to look at how much stuff we pull out of the ground tomake and fuel them. Mining minerals for the clean-energy economy is measured in millions of tons per year. For fossil fuel extraction, that’s a rounding error. In 2020, building the world’s wind turbines, solar panels, EVs and other clean-energy infrastructure demanded 7 million tons of minerals,estimates the International Energy Agency. Roughly half of this was destined for batteries and EVs. The oil, gas and coal industry, by contrast, extracted the equivalent of15 billion metric tonsin 2019. And the industry will need to extract it year after year to keep supplying energy. Clean-energy technology can use these materials for decades or, if recycled, in perpetuity. “That’s a point we’ve been trying to make for a long time,” says Kwasi Ampofo, the head of metals and mining at BloombergNEF,aclean-energy research groupin London. “Even on a volumetric basis, it’s important to highlight the fact that fossil fuels are not comparable.” That remains true even if EVs and batteries were part of a massive, global transition to clean energy. In a scenario limiting global warming to 2 degrees Celsius, the IEA estimates the amount of critical minerals needed would be roughly 500 times less in terms of volume than today’s fossil fuel extraction. Of course, material mined isn’t a perfect gauge of environmental damage. Local environmental effects tend to scale with the amount of stuff we pull out of theground. Extracting 1 ton of copper, for example, requires digging uparound 100 tons of ore. But even accounting for this, estimates Sam Calisch, a scientist at the nonprofit Rewiring America,mining minerals for the clean-energy economy amounts to extracting about five times less matter than what’s extracted by the fossil fuel industry. “This is still massive,” Calisch says. EVs already emitless than a thirdof the emissions per mile than their gasoline counterparts, on average, if you’re plugging into America’s electricity mix. But what if you account for emissions from mining metals, manufacturing, refueling and disposal of EVs? Noah Horesh, a researcher at Colorado State University who studies life cycle emissions in the transportation sector, has analyzed vehicles’ emissions over their life spans. Horesh estimates fossil fuel vehicles generate roughly twice the emissions of an EV, even accounting for emissions from extracting added minerals and metals. This difference will only grow as the electricity sectordecarbonizes, and battery manufacturingbecomes far more efficient. People recharging with clean electricity, or driving smaller vehicles, may already see a bigger difference today. Air pollution, one of theworld’s leading killers, will decrease as well. Fossil fuels are responsible for 4 million to8 millionexcess deathseach year tied to air pollution, reportstudies in the peer-reviewed journal Proceedings of the National Academies of ScienceandEnvironmental Research. Cleaning up the mineral supply chain for batteries, unlike the oil industry, remains a distinct possibility. The Inflation Reduction Act incentivizes automakers to use mineral supply chains in the United States or countries with close trade relations. Mining companies are being pushed, or forced, to clean up their act as buyers, automakers and countries demand more transparent supply chains. New technology is also reducing negative impacts. None of this is guaranteed.Lead the Charge, an advocacy network tracking the supply chains of the world’s leading automakers, says many are making progress on their efforts to eliminate emissions, environmental harms and human rights violations. “But as an industry,” it says, “there is a long way to go.” You cansee their leader board of automakers here. Still, we’re starting to see some changes. Researchers and battery makers are racing to replace nickel and cobalt with metals such as manganese and iron that are safer, abundant, nontoxic and cheap. “There are only a few metals at the intersection of what we can use and what we produce a lot of,” says Ceder. “But we’re seeing significant progress in that area.” Manufacturers now usesix times less cobaltin EV batteries, or have eliminated it entirely in recent years. Last year, half of the vehicles Tesla sold in the first quartercontained batteries with no cobalt or nickel. Recycling already holds great promise. Today,only about 5 percent of lithium-ion batteriesacross all products are recycled in the U.S. Within a few decades, accordingto the nonprofit International Council on Clean Transportation, the vast majority of EV batteries will likely be collected and repurposed for a second life such as grid energy storage, or recycled, cutting the EV demand for minerals by about a third. Lead-acid car batteries provide a model: an estimated 99 percent are recycled. That has created a nearly closed loop for reusing lead, report researchers inthe peer-reviewed journal American Economic Review: Insights. “The transition to low-carbon fuels is not a magic bullet with no negative outcome,\" says Sergey Paltsev, a senior research scientist at MIT. “There is no free lunch. But it’s much less harmful than if we stay with fossil fuels. That’s the conclusion.”</td>\n",
       "      <td>September 19, 2023 at 6:30 a.m. EDT</td>\n",
       "      <td>washington-post</td>\n",
       "      <td>east-coast</td>\n",
       "    </tr>\n",
       "  </tbody>\n",
       "</table>\n",
       "</div>"
      ],
      "text/plain": [
       "                                                  title  \\\n",
       "0  Are electric cars really better for the environment?   \n",
       "\n",
       "                                                                                                                                                                                                                                                                                                                                                                                                                                                                                                                                                                                                                                                                                                                                                                                                                                                                                                                                                                                                                                                                                                                                                                                                                                                                                                                                                                                                                                                                                                                                                                                                                                                                                                                                                                                                                                                                                                                                                                                                                                                                                                                                                                                                                                                                                                                                                                                                                                                                                                                                                                                                                                                                                                                                                                                                                                                                                                                                                                                                                                                                                                                                                                                                                                                                                                                                                                                                                                                                                                                                                                                                                                                                                                                                                                                                                                                                                                                                                                                                                                                                                                                                                                                                                                                                                                                                                                                                                                                                                                                                                                                                                                                                                                                                                                                                                                                                                                                                                                                                                                                                                                                                                                                                                                                                                                                                                                                                                                                                                                                                                                                                                                                                                                                                                                                                                                                                                                                                                                                                                                                                                                                                                                                                                                                                                                                                                                                                                                                                                                                                                                                                                                                                                                                                                                                                                                                                                                                                                                                                                                                                                                                                                                                                                                                                                                                                                                                                                                                                                                                                                                                                                                                                                                                                                                                                                                                                                                                                                                                                                                                                                                                                                                                                                                                                                                                                                                                                                                                                                                                                                                                                                                                                                                                                                                                                                                                                                                                                                                                                                                                                                                                                                                                      article  \\\n",
       "0  Electric vehicles, you might have heard, have a mineral problem. Beneath the floor of an EV sits a900-pound batteryfilled with minerals extracted from around the world. Millions of tons of lithium, cobalt, bauxite and other minerals are mined, processed, shipped and refined — sometimes leaving atrail of human rights and environmental abuses. For some, that makes fossil fuel engines look good by comparison. No one wants to drive around on thecobalt equivalent of blood diamonds. But does all this mining negate the climate and environmental benefits of EVs compared to sticking with gas? I looked into the world’s evolving supply chains for the clean-energy economy. In every scenario, it turns out, the demand for battery minerals represents a tiny fraction of the amounts of fossil fuels now needed to power the world. But not everything is measured in tons. For EVs to fulfill their clean-energy promise, they need to avoid repeating the mistakes of the first Industrial Revolution. Miners and manufacturers can embrace cleaner ways to get the materials they need, and recover more of what they use. Here’s how EVs and gasoline cars stack up. Almost all cars require steel, aluminum, copper, plastic, rubber and glass. Where EVs differ most from conventional vehicles is in their battery packs. Atypical 200-mile range EVlugs around a lithium-ion battery pack that’s nearly a third of the weight of the vehicle. Much of that weight is the battery pack’s casing, structural materials and aliquid electrolytethat ferries electrons around to charge and discharge the battery. But roughly 353 pounds are crucial minerals or metals, including cobalt, nickel, manganese, graphite, aluminum and copper,estimates Transport and Environment, a nongovernmental organization campaigning for cleaner transport. Not counting steel and aluminum, says MIT, anEV requires six times more minerals than a conventional vehicle. We will need a massive increase in these materials in the coming years. Global EV sales are predicted to surpass gas-vehicle sales in just over a decade after havingblown past early projections.General Motors, Volkswagen, Volvo, Hyundai and Hondacommitted to electrifying their lineup. With jurisdictions from California to theEuropean Unionprohibiting the sale of most new fossil fuel vehiclesby 2035, thevast majority of new passenger vehiclesare likely to be electric well before mid-century. That will mean expanding today’s mines and launching new ones. “The volume is large and it’s going to get very large,” says Gerbrand Ceder, a professor of materials science at the University of California at Berkeley. Gigafactories springing up around the world to build batteries are already straining the volume of clean-energy minerals the mining industry can produce. Mining minerals is never a clean affair. Cobalt from Congo, lithium and graphite from China, nickel from Indonesia and Russia, and battery supply chains thatrun through Xinjiang, in the Uyghur regionwhere forced labor has been rampant: All of these have immediate problems, which The Washington Post explored in our “Clean Cars, Hidden Toll” series. Guinea, home to the world’s largest bauxite reserves for aluminum,yields misery for local communities. Nickel refiners in Indonesia areadopting a risky technology. Mineworkers in South Africa, the world’s largest producer of manganese,face neurological ills. These environmental and social problems are real. But compared to the track record of the oil, gas and coal industry, they are a drop in the barrel. To compare EVs with conventional vehicles, first we need to look at how much stuff we pull out of the ground tomake and fuel them. Mining minerals for the clean-energy economy is measured in millions of tons per year. For fossil fuel extraction, that’s a rounding error. In 2020, building the world’s wind turbines, solar panels, EVs and other clean-energy infrastructure demanded 7 million tons of minerals,estimates the International Energy Agency. Roughly half of this was destined for batteries and EVs. The oil, gas and coal industry, by contrast, extracted the equivalent of15 billion metric tonsin 2019. And the industry will need to extract it year after year to keep supplying energy. Clean-energy technology can use these materials for decades or, if recycled, in perpetuity. “That’s a point we’ve been trying to make for a long time,” says Kwasi Ampofo, the head of metals and mining at BloombergNEF,aclean-energy research groupin London. “Even on a volumetric basis, it’s important to highlight the fact that fossil fuels are not comparable.” That remains true even if EVs and batteries were part of a massive, global transition to clean energy. In a scenario limiting global warming to 2 degrees Celsius, the IEA estimates the amount of critical minerals needed would be roughly 500 times less in terms of volume than today’s fossil fuel extraction. Of course, material mined isn’t a perfect gauge of environmental damage. Local environmental effects tend to scale with the amount of stuff we pull out of theground. Extracting 1 ton of copper, for example, requires digging uparound 100 tons of ore. But even accounting for this, estimates Sam Calisch, a scientist at the nonprofit Rewiring America,mining minerals for the clean-energy economy amounts to extracting about five times less matter than what’s extracted by the fossil fuel industry. “This is still massive,” Calisch says. EVs already emitless than a thirdof the emissions per mile than their gasoline counterparts, on average, if you’re plugging into America’s electricity mix. But what if you account for emissions from mining metals, manufacturing, refueling and disposal of EVs? Noah Horesh, a researcher at Colorado State University who studies life cycle emissions in the transportation sector, has analyzed vehicles’ emissions over their life spans. Horesh estimates fossil fuel vehicles generate roughly twice the emissions of an EV, even accounting for emissions from extracting added minerals and metals. This difference will only grow as the electricity sectordecarbonizes, and battery manufacturingbecomes far more efficient. People recharging with clean electricity, or driving smaller vehicles, may already see a bigger difference today. Air pollution, one of theworld’s leading killers, will decrease as well. Fossil fuels are responsible for 4 million to8 millionexcess deathseach year tied to air pollution, reportstudies in the peer-reviewed journal Proceedings of the National Academies of ScienceandEnvironmental Research. Cleaning up the mineral supply chain for batteries, unlike the oil industry, remains a distinct possibility. The Inflation Reduction Act incentivizes automakers to use mineral supply chains in the United States or countries with close trade relations. Mining companies are being pushed, or forced, to clean up their act as buyers, automakers and countries demand more transparent supply chains. New technology is also reducing negative impacts. None of this is guaranteed.Lead the Charge, an advocacy network tracking the supply chains of the world’s leading automakers, says many are making progress on their efforts to eliminate emissions, environmental harms and human rights violations. “But as an industry,” it says, “there is a long way to go.” You cansee their leader board of automakers here. Still, we’re starting to see some changes. Researchers and battery makers are racing to replace nickel and cobalt with metals such as manganese and iron that are safer, abundant, nontoxic and cheap. “There are only a few metals at the intersection of what we can use and what we produce a lot of,” says Ceder. “But we’re seeing significant progress in that area.” Manufacturers now usesix times less cobaltin EV batteries, or have eliminated it entirely in recent years. Last year, half of the vehicles Tesla sold in the first quartercontained batteries with no cobalt or nickel. Recycling already holds great promise. Today,only about 5 percent of lithium-ion batteriesacross all products are recycled in the U.S. Within a few decades, accordingto the nonprofit International Council on Clean Transportation, the vast majority of EV batteries will likely be collected and repurposed for a second life such as grid energy storage, or recycled, cutting the EV demand for minerals by about a third. Lead-acid car batteries provide a model: an estimated 99 percent are recycled. That has created a nearly closed loop for reusing lead, report researchers inthe peer-reviewed journal American Economic Review: Insights. “The transition to low-carbon fuels is not a magic bullet with no negative outcome,\" says Sergey Paltsev, a senior research scientist at MIT. “There is no free lunch. But it’s much less harmful than if we stay with fossil fuels. That’s the conclusion.”   \n",
       "\n",
       "                                  date      news_source      region  \n",
       "0  September 19, 2023 at 6:30 a.m. EDT  washington-post  east-coast  "
      ]
     },
     "execution_count": 105,
     "metadata": {},
     "output_type": "execute_result"
    }
   ],
   "source": [
    "df_wp.head(1)"
   ]
  },
  {
   "cell_type": "code",
   "execution_count": 106,
   "id": "4d68c2c5",
   "metadata": {},
   "outputs": [
    {
     "data": {
      "text/plain": [
       "Index(['title', 'article', 'date', 'news_source', 'region'], dtype='object')"
      ]
     },
     "execution_count": 106,
     "metadata": {},
     "output_type": "execute_result"
    }
   ],
   "source": [
    "df_wp.columns"
   ]
  },
  {
   "cell_type": "code",
   "execution_count": 107,
   "id": "1b63ea07",
   "metadata": {},
   "outputs": [
    {
     "data": {
      "text/plain": [
       "title          5\n",
       "article        5\n",
       "date           5\n",
       "news_source    5\n",
       "region         5\n",
       "dtype: int64"
      ]
     },
     "execution_count": 107,
     "metadata": {},
     "output_type": "execute_result"
    }
   ],
   "source": [
    "df_wp.count()"
   ]
  },
  {
   "cell_type": "code",
   "execution_count": 108,
   "id": "a848a90c",
   "metadata": {},
   "outputs": [
    {
     "data": {
      "text/html": [
       "<div>\n",
       "<style scoped>\n",
       "    .dataframe tbody tr th:only-of-type {\n",
       "        vertical-align: middle;\n",
       "    }\n",
       "\n",
       "    .dataframe tbody tr th {\n",
       "        vertical-align: top;\n",
       "    }\n",
       "\n",
       "    .dataframe thead th {\n",
       "        text-align: right;\n",
       "    }\n",
       "</style>\n",
       "<table border=\"1\" class=\"dataframe\">\n",
       "  <thead>\n",
       "    <tr style=\"text-align: right;\">\n",
       "      <th></th>\n",
       "      <th>title</th>\n",
       "      <th>article</th>\n",
       "      <th>date</th>\n",
       "      <th>news_source</th>\n",
       "      <th>region</th>\n",
       "    </tr>\n",
       "  </thead>\n",
       "  <tbody>\n",
       "    <tr>\n",
       "      <th>3</th>\n",
       "      <td>Washington State passes law establishing 2030 target for phasing out gasoline vehicles</td>\n",
       "      <td>The Washington State legislature has passed groundbreaking legislation that sets a target for all model year 2030 or later passenger and light-duty vehicles sold in Washington State to be electric vehicles. The new law establishes the most aggressive state goal in the U.S. for moving to an all-electric future and puts Washington five years ahead of California’s 2035 target.Clean Cars 2030passed as an amendment toE2SHB 1287, a bill mandating electric utility preparation for an all-EV future, with a vote of 25-23 in the Senate and 54-43 in the House. It now heads to Gov. Jay Inslee’s desk for signature.First introduced in the legislature by Rep. Nicole Macri (D-Seattle) as HB 1204, the bill is now the first gasoline phaseout target to be passed through the legislative process.The Morning Wire: Keeping you informed on politics, policies, and personalities of Washington State.“With the passage of Clean Cars 2030, the end of the era of gasoline-powered cars is in sight,” said Matthew Metz, co-executive director ofColtura. “Clean Cars 2030 sets Washington on a nation-leading path consistent with climate science and an auto industry trend toward a fully-electric automotive future. We applaud Rep. Macri, Rep. Alex Ramel (D-Bellingham), and Sen. Marko Liias (D-Lynnwood) for their leadership on this bill, as well as the many other legislators who made history with their votes.”Passage of this legislation takes the guesswork and uncertainty out of the electric vehicle transition by creating a clear timeline with the data, tools, and guidelines we need to help businesses, developers, governments, and consumers plan with confidence,” said Sen. Liias. “Clean Cars 2030 is a critical step to meet urgent carbon reduction goals here in Washington and can serve as a model and impetus for other states to accelerate the switch to EVs.”Since Clean Cars 2030 was introduced to the legislature on January 14, the automotive industry has accelerated the shift away from gasoline cars. GM announced plans to sell only zero-emissions vehicles by 2035, Ford said it would only sell EVs in Europe by 2030, BMW’s MINI sub-division pledged to be EV-only by 2030, and Volvo committed to selling only EVs by 2030.The 2030 target will be integrated into planning and financial decision-making by a broad group of government, automaker, utility, and other stakeholders. It will take full effect when 75 percent of vehicles on the road are subject to a road usage charge, a development which is expected within the next several years.Coltura spearheaded adiverse coalitionof more than 25 organizations advocating for the bill’s passage, including leading environmental, social justice, and faith groups across the state. The date certain established in the bill for the transition away from gasoline vehicles also attracted the support of the automotive and business community, including an endorsement from the Washington State Auto Dealers Association.This news release was provided byColturaYour support matters.Public service journalism is important today as ever. If you get something from our coverage, please considermaking a donationto support our work. Thanks for reading our stuff.Share This:</td>\n",
       "      <td>April 15, 2021</td>\n",
       "      <td>washingtonstatewire</td>\n",
       "      <td>west-coast</td>\n",
       "    </tr>\n",
       "  </tbody>\n",
       "</table>\n",
       "</div>"
      ],
      "text/plain": [
       "                                                                                    title  \\\n",
       "3  Washington State passes law establishing 2030 target for phasing out gasoline vehicles   \n",
       "\n",
       "                                                                                                                                                                                                                                                                                                                                                                                                                                                                                                                                                                                                                                                                                                                                                                                                                                                                                                                                                                                                                                                                                                                                                                                                                                                                                                                                                                                                                                                                                                                                                                                                                                                                                                                                                                                                                                                                                                                                                                                                                                                                                                                                                                                                                                                                                                                                                                                                                                                                                                                                                                                                                                                                                                                                                                                                                                                                                                                                                                                                                                                                                                                                                                                                                                                                                                                          article  \\\n",
       "3  The Washington State legislature has passed groundbreaking legislation that sets a target for all model year 2030 or later passenger and light-duty vehicles sold in Washington State to be electric vehicles. The new law establishes the most aggressive state goal in the U.S. for moving to an all-electric future and puts Washington five years ahead of California’s 2035 target.Clean Cars 2030passed as an amendment toE2SHB 1287, a bill mandating electric utility preparation for an all-EV future, with a vote of 25-23 in the Senate and 54-43 in the House. It now heads to Gov. Jay Inslee’s desk for signature.First introduced in the legislature by Rep. Nicole Macri (D-Seattle) as HB 1204, the bill is now the first gasoline phaseout target to be passed through the legislative process.The Morning Wire: Keeping you informed on politics, policies, and personalities of Washington State.“With the passage of Clean Cars 2030, the end of the era of gasoline-powered cars is in sight,” said Matthew Metz, co-executive director ofColtura. “Clean Cars 2030 sets Washington on a nation-leading path consistent with climate science and an auto industry trend toward a fully-electric automotive future. We applaud Rep. Macri, Rep. Alex Ramel (D-Bellingham), and Sen. Marko Liias (D-Lynnwood) for their leadership on this bill, as well as the many other legislators who made history with their votes.”Passage of this legislation takes the guesswork and uncertainty out of the electric vehicle transition by creating a clear timeline with the data, tools, and guidelines we need to help businesses, developers, governments, and consumers plan with confidence,” said Sen. Liias. “Clean Cars 2030 is a critical step to meet urgent carbon reduction goals here in Washington and can serve as a model and impetus for other states to accelerate the switch to EVs.”Since Clean Cars 2030 was introduced to the legislature on January 14, the automotive industry has accelerated the shift away from gasoline cars. GM announced plans to sell only zero-emissions vehicles by 2035, Ford said it would only sell EVs in Europe by 2030, BMW’s MINI sub-division pledged to be EV-only by 2030, and Volvo committed to selling only EVs by 2030.The 2030 target will be integrated into planning and financial decision-making by a broad group of government, automaker, utility, and other stakeholders. It will take full effect when 75 percent of vehicles on the road are subject to a road usage charge, a development which is expected within the next several years.Coltura spearheaded adiverse coalitionof more than 25 organizations advocating for the bill’s passage, including leading environmental, social justice, and faith groups across the state. The date certain established in the bill for the transition away from gasoline vehicles also attracted the support of the automotive and business community, including an endorsement from the Washington State Auto Dealers Association.This news release was provided byColturaYour support matters.Public service journalism is important today as ever. If you get something from our coverage, please considermaking a donationto support our work. Thanks for reading our stuff.Share This:   \n",
       "\n",
       "             date          news_source      region  \n",
       "3  April 15, 2021  washingtonstatewire  west-coast  "
      ]
     },
     "execution_count": 108,
     "metadata": {},
     "output_type": "execute_result"
    }
   ],
   "source": [
    "df_ws.tail(1)"
   ]
  },
  {
   "cell_type": "markdown",
   "id": "7958f505",
   "metadata": {},
   "source": [
    "#### will compare the sentiment of the three regions"
   ]
  },
  {
   "cell_type": "code",
   "execution_count": 109,
   "id": "b437d79c",
   "metadata": {
    "ExecuteTime": {
     "end_time": "2023-11-12T03:16:41.723554Z",
     "start_time": "2023-11-12T03:16:41.709560Z"
    }
   },
   "outputs": [],
   "source": [
    "west_coast_df = pd.concat([df_la, df_sf, df_ws], axis=0).reset_index(drop = True)\n",
    "east_coast_df = pd.concat([df_wp, df_md, df_nyt], axis=0).reset_index(drop = True)\n",
    "central_df = pd.concat([df_cst, df_mst, df_dn, df_hc], axis=0).reset_index(drop = True)"
   ]
  },
  {
   "cell_type": "code",
   "execution_count": 110,
   "id": "5894efd0",
   "metadata": {},
   "outputs": [
    {
     "data": {
      "text/html": [
       "<div>\n",
       "<style scoped>\n",
       "    .dataframe tbody tr th:only-of-type {\n",
       "        vertical-align: middle;\n",
       "    }\n",
       "\n",
       "    .dataframe tbody tr th {\n",
       "        vertical-align: top;\n",
       "    }\n",
       "\n",
       "    .dataframe thead th {\n",
       "        text-align: right;\n",
       "    }\n",
       "</style>\n",
       "<table border=\"1\" class=\"dataframe\">\n",
       "  <thead>\n",
       "    <tr style=\"text-align: right;\">\n",
       "      <th></th>\n",
       "      <th>title</th>\n",
       "      <th>article</th>\n",
       "      <th>date</th>\n",
       "      <th>news_source</th>\n",
       "      <th>region</th>\n",
       "    </tr>\n",
       "  </thead>\n",
       "  <tbody>\n",
       "    <tr>\n",
       "      <th>14</th>\n",
       "      <td>Washington State passes law establishing 2030 target for phasing out gasoline vehicles</td>\n",
       "      <td>The Washington State legislature has passed groundbreaking legislation that sets a target for all model year 2030 or later passenger and light-duty vehicles sold in Washington State to be electric vehicles. The new law establishes the most aggressive state goal in the U.S. for moving to an all-electric future and puts Washington five years ahead of California’s 2035 target.Clean Cars 2030passed as an amendment toE2SHB 1287, a bill mandating electric utility preparation for an all-EV future, with a vote of 25-23 in the Senate and 54-43 in the House. It now heads to Gov. Jay Inslee’s desk for signature.First introduced in the legislature by Rep. Nicole Macri (D-Seattle) as HB 1204, the bill is now the first gasoline phaseout target to be passed through the legislative process.The Morning Wire: Keeping you informed on politics, policies, and personalities of Washington State.“With the passage of Clean Cars 2030, the end of the era of gasoline-powered cars is in sight,” said Matthew Metz, co-executive director ofColtura. “Clean Cars 2030 sets Washington on a nation-leading path consistent with climate science and an auto industry trend toward a fully-electric automotive future. We applaud Rep. Macri, Rep. Alex Ramel (D-Bellingham), and Sen. Marko Liias (D-Lynnwood) for their leadership on this bill, as well as the many other legislators who made history with their votes.”Passage of this legislation takes the guesswork and uncertainty out of the electric vehicle transition by creating a clear timeline with the data, tools, and guidelines we need to help businesses, developers, governments, and consumers plan with confidence,” said Sen. Liias. “Clean Cars 2030 is a critical step to meet urgent carbon reduction goals here in Washington and can serve as a model and impetus for other states to accelerate the switch to EVs.”Since Clean Cars 2030 was introduced to the legislature on January 14, the automotive industry has accelerated the shift away from gasoline cars. GM announced plans to sell only zero-emissions vehicles by 2035, Ford said it would only sell EVs in Europe by 2030, BMW’s MINI sub-division pledged to be EV-only by 2030, and Volvo committed to selling only EVs by 2030.The 2030 target will be integrated into planning and financial decision-making by a broad group of government, automaker, utility, and other stakeholders. It will take full effect when 75 percent of vehicles on the road are subject to a road usage charge, a development which is expected within the next several years.Coltura spearheaded adiverse coalitionof more than 25 organizations advocating for the bill’s passage, including leading environmental, social justice, and faith groups across the state. The date certain established in the bill for the transition away from gasoline vehicles also attracted the support of the automotive and business community, including an endorsement from the Washington State Auto Dealers Association.This news release was provided byColturaYour support matters.Public service journalism is important today as ever. If you get something from our coverage, please considermaking a donationto support our work. Thanks for reading our stuff.Share This:</td>\n",
       "      <td>April 15, 2021</td>\n",
       "      <td>washingtonstatewire</td>\n",
       "      <td>west-coast</td>\n",
       "    </tr>\n",
       "  </tbody>\n",
       "</table>\n",
       "</div>"
      ],
      "text/plain": [
       "                                                                                     title  \\\n",
       "14  Washington State passes law establishing 2030 target for phasing out gasoline vehicles   \n",
       "\n",
       "                                                                                                                                                                                                                                                                                                                                                                                                                                                                                                                                                                                                                                                                                                                                                                                                                                                                                                                                                                                                                                                                                                                                                                                                                                                                                                                                                                                                                                                                                                                                                                                                                                                                                                                                                                                                                                                                                                                                                                                                                                                                                                                                                                                                                                                                                                                                                                                                                                                                                                                                                                                                                                                                                                                                                                                                                                                                                                                                                                                                                                                                                                                                                                                                                                                                                                                           article  \\\n",
       "14  The Washington State legislature has passed groundbreaking legislation that sets a target for all model year 2030 or later passenger and light-duty vehicles sold in Washington State to be electric vehicles. The new law establishes the most aggressive state goal in the U.S. for moving to an all-electric future and puts Washington five years ahead of California’s 2035 target.Clean Cars 2030passed as an amendment toE2SHB 1287, a bill mandating electric utility preparation for an all-EV future, with a vote of 25-23 in the Senate and 54-43 in the House. It now heads to Gov. Jay Inslee’s desk for signature.First introduced in the legislature by Rep. Nicole Macri (D-Seattle) as HB 1204, the bill is now the first gasoline phaseout target to be passed through the legislative process.The Morning Wire: Keeping you informed on politics, policies, and personalities of Washington State.“With the passage of Clean Cars 2030, the end of the era of gasoline-powered cars is in sight,” said Matthew Metz, co-executive director ofColtura. “Clean Cars 2030 sets Washington on a nation-leading path consistent with climate science and an auto industry trend toward a fully-electric automotive future. We applaud Rep. Macri, Rep. Alex Ramel (D-Bellingham), and Sen. Marko Liias (D-Lynnwood) for their leadership on this bill, as well as the many other legislators who made history with their votes.”Passage of this legislation takes the guesswork and uncertainty out of the electric vehicle transition by creating a clear timeline with the data, tools, and guidelines we need to help businesses, developers, governments, and consumers plan with confidence,” said Sen. Liias. “Clean Cars 2030 is a critical step to meet urgent carbon reduction goals here in Washington and can serve as a model and impetus for other states to accelerate the switch to EVs.”Since Clean Cars 2030 was introduced to the legislature on January 14, the automotive industry has accelerated the shift away from gasoline cars. GM announced plans to sell only zero-emissions vehicles by 2035, Ford said it would only sell EVs in Europe by 2030, BMW’s MINI sub-division pledged to be EV-only by 2030, and Volvo committed to selling only EVs by 2030.The 2030 target will be integrated into planning and financial decision-making by a broad group of government, automaker, utility, and other stakeholders. It will take full effect when 75 percent of vehicles on the road are subject to a road usage charge, a development which is expected within the next several years.Coltura spearheaded adiverse coalitionof more than 25 organizations advocating for the bill’s passage, including leading environmental, social justice, and faith groups across the state. The date certain established in the bill for the transition away from gasoline vehicles also attracted the support of the automotive and business community, including an endorsement from the Washington State Auto Dealers Association.This news release was provided byColturaYour support matters.Public service journalism is important today as ever. If you get something from our coverage, please considermaking a donationto support our work. Thanks for reading our stuff.Share This:   \n",
       "\n",
       "              date          news_source      region  \n",
       "14  April 15, 2021  washingtonstatewire  west-coast  "
      ]
     },
     "execution_count": 110,
     "metadata": {},
     "output_type": "execute_result"
    }
   ],
   "source": [
    "west_coast_df.tail(1)"
   ]
  },
  {
   "cell_type": "code",
   "execution_count": 111,
   "id": "d33aca42",
   "metadata": {},
   "outputs": [
    {
     "data": {
      "text/plain": [
       "title          15\n",
       "article        15\n",
       "date           15\n",
       "news_source    15\n",
       "region         15\n",
       "dtype: int64"
      ]
     },
     "execution_count": 111,
     "metadata": {},
     "output_type": "execute_result"
    }
   ],
   "source": [
    "west_coast_df.count()"
   ]
  },
  {
   "cell_type": "code",
   "execution_count": 112,
   "id": "184a8d12",
   "metadata": {},
   "outputs": [
    {
     "data": {
      "text/plain": [
       "title          object\n",
       "article        object\n",
       "date           object\n",
       "news_source    object\n",
       "region         object\n",
       "dtype: object"
      ]
     },
     "execution_count": 112,
     "metadata": {},
     "output_type": "execute_result"
    }
   ],
   "source": [
    "west_coast_df.dtypes"
   ]
  },
  {
   "cell_type": "code",
   "execution_count": 113,
   "id": "876de423",
   "metadata": {},
   "outputs": [
    {
     "data": {
      "text/plain": [
       "\"['When I started driving an electric vehicle in 2018, I became part of the problem.', 'Not for the reasons cited by EV critics during the recent heat wave, when the state asked that electric cars not be charged during peak demand. That prompted howls of “I told you so” from those who think the electrification of everything from home appliances to cars is a left-wing pipe dream, especially in light of California’s mandate requiring 100% of all new vehicle sales to be zero-emission by 2035.', 'Nor am I part of the problem because of the worries expressed ad nauseum by EV skeptics, few of which have much merit.', 'Yes, driving distance is an issue, but only for a tiny percentage of trips.', 'Yes, my electricity bill is higher, but the additional cost is far lower than what drivers pay for gas.', 'Yes, apartment and condo dwellers who cannot plug in at night have legitimate concerns, because they must rely on our public charging infrastructure — which is growing.', 'Yes, EVs have a carbon footprint, but still typically much smaller than those of gas cars. On this, the evidence is so compelling that it’s hard to imagine survival on this planet unless we immediately replace gas-powered autos with electric ones. Consequently, if the state and federal governments want to take meaningful action on climate change, they have no choice but to subsidize EV buyers.', 'And that’s part of the problem. In the end, an electric car is still, well, a car — and mass car ownership has devastating environmental consequences beyond tailpipe emissions.', 'I became part of this car culture in 2018, after The Times moved from downtown L.A. to El Segundo. Until then I was a dedicated transit commuter and even held out for months after The Times’ relocation. But five hours a day on buses and trains eventually got to me, so I leased a Nissan Leaf.', 'Then a funny thing happened: Some well-meaning people reacted as if I had done the world a favor. Never mind the loss of a transit user to 60-mile daily drives — I had become an EV operator, once pitied for bus riding, now praised for driving.', 'But electric vehicles, like gas-powered cars, require vast expanses of concrete and asphalt for automotive use. This paving over of entire regions has turned neighborhoods into heat sinks that soak up energy from the sun during the day and release it at night — not exactly what we want in an era of accelerating climate change.', 'And electric vehicles, like gas-powered cars, force their drivers to sit in the same traffic jams as everyone else, often on freeways that required the bulldozing of long-established, minority communities to be built. In Downey, locals are fighting a highway expansion plan that would displace residents from more than 200 homes. I haven’t asked, but something tells me “yeah, but more electric cars” wouldn’t convince those residents to give up fighting for their homes.', 'And electric vehicles, like gas-powered cars, needlessly kill people. In the city of Los Angeles, a record 294 people were killed in traffic in 2021. Inadequate infrastructure is largely to blame, but so is the increasing size of cars — and electric cars are getting bigger too, to make them more appealing to American consumers.', 'This isn’t to say there aren’t benefits to replacing dirty vehicles with zero-emission ones. Cities need to curb air pollution, and electric cars cause very little of it. Children living near freeways have higher rates of asthma, and trading internal combustion engines for electric motors would certainly help them.', 'But replacing one kind of car for another isn’t enough if cities like Los Angeles want to be anything other than traffic-choked dystopias. Right now, subsidizing EV ownership to the tune of nearly $10,000 off a car’s sticker price (in California) may be necessary to reduce the acceleration of climate change, but it’s also just a Band-Aid to buy time for systemic change to take hold.', 'And what kind of systemic change would that be? Build out a big public transit system (L.A. is trying), and make it free, reliable and safe. Subsidize the purchase of electric bikes, which make it easier to commute longer distances on devices that use considerably less power and road space than electric cars. Think more of what people in neighborhoods need than what people driving through those neighborhoods want.', 'And for the love of God, shelter every bus stop on every block, so riders don’t risk sunstroke when they take transit during a heat wave.']\""
      ]
     },
     "execution_count": 113,
     "metadata": {},
     "output_type": "execute_result"
    }
   ],
   "source": [
    "west_coast_df['article'][0]"
   ]
  },
  {
   "cell_type": "code",
   "execution_count": 114,
   "id": "7697324b",
   "metadata": {},
   "outputs": [
    {
     "data": {
      "text/html": [
       "<div>\n",
       "<style scoped>\n",
       "    .dataframe tbody tr th:only-of-type {\n",
       "        vertical-align: middle;\n",
       "    }\n",
       "\n",
       "    .dataframe tbody tr th {\n",
       "        vertical-align: top;\n",
       "    }\n",
       "\n",
       "    .dataframe thead th {\n",
       "        text-align: right;\n",
       "    }\n",
       "</style>\n",
       "<table border=\"1\" class=\"dataframe\">\n",
       "  <thead>\n",
       "    <tr style=\"text-align: right;\">\n",
       "      <th></th>\n",
       "      <th>title</th>\n",
       "      <th>article</th>\n",
       "      <th>date</th>\n",
       "      <th>news_source</th>\n",
       "      <th>region</th>\n",
       "    </tr>\n",
       "  </thead>\n",
       "  <tbody>\n",
       "    <tr>\n",
       "      <th>0</th>\n",
       "      <td>Commentary: Driving an EV does not make you pro-environment</td>\n",
       "      <td>['When I started driving an electric vehicle in 2018, I became part of the problem.', 'Not for the reasons cited by EV critics during the recent heat wave, when the state asked that electric cars not be charged during peak demand. That prompted howls of “I told you so” from those who think the electrification of everything from home appliances to cars is a left-wing pipe dream, especially in light of California’s mandate requiring 100% of all new vehicle sales to be zero-emission by 2035.', 'Nor am I part of the problem because of the worries expressed ad nauseum by EV skeptics, few of which have much merit.', 'Yes, driving distance is an issue, but only for a tiny percentage of trips.', 'Yes, my electricity bill is higher, but the additional cost is far lower than what drivers pay for gas.', 'Yes, apartment and condo dwellers who cannot plug in at night have legitimate concerns, because they must rely on our public charging infrastructure — which is growing.', 'Yes, EVs have a carbon footprint, but still typically much smaller than those of gas cars. On this, the evidence is so compelling that it’s hard to imagine survival on this planet unless we immediately replace gas-powered autos with electric ones. Consequently, if the state and federal governments want to take meaningful action on climate change, they have no choice but to subsidize EV buyers.', 'And that’s part of the problem. In the end, an electric car is still, well, a car — and mass car ownership has devastating environmental consequences beyond tailpipe emissions.', 'I became part of this car culture in 2018, after The Times moved from downtown L.A. to El Segundo. Until then I was a dedicated transit commuter and even held out for months after The Times’ relocation. But five hours a day on buses and trains eventually got to me, so I leased a Nissan Leaf.', 'Then a funny thing happened: Some well-meaning people reacted as if I had done the world a favor. Never mind the loss of a transit user to 60-mile daily drives — I had become an EV operator, once pitied for bus riding, now praised for driving.', 'But electric vehicles, like gas-powered cars, require vast expanses of concrete and asphalt for automotive use. This paving over of entire regions has turned neighborhoods into heat sinks that soak up energy from the sun during the day and release it at night — not exactly what we want in an era of accelerating climate change.', 'And electric vehicles, like gas-powered cars, force their drivers to sit in the same traffic jams as everyone else, often on freeways that required the bulldozing of long-established, minority communities to be built. In Downey, locals are fighting a highway expansion plan that would displace residents from more than 200 homes. I haven’t asked, but something tells me “yeah, but more electric cars” wouldn’t convince those residents to give up fighting for their homes.', 'And electric vehicles, like gas-powered cars, needlessly kill people. In the city of Los Angeles, a record 294 people were killed in traffic in 2021. Inadequate infrastructure is largely to blame, but so is the increasing size of cars — and electric cars are getting bigger too, to make them more appealing to American consumers.', 'This isn’t to say there aren’t benefits to replacing dirty vehicles with zero-emission ones. Cities need to curb air pollution, and electric cars cause very little of it. Children living near freeways have higher rates of asthma, and trading internal combustion engines for electric motors would certainly help them.', 'But replacing one kind of car for another isn’t enough if cities like Los Angeles want to be anything other than traffic-choked dystopias. Right now, subsidizing EV ownership to the tune of nearly $10,000 off a car’s sticker price (in California) may be necessary to reduce the acceleration of climate change, but it’s also just a Band-Aid to buy time for systemic change to take hold.', 'And what kind of systemic change would that be? Build out a big public transit system (L.A. is trying), and make it free, reliable and safe. Subsidize the purchase of electric bikes, which make it easier to commute longer distances on devices that use considerably less power and road space than electric cars. Think more of what people in neighborhoods need than what people driving through those neighborhoods want.', 'And for the love of God, shelter every bus stop on every block, so riders don’t risk sunstroke when they take transit during a heat wave.']</td>\n",
       "      <td>Sept. 17, 2022 3:10 AM PT</td>\n",
       "      <td>latimes</td>\n",
       "      <td>west-coast</td>\n",
       "    </tr>\n",
       "    <tr>\n",
       "      <th>1</th>\n",
       "      <td>Op-Ed: Think bigger. Switching to electric cars isn’t enough</td>\n",
       "      <td>['It might feel like the easy solution — just replace your gas-guzzling SUV with an electric SUV, and if everyone does that, eventually we’ll solve climate change. You can see why California regulators decided last month that by 2035, all new cars sold in the state must be electric. After all, car exhaust is the single biggest source of greenhouse gas emissions in California, so surely switching gas-powered cars to electric ones will make a huge dent in fighting climate change.', 'Except it doesn’t. For starters, electric cars still pollute. They don’t have tailpipe emissions, but the process of producing and transporting them creates pollution. According to the International Energy Agency, the average gas-powered car will create 41.9 tons of CO2 emissions from the point it’s manufactured until it’s retired, in contrast to 21.1 tons of CO2 from an EV. In other words, while the average EV will pollute about 50% less compared  with a gas-powered car, it’s still highly polluting.', 'There’s also pollution, and other harms, that come before the manufacturing stage, especially in the intensifying global competition to procure rare earth materials (concentrated in China) for EV batteries. In the past, we have often been dependent on the Middle East for oil. Do we want to create a future in which we’re again dependent on countries that may not be aligned with our values for required materials for our transportation system?', 'The second issue is power capacity. During the first week in September, California faced a historic heat wave, and alerts were issued asking EV owners to not charge their vehicles during peak times. And this is at a time when only 1.9% of cars operating in California are EVs. What happens when that number is 5%? Or 20%? Without a dramatic increase in power production from clean sources, it won’t be possible to supply power to all the EVs without ramping up use of coal and natural gas for electricity generation, increasing emissions from fossil fuels.', 'There are some bottom lines that are true whether cars are powered by fossil fuels or electricity:', 'Electric cars are just as dangerous for people outside the car; if you get hit by a 9,000-pound electric Hummer or a 7,000-pound gas Hummer, you’re dead either way. EVs are just as dangerous for pedestrians and cyclists as their gas-powered cousins, and rushing to adopt them without changing the way we use space on our streets is a recipe for a continued upward trend of pedestrian, cyclist and driver deaths.', 'Electric cars take up the same amount of space as gas-powered cars; even if we could wave a wand and convert every car on the road today to an EV, traffic would still be miserable, and the demand for driving and parking space would continue to suck the lifeblood out of our cities.', 'Additionally, car-based infrastructure is very expensive. In 1982, President Reagan signed a law that allocated 80% of the Highway Trust Fund to highways, and 20% to public transportation. This means the country built and maintains an extraordinarily expensive roadway network at the expense of quality high-speed trains and investments in other non-car infrastructure. In 2019, we spent $203 billion nationwide on highways and roads, and that amount is low compared to what is needed. (The highway trust fund doesn’t actually cover all the maintenance costs of highways, and we haven’t raised the federal gas tax since 1993.) ', 'If all cars were electric, we would still spend a disproportionate amount of money building and maintaining car infrastructure, with little left over to build world-class high-speed rail, bus or bike infrastructure inside and between our cities. We would still have outdated parking requirements for developers — which drive up the cost of housing and aggravate sprawl. And because EVs typically weigh more than their gas-powered counterparts, and heavier vehicles wear down the road faster, we will need to spend even more money on maintenance over the long term.', 'Electric cars aren’t a panacea to solve climate change. They can be part of the solution, but a myopic focus on electric cars as the solution prevents us from seeing so many other ideas. We need a future with fewer cars (electric or not) and much more public transit and bike usage. We need a complete rethink of how we use our public space, and better infrastructure so people can take short trips without using a car.', 'There are no shortcuts to solving climate change. We shouldn’t assume that once every gas-powered car is replaced with an electric one, we’ll solve the problem — because we won’t. We should instead put our energy into redoing how we use our road space, to truly curb pollution and needless death and bring life back into our cities.', 'Michael Schneider is the founder of Streets for All.']</td>\n",
       "      <td>Sept. 15, 2022 3 AM PT</td>\n",
       "      <td>latimes</td>\n",
       "      <td>west-coast</td>\n",
       "    </tr>\n",
       "  </tbody>\n",
       "</table>\n",
       "</div>"
      ],
      "text/plain": [
       "                                                            title  \\\n",
       "0   Commentary: Driving an EV does not make you pro-environment     \n",
       "1   Op-Ed: Think bigger. Switching to electric cars isn’t enough    \n",
       "\n",
       "                                                                                                                                                                                                                                                                                                                                                                                                                                                                                                                                                                                                                                                                                                                                                                                                                                                                                                                                                                                                                                                                                                                                                                                                                                                                                                                                                                                                                                                                                                                                                                                                                                                                                                                                                                                                                                                                                                                                                                                                                                                                                                                                                                                                                                                                                                                                                                                                                                                                                                                                                                                                                                                                                                                                                                                                                                                                                                                                                                                                                                                                                                                                                                                                                                                                                                                                                                                                                                                                                                                                                                                                                                                                                                                                                                                                                                                                                                                                                                                                                                                                                                                                                                                                                                                                                                                                                                                                                                                                                                                                                                                                                                                                                                                                                                                                                                                                                                                                                                                                             article  \\\n",
       "0                                                                                                                                                                                                                                                                                                                      ['When I started driving an electric vehicle in 2018, I became part of the problem.', 'Not for the reasons cited by EV critics during the recent heat wave, when the state asked that electric cars not be charged during peak demand. That prompted howls of “I told you so” from those who think the electrification of everything from home appliances to cars is a left-wing pipe dream, especially in light of California’s mandate requiring 100% of all new vehicle sales to be zero-emission by 2035.', 'Nor am I part of the problem because of the worries expressed ad nauseum by EV skeptics, few of which have much merit.', 'Yes, driving distance is an issue, but only for a tiny percentage of trips.', 'Yes, my electricity bill is higher, but the additional cost is far lower than what drivers pay for gas.', 'Yes, apartment and condo dwellers who cannot plug in at night have legitimate concerns, because they must rely on our public charging infrastructure — which is growing.', 'Yes, EVs have a carbon footprint, but still typically much smaller than those of gas cars. On this, the evidence is so compelling that it’s hard to imagine survival on this planet unless we immediately replace gas-powered autos with electric ones. Consequently, if the state and federal governments want to take meaningful action on climate change, they have no choice but to subsidize EV buyers.', 'And that’s part of the problem. In the end, an electric car is still, well, a car — and mass car ownership has devastating environmental consequences beyond tailpipe emissions.', 'I became part of this car culture in 2018, after The Times moved from downtown L.A. to El Segundo. Until then I was a dedicated transit commuter and even held out for months after The Times’ relocation. But five hours a day on buses and trains eventually got to me, so I leased a Nissan Leaf.', 'Then a funny thing happened: Some well-meaning people reacted as if I had done the world a favor. Never mind the loss of a transit user to 60-mile daily drives — I had become an EV operator, once pitied for bus riding, now praised for driving.', 'But electric vehicles, like gas-powered cars, require vast expanses of concrete and asphalt for automotive use. This paving over of entire regions has turned neighborhoods into heat sinks that soak up energy from the sun during the day and release it at night — not exactly what we want in an era of accelerating climate change.', 'And electric vehicles, like gas-powered cars, force their drivers to sit in the same traffic jams as everyone else, often on freeways that required the bulldozing of long-established, minority communities to be built. In Downey, locals are fighting a highway expansion plan that would displace residents from more than 200 homes. I haven’t asked, but something tells me “yeah, but more electric cars” wouldn’t convince those residents to give up fighting for their homes.', 'And electric vehicles, like gas-powered cars, needlessly kill people. In the city of Los Angeles, a record 294 people were killed in traffic in 2021. Inadequate infrastructure is largely to blame, but so is the increasing size of cars — and electric cars are getting bigger too, to make them more appealing to American consumers.', 'This isn’t to say there aren’t benefits to replacing dirty vehicles with zero-emission ones. Cities need to curb air pollution, and electric cars cause very little of it. Children living near freeways have higher rates of asthma, and trading internal combustion engines for electric motors would certainly help them.', 'But replacing one kind of car for another isn’t enough if cities like Los Angeles want to be anything other than traffic-choked dystopias. Right now, subsidizing EV ownership to the tune of nearly $10,000 off a car’s sticker price (in California) may be necessary to reduce the acceleration of climate change, but it’s also just a Band-Aid to buy time for systemic change to take hold.', 'And what kind of systemic change would that be? Build out a big public transit system (L.A. is trying), and make it free, reliable and safe. Subsidize the purchase of electric bikes, which make it easier to commute longer distances on devices that use considerably less power and road space than electric cars. Think more of what people in neighborhoods need than what people driving through those neighborhoods want.', 'And for the love of God, shelter every bus stop on every block, so riders don’t risk sunstroke when they take transit during a heat wave.']   \n",
       "1  ['It might feel like the easy solution — just replace your gas-guzzling SUV with an electric SUV, and if everyone does that, eventually we’ll solve climate change. You can see why California regulators decided last month that by 2035, all new cars sold in the state must be electric. After all, car exhaust is the single biggest source of greenhouse gas emissions in California, so surely switching gas-powered cars to electric ones will make a huge dent in fighting climate change.', 'Except it doesn’t. For starters, electric cars still pollute. They don’t have tailpipe emissions, but the process of producing and transporting them creates pollution. According to the International Energy Agency, the average gas-powered car will create 41.9 tons of CO2 emissions from the point it’s manufactured until it’s retired, in contrast to 21.1 tons of CO2 from an EV. In other words, while the average EV will pollute about 50% less compared  with a gas-powered car, it’s still highly polluting.', 'There’s also pollution, and other harms, that come before the manufacturing stage, especially in the intensifying global competition to procure rare earth materials (concentrated in China) for EV batteries. In the past, we have often been dependent on the Middle East for oil. Do we want to create a future in which we’re again dependent on countries that may not be aligned with our values for required materials for our transportation system?', 'The second issue is power capacity. During the first week in September, California faced a historic heat wave, and alerts were issued asking EV owners to not charge their vehicles during peak times. And this is at a time when only 1.9% of cars operating in California are EVs. What happens when that number is 5%? Or 20%? Without a dramatic increase in power production from clean sources, it won’t be possible to supply power to all the EVs without ramping up use of coal and natural gas for electricity generation, increasing emissions from fossil fuels.', 'There are some bottom lines that are true whether cars are powered by fossil fuels or electricity:', 'Electric cars are just as dangerous for people outside the car; if you get hit by a 9,000-pound electric Hummer or a 7,000-pound gas Hummer, you’re dead either way. EVs are just as dangerous for pedestrians and cyclists as their gas-powered cousins, and rushing to adopt them without changing the way we use space on our streets is a recipe for a continued upward trend of pedestrian, cyclist and driver deaths.', 'Electric cars take up the same amount of space as gas-powered cars; even if we could wave a wand and convert every car on the road today to an EV, traffic would still be miserable, and the demand for driving and parking space would continue to suck the lifeblood out of our cities.', 'Additionally, car-based infrastructure is very expensive. In 1982, President Reagan signed a law that allocated 80% of the Highway Trust Fund to highways, and 20% to public transportation. This means the country built and maintains an extraordinarily expensive roadway network at the expense of quality high-speed trains and investments in other non-car infrastructure. In 2019, we spent $203 billion nationwide on highways and roads, and that amount is low compared to what is needed. (The highway trust fund doesn’t actually cover all the maintenance costs of highways, and we haven’t raised the federal gas tax since 1993.) ', 'If all cars were electric, we would still spend a disproportionate amount of money building and maintaining car infrastructure, with little left over to build world-class high-speed rail, bus or bike infrastructure inside and between our cities. We would still have outdated parking requirements for developers — which drive up the cost of housing and aggravate sprawl. And because EVs typically weigh more than their gas-powered counterparts, and heavier vehicles wear down the road faster, we will need to spend even more money on maintenance over the long term.', 'Electric cars aren’t a panacea to solve climate change. They can be part of the solution, but a myopic focus on electric cars as the solution prevents us from seeing so many other ideas. We need a future with fewer cars (electric or not) and much more public transit and bike usage. We need a complete rethink of how we use our public space, and better infrastructure so people can take short trips without using a car.', 'There are no shortcuts to solving climate change. We shouldn’t assume that once every gas-powered car is replaced with an electric one, we’ll solve the problem — because we won’t. We should instead put our energy into redoing how we use our road space, to truly curb pollution and needless death and bring life back into our cities.', 'Michael Schneider is the founder of Streets for All.']   \n",
       "\n",
       "                         date news_source      region  \n",
       "0  Sept. 17, 2022 3:10 AM PT      latimes  west-coast  \n",
       "1     Sept. 15, 2022 3 AM PT      latimes  west-coast  "
      ]
     },
     "execution_count": 114,
     "metadata": {},
     "output_type": "execute_result"
    }
   ],
   "source": [
    "west_coast_df.head(2)"
   ]
  },
  {
   "cell_type": "code",
   "execution_count": 115,
   "id": "7b43be20",
   "metadata": {
    "ExecuteTime": {
     "end_time": "2023-11-12T03:16:42.111550Z",
     "start_time": "2023-11-12T03:16:42.092707Z"
    }
   },
   "outputs": [],
   "source": [
    "# removing speacial characters,symbols, white spaces without altering the decimal numbers\n",
    "central_df['article_cleaned'] = central_df['article'].apply(lambda text: ' '.join(re.sub(r'[^a-zA-Z0-9\\s.]', '', text).split()))\n",
    "east_coast_df['article_cleaned'] = east_coast_df['article'].apply(lambda text: ' '.join(re.sub(r'[^a-zA-Z0-9\\s.]', '', text).split()))\n",
    "west_coast_df['article_cleaned'] = west_coast_df['article'].apply(lambda text: ' '.join(re.sub(r'[^a-zA-Z0-9\\s.]', '', text).split()))"
   ]
  },
  {
   "cell_type": "code",
   "execution_count": 14,
   "id": "5775bda4",
   "metadata": {
    "ExecuteTime": {
     "end_time": "2023-11-12T03:16:44.437747Z",
     "start_time": "2023-11-12T03:16:42.789186Z"
    }
   },
   "outputs": [
    {
     "name": "stderr",
     "output_type": "stream",
     "text": [
      "[nltk_data] Downloading package punkt to\n",
      "[nltk_data]     C:\\Users\\vanam\\AppData\\Roaming\\nltk_data...\n",
      "[nltk_data]   Package punkt is already up-to-date!\n",
      "[nltk_data] Downloading package stopwords to\n",
      "[nltk_data]     C:\\Users\\vanam\\AppData\\Roaming\\nltk_data...\n",
      "[nltk_data]   Package stopwords is already up-to-date!\n",
      "[nltk_data] Downloading package wordnet to\n",
      "[nltk_data]     C:\\Users\\vanam\\AppData\\Roaming\\nltk_data...\n",
      "[nltk_data]   Package wordnet is already up-to-date!\n",
      "[nltk_data] Downloading package omw-1.4 to\n",
      "[nltk_data]     C:\\Users\\vanam\\AppData\\Roaming\\nltk_data...\n",
      "[nltk_data]   Package omw-1.4 is already up-to-date!\n"
     ]
    },
    {
     "data": {
      "text/plain": [
       "True"
      ]
     },
     "execution_count": 14,
     "metadata": {},
     "output_type": "execute_result"
    }
   ],
   "source": [
    "import nltk\n",
    "nltk.download('punkt')\n",
    "nltk.download('stopwords')\n",
    "nltk.download('wordnet')\n",
    "\n",
    "nltk.download('omw-1.4')"
   ]
  },
  {
   "cell_type": "code",
   "execution_count": 116,
   "id": "7811c06e",
   "metadata": {
    "ExecuteTime": {
     "end_time": "2023-11-12T03:16:44.453287Z",
     "start_time": "2023-11-12T03:16:44.441858Z"
    }
   },
   "outputs": [],
   "source": [
    "import nltk\n",
    "from nltk.corpus import stopwords\n",
    "from nltk.stem import PorterStemmer\n",
    "from nltk.tokenize import word_tokenize\n",
    "from nltk.stem import WordNetLemmatizer\n",
    "from collections import Counter"
   ]
  },
  {
   "cell_type": "code",
   "execution_count": 117,
   "id": "702d69ab",
   "metadata": {
    "ExecuteTime": {
     "end_time": "2023-11-12T03:16:48.907164Z",
     "start_time": "2023-11-12T03:16:46.325690Z"
    }
   },
   "outputs": [],
   "source": [
    "def preprocess_text(text):\n",
    "    # Tokenization\n",
    "    tokens = word_tokenize(text)\n",
    "\n",
    "    # Removing stop words\n",
    "    my_stopwords = set(['said', 'i', 'me', 'my', 'myself', 'we', 'our', 'ours', 'ourselves', 'you', \"you're\", \"you've\", \"you'll\", \"you'd\", 'your', 'yours', 'yourself', 'yourselves', 'he', 'him', 'his', 'himself', 'she', \"she's\", 'her', 'hers', 'herself', 'it', \"it's\", 'its', 'itself', 'they', 'them', 'their', 'theirs', 'themselves', 'what', 'which', 'who', 'whom', 'this', 'that', \"that'll\", 'these', 'those', 'am', 'is', 'are', 'was', 'were', 'be', 'been', 'being', 'have', 'has', 'had', 'having', 'do', 'does', 'did', 'doing', 'a', 'an', 'the', 'and', 'but', 'if', 'or', 'because', 'as', 'until', 'while', 'of', 'at', 'by', 'for', 'with', 'about', 'against', 'between', 'into', 'through', 'during', 'before', 'after', 'above', 'below', 'to', 'from', 'up', 'down', 'in', 'out', 'on', 'off', 'over', 'under', 'again', 'further', 'then', 'once', 'here', 'there', 'when', 'where', 'why', 'how', 'all', 'any', 'both', 'each', 'few', 'more', 'most', 'other', 'some', 'such', 'no', 'nor', 'not', 'only', 'own', 'same', 'so', 'than', 'too', 'very', 's', 't', 'can', 'will', 'just', 'don', \"don't\", 'should', \"should've\", 'now', 'd', 'll', 'm', 'o', 're', 've', 'y', 'ain', 'aren', \"aren't\", 'couldn', \"couldn't\", 'didn', \"didn't\", 'doesn', \"doesn't\", 'hadn', \"hadn't\", 'hasn', \"hasn't\", 'haven', \"haven't\", 'isn', \"isn't\", 'ma', 'mightn', \"mightn't\", 'mustn', \"mustn't\", 'needn', \"needn't\", 'shan', \"shan't\", 'shouldn', \"shouldn't\", 'wasn', \"wasn't\", 'weren', \"weren't\", 'won', \"won't\", 'wouldn', \"wouldn't\"])\n",
    "    stop_words = set(stopwords.words('english'))\n",
    "    stop_words = stop_words | my_stopwords\n",
    "    filtered_tokens = [word for word in tokens if word.lower() not in stop_words]\n",
    "\n",
    "    # Lemmatization\n",
    "    lemmatizer = WordNetLemmatizer()\n",
    "    lemmatized_tokens = [lemmatizer.lemmatize(word) for word in filtered_tokens]\n",
    "    \n",
    "    # Replace 'evs' with 'ev'(as this case isn't handled by Lemmatization)\n",
    "    final_tokens = [token if token.lower() != 'evs' else 'ev' for token in lemmatized_tokens]\n",
    "\n",
    "    return ' '.join(final_tokens)"
   ]
  },
  {
   "cell_type": "code",
   "execution_count": 118,
   "id": "8d4e8f0b",
   "metadata": {},
   "outputs": [],
   "source": [
    "central_df['article_cleaned'] = central_df['article_cleaned'].apply(preprocess_text)\n",
    "east_coast_df['article_cleaned'] = east_coast_df['article_cleaned'].apply(preprocess_text)\n",
    "west_coast_df['article_cleaned'] = west_coast_df['article_cleaned'].apply(preprocess_text)"
   ]
  },
  {
   "cell_type": "code",
   "execution_count": 119,
   "id": "46ebef76",
   "metadata": {},
   "outputs": [
    {
     "data": {
      "text/plain": [
       "'started driving electric vehicle 2018 became part problem . reason cited EV critic recent heat wave state asked electric car charged peak demand . prompted howl told think electrification everything home appliance car leftwing pipe dream especially light Californias mandate requiring 100 new vehicle sale zeroemission 2035 . part problem worry expressed ad nauseum EV skeptic much merit . Yes driving distance issue tiny percentage trip . Yes electricity bill higher additional cost far lower driver pay gas . Yes apartment condo dweller plug night legitimate concern must rely public charging infrastructure growing . Yes ev carbon footprint still typically much smaller gas car . evidence compelling hard imagine survival planet unless immediately replace gaspowered auto electric one . Consequently state federal government want take meaningful action climate change choice subsidize EV buyer . thats part problem . end electric car still well car mass car ownership devastating environmental consequence beyond tailpipe emission . became part car culture 2018 Times moved downtown L.A. El Segundo . dedicated transit commuter even held month Times relocation . five hour day bus train eventually got leased Nissan Leaf . funny thing happened wellmeaning people reacted done world favor . Never mind loss transit user 60mile daily drive become EV operator pitied bus riding praised driving . electric vehicle like gaspowered car require vast expanse concrete asphalt automotive use . paving entire region turned neighborhood heat sink soak energy sun day release night exactly want era accelerating climate change . electric vehicle like gaspowered car force driver sit traffic jam everyone else often freeway required bulldozing longestablished minority community built . Downey local fighting highway expansion plan would displace resident 200 home . havent asked something tell yeah electric car wouldnt convince resident give fighting home . electric vehicle like gaspowered car needlessly kill people . city Los Angeles record 294 people killed traffic 2021 . Inadequate infrastructure largely blame increasing size car electric car getting bigger make appealing American consumer . isnt say arent benefit replacing dirty vehicle zeroemission one . Cities need curb air pollution electric car cause little . Children living near freeway higher rate asthma trading internal combustion engine electric motor would certainly help . replacing one kind car another isnt enough city like Los Angeles want anything trafficchoked dystopia . Right subsidizing EV ownership tune nearly 10000 car sticker price California may necessary reduce acceleration climate change also BandAid buy time systemic change take hold . kind systemic change would Build big public transit system L.A. trying make free reliable safe . Subsidize purchase electric bike make easier commute longer distance device use considerably le power road space electric car . Think people neighborhood need people driving neighborhood want . love God shelter every bus stop every block rider dont risk sunstroke take transit heat wave .'"
      ]
     },
     "execution_count": 119,
     "metadata": {},
     "output_type": "execute_result"
    }
   ],
   "source": [
    "west_coast_df['article_cleaned'][0]"
   ]
  },
  {
   "cell_type": "code",
   "execution_count": 120,
   "id": "e3dd9874",
   "metadata": {},
   "outputs": [
    {
     "name": "stdout",
     "output_type": "stream",
     "text": [
      "central 166\n",
      "east coast 924\n",
      "west coast 468\n"
     ]
    }
   ],
   "source": [
    "print(\"central\", len(central_df['article_cleaned'][0].split()))\n",
    "print(\"east coast\", len(east_coast_df['article_cleaned'][0].split()))\n",
    "print(\"west coast\", len(west_coast_df['article_cleaned'][0].split()))"
   ]
  },
  {
   "cell_type": "code",
   "execution_count": 121,
   "id": "1172b2dd-61b9-4c6a-95bf-4d9568a26947",
   "metadata": {},
   "outputs": [],
   "source": [
    "import contractions\n",
    "from word2number import w2n\n",
    "import unicodedata\n",
    "from spellchecker import SpellChecker\n",
    "\n",
    "# Removes URLs from the input text using a regular expression.\n",
    "def remove_URL(text):\n",
    "    url = re.compile(r'https?://\\S+|www\\.\\S+')\n",
    "    text =  url.sub(r'',text)\n",
    "    return text\n",
    "\n",
    "#Removes HTML tags from the text using the BeautifulSoup library.\n",
    "def strip_html_tags(text):\n",
    "    \"\"\"remove html tags from text\"\"\"\n",
    "    soup = BeautifulSoup(text, \"html.parser\")\n",
    "    stripped_text = soup.get_text(separator=\" \")\n",
    "    return stripped_text\n",
    "\n",
    "# Removes accented characters from the text by normalizing it to ASCII.\n",
    "def remove_accented_chars(text):\n",
    "    text = unicodedata.normalize('NFKD', text).encode('ascii', 'ignore').decode('utf-8', 'ignore')\n",
    "    return text\n",
    "\n",
    "# Removes special characters (non-alphanumeric) from the text using a regular expression.\n",
    "def remove_special_characters(text):\n",
    "    text = re.sub('[^a-zA-z0-9\\s]', '', text)\n",
    "    return text\n",
    "    \n",
    "# Removes extra white spaces from the text.\n",
    "def remove_whitespace(text):\n",
    "    \"\"\"remove extra whitespaces from text\"\"\"\n",
    "    text = text.strip()\n",
    "    return \" \".join(text.split())\n",
    "\n",
    "# Expands contracted words using the contractions library.(e.g., \"don't\" for \"do not\")\n",
    "def expand_text(text):\n",
    "    # creating an empty list\n",
    "    expanded_words = []   \n",
    "    for word in text.split():\n",
    "        # using contractions.fix to expand the shortened words\n",
    "        # If the word is not a contracted form, it remains unchanged\n",
    "        expanded_words.append(contractions.fix(word))  \n",
    "       \n",
    "    expanded_text = ' '.join(expanded_words)\n",
    "    # The function returns the expanded text.\n",
    "    return expanded_text\n",
    "\n",
    "# Corrects misspelled words in the text using the SpellChecker library.\n",
    "def correct_spellings(text):\n",
    "    spell = SpellChecker()\n",
    "    \n",
    "    corrected_text = []\n",
    "    # it identifies words that are potentially misspelled or not recognized by the spell checker.\n",
    "    misspelled_words = spell.unknown(text.split())\n",
    "    for word in text.split():\n",
    "        if word is None or word == \"\":\n",
    "            continue\n",
    "        # Correct misspelled words\n",
    "        elif word in misspelled_words:\n",
    "            corrected_text.append(spell.correction(word))\n",
    "        else:\n",
    "            corrected_text.append(word)\n",
    "    return \" \".join(corrected_text)"
   ]
  },
  {
   "cell_type": "code",
   "execution_count": 122,
   "id": "1951744b-b7de-42b9-8a4a-ce6cc91375d4",
   "metadata": {},
   "outputs": [],
   "source": [
    "def normalize_doc(doc, URL_stripping=True, html_stripping=True, contraction_expansion=True,\n",
    "                     accented_char_removal=True, text_lower_case=True, \n",
    "                     text_lemmatization=True, special_char_removal=True, \n",
    "                     emoji_removal=True,\n",
    "                     spelling_correction = True):\n",
    "    normalized_document = []\n",
    "    # Stip URL's\n",
    "    if URL_stripping:\n",
    "        doc = remove_URL(doc)\n",
    "    # strip HTML\n",
    "    if html_stripping:\n",
    "        doc = strip_html_tags(doc)\n",
    "    # remove accented characters\n",
    "    if accented_char_removal:\n",
    "        doc = remove_accented_chars(doc)\n",
    "    # expand contractions    \n",
    "    if contraction_expansion:\n",
    "        doc = expand_text(doc)\n",
    "    # lowercase the text    \n",
    "    if text_lower_case:\n",
    "        doc = doc.lower()\n",
    "    # remove extra newlines\n",
    "    doc = re.sub(r'[\\r|\\n|\\r\\n]+', ' ',doc)\n",
    "    # remove special characters    \n",
    "    if special_char_removal:\n",
    "        doc = remove_special_characters(doc)\n",
    "    # remove extra whitespace\n",
    "    doc = re.sub(' +', ' ', doc)\n",
    "    \n",
    "    normalized_document.append(doc)\n",
    "    return doc"
   ]
  },
  {
   "cell_type": "code",
   "execution_count": 123,
   "id": "8960edae-0527-4e0e-9aa2-e2f9b1849bd2",
   "metadata": {},
   "outputs": [],
   "source": [
    "central_df['article_cleaned'] = central_df['article_cleaned'].apply(lambda x: normalize_doc(x))\n",
    "east_coast_df['article_cleaned'] = east_coast_df['article_cleaned'].apply(lambda x: normalize_doc(x))\n",
    "west_coast_df['article_cleaned'] = west_coast_df['article_cleaned'].apply(lambda x: normalize_doc(x))"
   ]
  },
  {
   "cell_type": "code",
   "execution_count": 124,
   "id": "f51895a4",
   "metadata": {},
   "outputs": [
    {
     "name": "stdout",
     "output_type": "stream",
     "text": [
      "central 155\n",
      "east coast 857\n",
      "west coast 441\n"
     ]
    }
   ],
   "source": [
    "print(\"central\", len(central_df['article_cleaned'][0].split()))\n",
    "print(\"east coast\", len(east_coast_df['article_cleaned'][0].split()))\n",
    "print(\"west coast\", len(west_coast_df['article_cleaned'][0].split()))"
   ]
  },
  {
   "cell_type": "code",
   "execution_count": 125,
   "id": "d7a63964",
   "metadata": {
    "ExecuteTime": {
     "end_time": "2023-11-12T03:16:48.922665Z",
     "start_time": "2023-11-12T03:16:48.910144Z"
    }
   },
   "outputs": [
    {
     "name": "stdout",
     "output_type": "stream",
     "text": [
      "<class 'pandas.core.frame.DataFrame'>\n",
      "RangeIndex: 15 entries, 0 to 14\n",
      "Data columns (total 6 columns):\n",
      " #   Column           Non-Null Count  Dtype \n",
      "---  ------           --------------  ----- \n",
      " 0   title            15 non-null     object\n",
      " 1   article          15 non-null     object\n",
      " 2   date             15 non-null     object\n",
      " 3   news_source      15 non-null     object\n",
      " 4   region           15 non-null     object\n",
      " 5   article_cleaned  15 non-null     object\n",
      "dtypes: object(6)\n",
      "memory usage: 848.0+ bytes\n"
     ]
    }
   ],
   "source": [
    "central_df.info()"
   ]
  },
  {
   "cell_type": "code",
   "execution_count": 126,
   "id": "227a5226",
   "metadata": {},
   "outputs": [
    {
     "data": {
      "text/html": [
       "<div>\n",
       "<style scoped>\n",
       "    .dataframe tbody tr th:only-of-type {\n",
       "        vertical-align: middle;\n",
       "    }\n",
       "\n",
       "    .dataframe tbody tr th {\n",
       "        vertical-align: top;\n",
       "    }\n",
       "\n",
       "    .dataframe thead th {\n",
       "        text-align: right;\n",
       "    }\n",
       "</style>\n",
       "<table border=\"1\" class=\"dataframe\">\n",
       "  <thead>\n",
       "    <tr style=\"text-align: right;\">\n",
       "      <th></th>\n",
       "      <th>title</th>\n",
       "      <th>article</th>\n",
       "      <th>date</th>\n",
       "      <th>news_source</th>\n",
       "      <th>region</th>\n",
       "      <th>article_cleaned</th>\n",
       "    </tr>\n",
       "  </thead>\n",
       "  <tbody>\n",
       "    <tr>\n",
       "      <th>0</th>\n",
       "      <td>Electric vehicle charging stations could be boost for small towns along Illinois highways</td>\n",
       "      <td>\\r\\nI have owned and driven an electric vehicle exclusively for almost two years. My experience says that while the electric charging station infrastructure in Chicago and the suburbs is okay, our state really falls down once you start driving south and west. Given that the majority of electric vehicle owners charge their vehicles at home, the real robust need for charging stations is away from major population centers.Along the state’s highways, there is great room for improvement. Lawmakers need to understand that installing a Level 3 charger draws someone to their community for longer than a quick fill-up. Electric vehicle owners often plan meals and shopping around their stops. This can be a business magnet for any community that installs the equipment.Don Anderson, Oak Park\\r\\n\\r\\n\\r\\n\\r\\n\\r\\nSEND LETTERS TO: letters@suntimes.com. Please include your neighborhood or hometown and a phone number for verification purposes. Letters should be 350 words or less.\\r\\n\\r\\n\\r\\n\\r\\nMagical new worries about deficitIn a letter on Monday, a Sun-Times reader argued that President Joe Biden’s infrastructure plan is fiscally irresponsible. But the same reader has previous argued that President Donald Trump’s 2017 tax cut was wonderful. That tax cut did not deliver the “four, five, six percent” growth that Trump had promised, but it did add $1 trillion a year to the federal deficit. So when a tax cut mostly benefits corporations and the wealthiest among us, there is no need to worry about the debt? But when there is an infrastructure plan that would benefit all of us, then the debt becomes all-important?  Kevin Coughlin, Evanston\\r\\n</td>\n",
       "      <td>2021-04-05 12:30:27</td>\n",
       "      <td>chicago-suntimes</td>\n",
       "      <td>central</td>\n",
       "      <td>owned driven electric vehicle exclusively almost two year experience say electric charging station infrastructure chicago suburb okay state really fall start driving south west given majority electric vehicle owner charge vehicle home real robust need charging station away major population centersalong state highway great room improvement lawmakers need understand installing level 3 charger draw someone community longer quick fillup electric vehicle owner often plan meal shopping around stop business magnet community installs equipmentdon anderson oak park send letters letterssuntimescom please include neighborhood hometown phone number verification purpose letters 350 word le magical new worry deficitin letter monday suntimes reader argued president joe bidens infrastructure plan fiscally irresponsible reader previous argued president donald trumps 2017 tax cut wonderful tax cut deliver four five six percent growth trump promised add 1 trillion year federal deficit tax cut mostly benefit corporation wealthiest among you need worry debt infrastructure plan would benefit you debt becomes allimportant kevin coughlin evanston</td>\n",
       "    </tr>\n",
       "  </tbody>\n",
       "</table>\n",
       "</div>"
      ],
      "text/plain": [
       "                                                                                       title  \\\n",
       "0  Electric vehicle charging stations could be boost for small towns along Illinois highways   \n",
       "\n",
       "                                                                                                                                                                                                                                                                                                                                                                                                                                                                                                                                                                                                                                                                                                                                                                                                                                                                                                                                                                                                                                                                                                                                                                                                                                                                                                                                                                                                                                                                                                                                                                                                                                                                                                             article  \\\n",
       "0  \\r\\nI have owned and driven an electric vehicle exclusively for almost two years. My experience says that while the electric charging station infrastructure in Chicago and the suburbs is okay, our state really falls down once you start driving south and west. Given that the majority of electric vehicle owners charge their vehicles at home, the real robust need for charging stations is away from major population centers.Along the state’s highways, there is great room for improvement. Lawmakers need to understand that installing a Level 3 charger draws someone to their community for longer than a quick fill-up. Electric vehicle owners often plan meals and shopping around their stops. This can be a business magnet for any community that installs the equipment.Don Anderson, Oak Park\\r\\n\\r\\n\\r\\n\\r\\n\\r\\nSEND LETTERS TO: letters@suntimes.com. Please include your neighborhood or hometown and a phone number for verification purposes. Letters should be 350 words or less.\\r\\n\\r\\n\\r\\n\\r\\nMagical new worries about deficitIn a letter on Monday, a Sun-Times reader argued that President Joe Biden’s infrastructure plan is fiscally irresponsible. But the same reader has previous argued that President Donald Trump’s 2017 tax cut was wonderful. That tax cut did not deliver the “four, five, six percent” growth that Trump had promised, but it did add $1 trillion a year to the federal deficit. So when a tax cut mostly benefits corporations and the wealthiest among us, there is no need to worry about the debt? But when there is an infrastructure plan that would benefit all of us, then the debt becomes all-important?  Kevin Coughlin, Evanston\\r\\n   \n",
       "\n",
       "                  date       news_source   region  \\\n",
       "0  2021-04-05 12:30:27  chicago-suntimes  central   \n",
       "\n",
       "                                                                                                                                                                                                                                                                                                                                                                                                                                                                                                                                                                                                                                                                                                                                                                                                                                                                                                                                                                                                                                                                                                                                                                        article_cleaned  \n",
       "0  owned driven electric vehicle exclusively almost two year experience say electric charging station infrastructure chicago suburb okay state really fall start driving south west given majority electric vehicle owner charge vehicle home real robust need charging station away major population centersalong state highway great room improvement lawmakers need understand installing level 3 charger draw someone community longer quick fillup electric vehicle owner often plan meal shopping around stop business magnet community installs equipmentdon anderson oak park send letters letterssuntimescom please include neighborhood hometown phone number verification purpose letters 350 word le magical new worry deficitin letter monday suntimes reader argued president joe bidens infrastructure plan fiscally irresponsible reader previous argued president donald trumps 2017 tax cut wonderful tax cut deliver four five six percent growth trump promised add 1 trillion year federal deficit tax cut mostly benefit corporation wealthiest among you need worry debt infrastructure plan would benefit you debt becomes allimportant kevin coughlin evanston  "
      ]
     },
     "execution_count": 126,
     "metadata": {},
     "output_type": "execute_result"
    }
   ],
   "source": [
    "central_df.head(1)"
   ]
  },
  {
   "cell_type": "code",
   "execution_count": 127,
   "id": "53b2260a-fe17-4eaf-8f6f-07351b220707",
   "metadata": {},
   "outputs": [
    {
     "name": "stdout",
     "output_type": "stream",
     "text": [
      "<class 'pandas.core.frame.DataFrame'>\n",
      "RangeIndex: 15 entries, 0 to 14\n",
      "Data columns (total 6 columns):\n",
      " #   Column           Non-Null Count  Dtype \n",
      "---  ------           --------------  ----- \n",
      " 0   title            15 non-null     object\n",
      " 1   article          15 non-null     object\n",
      " 2   date             15 non-null     object\n",
      " 3   news_source      15 non-null     object\n",
      " 4   region           15 non-null     object\n",
      " 5   article_cleaned  15 non-null     object\n",
      "dtypes: object(6)\n",
      "memory usage: 848.0+ bytes\n"
     ]
    }
   ],
   "source": [
    "central_df.info()"
   ]
  },
  {
   "cell_type": "markdown",
   "id": "b1829d72-05df-4559-819a-ab3ac6e5d2e8",
   "metadata": {},
   "source": [
    "## Date cleaning"
   ]
  },
  {
   "cell_type": "markdown",
   "id": "d6cfa9dd-6083-4e42-8ef4-d747d6c91164",
   "metadata": {},
   "source": [
    "#### Central Region"
   ]
  },
  {
   "cell_type": "code",
   "execution_count": 128,
   "id": "ff51e219-cf81-4089-aeb2-b144d84bc57c",
   "metadata": {},
   "outputs": [],
   "source": [
    "from datetime import datetime\n",
    "\n",
    "def convert_date(date_str):\n",
    "    # Define different date formats\n",
    "    formats = [\n",
    "        \"%Y-%m-%d %H:%M:%S\",  # 2021-04-05 12:30:27\n",
    "        \"%I:%M %p on %b %d, %Y %Z\",  # 5:38 AM on Dec 28, 2022 CST\n",
    "        \"%B %d, %Y\",  # June 15, 2017\n",
    "        \"%b. %d, %Y\",  # Jan. 20, 2023\n",
    "        \"%B %d, %Y\"  # July 3, 2023\n",
    "    ]\n",
    "\n",
    "    for fmt in formats:\n",
    "        try:\n",
    "            # Try to parse the date string with each format\n",
    "            dt = datetime.strptime(date_str, fmt)\n",
    "            return dt.strftime(\"%m-%d-%Y\")\n",
    "        except ValueError:\n",
    "            continue\n",
    "\n",
    "    # If no format matches, return the original string or a placeholder\n",
    "    return date_str\n",
    "\n",
    "def custom_date_parser_central(date_str):\n",
    "    # Check if the date matches the specific pattern\n",
    "    match = re.match(r'(\\d+:\\d+\\s[APM]{2})\\son\\s([A-Za-z]+\\s\\d+,\\s\\d{4})\\s[A-Z]{3}', date_str)\n",
    "    if match:\n",
    "        # Extract the time and date parts\n",
    "        time_part = match.group(1)\n",
    "        date_part = match.group(2)\n",
    "\n",
    "        # Combine and parse the date\n",
    "        full_date_str = f'{date_part} {time_part}'\n",
    "        parsed_date = datetime.strptime(full_date_str, \"%b %d, %Y %I:%M %p\")\n",
    "        return parsed_date.strftime(\"%m-%d-%Y\")\n",
    "    else:\n",
    "        # Handle other date formats here, or return a placeholder\n",
    "        return date_str\n",
    "        \n",
    "central_df['converted_date'] = central_df['date'].apply(convert_date)\n",
    "central_df['converted_date'] = central_df['converted_date'].apply(custom_date_parser_central)"
   ]
  },
  {
   "cell_type": "code",
   "execution_count": 129,
   "id": "50e39f15-ded7-4bc8-b1bd-febd34777542",
   "metadata": {},
   "outputs": [],
   "source": [
    "from datetime import datetime\n",
    "import re\n",
    "\n",
    "date_strings = [\n",
    "    \"May 21, 2023 — 6:00pm\",\n",
    "    \"May 19, 2023 — 6:57pm\",\n",
    "    \"October 14, 2023 — 1:45pm\",\n",
    "    \"January 30, 2023 — 6:18pm\"\n",
    "]\n",
    "\n",
    "def convert_date_to_mmddyyyy(date_str):\n",
    "    match = re.search(r'([A-Za-z]+\\s\\d{1,2},\\s\\d{4})', date_str)\n",
    "    if match:\n",
    "        date_part = match.group(1)\n",
    "        parsed_date = datetime.strptime(date_part, \"%B %d, %Y\")\n",
    "        formatted_date = parsed_date.strftime(\"%m-%d-%Y\")\n",
    "        return formatted_date\n",
    "    else:\n",
    "        return date_str\n",
    "\n",
    "\n",
    "central_df['converted_date'] = central_df['converted_date'].apply(convert_date_to_mmddyyyy)\n"
   ]
  },
  {
   "cell_type": "code",
   "execution_count": 130,
   "id": "1be12a0f-6585-4468-a4a9-351bc05718f9",
   "metadata": {},
   "outputs": [
    {
     "data": {
      "text/plain": [
       "0     04-05-2021\n",
       "1     11-16-2021\n",
       "2     04-04-2021\n",
       "3     07-17-2023\n",
       "4     05-21-2023\n",
       "5     05-19-2023\n",
       "6     10-14-2023\n",
       "7     01-30-2023\n",
       "8     12-28-2022\n",
       "9     10-08-2022\n",
       "10    04-17-2023\n",
       "11    07-03-2023\n",
       "12    06-15-2017\n",
       "13    01-20-2023\n",
       "14    07-03-2023\n",
       "Name: converted_date, dtype: object"
      ]
     },
     "execution_count": 130,
     "metadata": {},
     "output_type": "execute_result"
    }
   ],
   "source": [
    "central_df['converted_date']"
   ]
  },
  {
   "cell_type": "markdown",
   "id": "759a6acf-f74a-48cd-a59d-2d4cee42c403",
   "metadata": {},
   "source": [
    "#### East coast Date cleaning"
   ]
  },
  {
   "cell_type": "code",
   "execution_count": 131,
   "id": "83247ace-9991-40ee-a848-1b8b8b84bb20",
   "metadata": {},
   "outputs": [],
   "source": [
    "east_coast_df['date'].iloc[3] = east_coast_df['date'][3].split('|')[1]\n",
    "east_coast_df['date'].iloc[3] = east_coast_df['date'].iloc[3].replace('Published ', '')\n",
    "east_coast_df['date'].iloc[10] = east_coast_df['date'].iloc[10][east_coast_df['date'].iloc[10].find('Updated') + len('Updated'): ]\n",
    "east_coast_df['date'].iloc[13] = east_coast_df['date'].iloc[13][east_coast_df['date'].iloc[13].find('Updated') + len('Updated'): ]"
   ]
  },
  {
   "cell_type": "code",
   "execution_count": 132,
   "id": "3b4bea3d-33b9-4c4a-bacd-a352e3f62ab8",
   "metadata": {},
   "outputs": [],
   "source": [
    "def convert_to_standard_format(date_str):\n",
    "    # Remove words like 'Published' and 'at', and timezone information\n",
    "    cleaned_date_str = re.sub(r'(Published\\s+|\\sat\\s+|\\s+[A-Z]{3})', ' ', date_str).strip()\n",
    "\n",
    "    # Define date formats to try\n",
    "    formats = [\n",
    "        \"%Y-%m-%d %H:%M:%S\",   # 2022-08-09 10:54:00\n",
    "        \"%B %d, %Y\",           # June 23, 2023\n",
    "        \"%b. %d, %Y\",          # Jan. 15, 2021\n",
    "        \"%b %d, %Y\"            # Aug. 9, 2022\n",
    "    ]\n",
    "\n",
    "    for fmt in formats:\n",
    "        try:\n",
    "            parsed_date = datetime.strptime(cleaned_date_str, fmt)\n",
    "            return parsed_date.strftime(\"%m-%d-%Y\")\n",
    "        except ValueError:\n",
    "            continue\n",
    "\n",
    "    # Return a placeholder if no format matches\n",
    "    return date_str\n",
    "\n",
    "def custom_date_parser_east_coast(date_str):\n",
    "    # Extract the date and time components without the timezone\n",
    "    match = re.match(r'(\\w+ \\d+, \\d+) at (\\d+:\\d+ [apm.]+)', date_str)\n",
    "    if not match:\n",
    "        return date_str\n",
    "\n",
    "    date_part, time_part = match.groups()\n",
    "\n",
    "    # Remove periods from the time part (for 'a.m.' and 'p.m.')\n",
    "    time_part = time_part.replace('.', '')\n",
    "\n",
    "    # Combine the date and time parts and parse\n",
    "    full_date_str = f'{date_part} {time_part}'\n",
    "    parsed_date = datetime.strptime(full_date_str, \"%B %d, %Y %I:%M %p\")\n",
    "    return parsed_date.strftime(\"%m-%d-%Y\")\n",
    "    \n",
    "east_coast_df['converted_date'] = east_coast_df['date'].apply(lambda x: convert_to_standard_format(x))\n",
    "east_coast_df['converted_date'] = east_coast_df['converted_date'].apply(custom_date_parser_east_coast)"
   ]
  },
  {
   "cell_type": "code",
   "execution_count": 133,
   "id": "b65d5fce-25e6-481e-ac12-bda5c3bec718",
   "metadata": {},
   "outputs": [
    {
     "data": {
      "text/plain": [
       "0     09-19-2023\n",
       "1     05-17-2023\n",
       "2     04-11-2023\n",
       "3     11-09-2023\n",
       "4     06-13-2023\n",
       "5     08-09-2022\n",
       "6     08-16-2022\n",
       "7     04-20-2022\n",
       "8     12-14-2022\n",
       "9     03-13-2023\n",
       "10    06-23-2023\n",
       "11    01-15-2021\n",
       "12    04-14-2023\n",
       "13    08-09-2022\n",
       "14    11-07-2023\n",
       "Name: converted_date, dtype: object"
      ]
     },
     "execution_count": 133,
     "metadata": {},
     "output_type": "execute_result"
    }
   ],
   "source": [
    "east_coast_df['converted_date']"
   ]
  },
  {
   "cell_type": "markdown",
   "id": "70a2ebc8-9b8a-4128-a858-8165841ea318",
   "metadata": {},
   "source": [
    "#### West coast date cleaning"
   ]
  },
  {
   "cell_type": "code",
   "execution_count": 134,
   "id": "ea7938f0-ab73-42de-ab29-a5eadff64a12",
   "metadata": {},
   "outputs": [],
   "source": [
    "west_coast_df['date'] = west_coast_df['date'].apply(lambda x: x.strip())"
   ]
  },
  {
   "cell_type": "code",
   "execution_count": 135,
   "id": "c9096b3d-2263-450e-a941-e74c498582d6",
   "metadata": {},
   "outputs": [],
   "source": [
    "def convert_date_format(date_str):\n",
    "    # Remove timezone and time, if present\n",
    "    date_str = re.sub(r'(\\d{1,2}:\\d{2} [APM]{2} [A-Z]{2}| \\d{1,2} [APM]{2} [A-Z]{2})', '', date_str).strip()\n",
    "\n",
    "    # Define date formats\n",
    "    formats = [\n",
    "        \"%b. %d, %Y\",  # \"Sept. 17, 2022\"\n",
    "        \"%B %d, %Y\",   # \"March 21, 2019\"\n",
    "    ]\n",
    "\n",
    "    for fmt in formats:\n",
    "        try:\n",
    "            parsed_date = datetime.strptime(date_str, fmt)\n",
    "            return parsed_date.strftime(\"%m-%d-%Y\")\n",
    "        except ValueError:\n",
    "            continue\n",
    "\n",
    "    # Return a placeholder if no format matches\n",
    "    return date_str\n",
    "\n",
    "\n",
    "west_coast_df['converted_date'] = west_coast_df['date'].apply(lambda x: convert_date_format(x))"
   ]
  },
  {
   "cell_type": "code",
   "execution_count": 136,
   "id": "6f8ee451-3fce-47f4-be40-cc445c56e6a9",
   "metadata": {},
   "outputs": [],
   "source": [
    "import re\n",
    "from datetime import datetime\n",
    "\n",
    "def custom_date_parser_regex(date_str):\n",
    "    # Mapping for extended month abbreviations to standard three-letter abbreviations\n",
    "    month_mapping = {\n",
    "        'Jan.': 'Jan', 'Feb.': 'Feb', 'Mar.': 'Mar', 'Apr.': 'Apr', 'May.': 'May',\n",
    "        'Jun.': 'Jun', 'Jul.': 'Jul', 'Aug.': 'Aug', 'Sep.': 'Sep', 'Sept.': 'Sep',\n",
    "        'Oct.': 'Oct', 'Nov.': 'Nov', 'Dec.': 'Dec'\n",
    "    }\n",
    "\n",
    "    # Define the regex pattern for the date format\n",
    "    pattern = r'([A-Za-z]+\\.?) (\\d{1,2}), (\\d{4})'\n",
    "    match = re.match(pattern, date_str)\n",
    "\n",
    "    if match:\n",
    "        month_abbr, day, year = match.groups()\n",
    "\n",
    "        # Convert month abbreviation to a standard three-letter abbreviation\n",
    "        month_std_abbr = month_mapping.get(month_abbr, None)\n",
    "        if not month_std_abbr:\n",
    "            return date_str\n",
    "\n",
    "        # Parse the date using the standard abbreviation\n",
    "        try:\n",
    "            parsed_date = datetime.strptime(f\"{month_std_abbr} {day} {year}\", \"%b %d %Y\")\n",
    "            return parsed_date.strftime(\"%m-%d-%Y\")\n",
    "        except ValueError:\n",
    "            return date_str\n",
    "    else:\n",
    "        return date_str\n",
    "\n",
    "west_coast_df['converted_date'] = west_coast_df['converted_date'].apply(lambda x: custom_date_parser_regex(x))\n"
   ]
  },
  {
   "cell_type": "code",
   "execution_count": 137,
   "id": "2bc2cd6f-5980-4fcd-8d97-f5cf448eebc4",
   "metadata": {},
   "outputs": [],
   "source": [
    "west_coast_df.drop('date', axis=1, inplace=True)\n",
    "east_coast_df.drop('date', axis=1, inplace=True)\n",
    "central_df.drop('date', axis=1, inplace=True)"
   ]
  },
  {
   "cell_type": "code",
   "execution_count": 138,
   "id": "47b4b505",
   "metadata": {},
   "outputs": [
    {
     "data": {
      "text/html": [
       "<div>\n",
       "<style scoped>\n",
       "    .dataframe tbody tr th:only-of-type {\n",
       "        vertical-align: middle;\n",
       "    }\n",
       "\n",
       "    .dataframe tbody tr th {\n",
       "        vertical-align: top;\n",
       "    }\n",
       "\n",
       "    .dataframe thead th {\n",
       "        text-align: right;\n",
       "    }\n",
       "</style>\n",
       "<table border=\"1\" class=\"dataframe\">\n",
       "  <thead>\n",
       "    <tr style=\"text-align: right;\">\n",
       "      <th></th>\n",
       "      <th>title</th>\n",
       "      <th>article</th>\n",
       "      <th>news_source</th>\n",
       "      <th>region</th>\n",
       "      <th>article_cleaned</th>\n",
       "      <th>converted_date</th>\n",
       "    </tr>\n",
       "  </thead>\n",
       "  <tbody>\n",
       "    <tr>\n",
       "      <th>0</th>\n",
       "      <td>Commentary: Driving an EV does not make you pro-environment</td>\n",
       "      <td>['When I started driving an electric vehicle in 2018, I became part of the problem.', 'Not for the reasons cited by EV critics during the recent heat wave, when the state asked that electric cars not be charged during peak demand. That prompted howls of “I told you so” from those who think the electrification of everything from home appliances to cars is a left-wing pipe dream, especially in light of California’s mandate requiring 100% of all new vehicle sales to be zero-emission by 2035.', 'Nor am I part of the problem because of the worries expressed ad nauseum by EV skeptics, few of which have much merit.', 'Yes, driving distance is an issue, but only for a tiny percentage of trips.', 'Yes, my electricity bill is higher, but the additional cost is far lower than what drivers pay for gas.', 'Yes, apartment and condo dwellers who cannot plug in at night have legitimate concerns, because they must rely on our public charging infrastructure — which is growing.', 'Yes, EVs have a carbon footprint, but still typically much smaller than those of gas cars. On this, the evidence is so compelling that it’s hard to imagine survival on this planet unless we immediately replace gas-powered autos with electric ones. Consequently, if the state and federal governments want to take meaningful action on climate change, they have no choice but to subsidize EV buyers.', 'And that’s part of the problem. In the end, an electric car is still, well, a car — and mass car ownership has devastating environmental consequences beyond tailpipe emissions.', 'I became part of this car culture in 2018, after The Times moved from downtown L.A. to El Segundo. Until then I was a dedicated transit commuter and even held out for months after The Times’ relocation. But five hours a day on buses and trains eventually got to me, so I leased a Nissan Leaf.', 'Then a funny thing happened: Some well-meaning people reacted as if I had done the world a favor. Never mind the loss of a transit user to 60-mile daily drives — I had become an EV operator, once pitied for bus riding, now praised for driving.', 'But electric vehicles, like gas-powered cars, require vast expanses of concrete and asphalt for automotive use. This paving over of entire regions has turned neighborhoods into heat sinks that soak up energy from the sun during the day and release it at night — not exactly what we want in an era of accelerating climate change.', 'And electric vehicles, like gas-powered cars, force their drivers to sit in the same traffic jams as everyone else, often on freeways that required the bulldozing of long-established, minority communities to be built. In Downey, locals are fighting a highway expansion plan that would displace residents from more than 200 homes. I haven’t asked, but something tells me “yeah, but more electric cars” wouldn’t convince those residents to give up fighting for their homes.', 'And electric vehicles, like gas-powered cars, needlessly kill people. In the city of Los Angeles, a record 294 people were killed in traffic in 2021. Inadequate infrastructure is largely to blame, but so is the increasing size of cars — and electric cars are getting bigger too, to make them more appealing to American consumers.', 'This isn’t to say there aren’t benefits to replacing dirty vehicles with zero-emission ones. Cities need to curb air pollution, and electric cars cause very little of it. Children living near freeways have higher rates of asthma, and trading internal combustion engines for electric motors would certainly help them.', 'But replacing one kind of car for another isn’t enough if cities like Los Angeles want to be anything other than traffic-choked dystopias. Right now, subsidizing EV ownership to the tune of nearly $10,000 off a car’s sticker price (in California) may be necessary to reduce the acceleration of climate change, but it’s also just a Band-Aid to buy time for systemic change to take hold.', 'And what kind of systemic change would that be? Build out a big public transit system (L.A. is trying), and make it free, reliable and safe. Subsidize the purchase of electric bikes, which make it easier to commute longer distances on devices that use considerably less power and road space than electric cars. Think more of what people in neighborhoods need than what people driving through those neighborhoods want.', 'And for the love of God, shelter every bus stop on every block, so riders don’t risk sunstroke when they take transit during a heat wave.']</td>\n",
       "      <td>latimes</td>\n",
       "      <td>west-coast</td>\n",
       "      <td>started driving electric vehicle 2018 became part problem reason cited ev critic recent heat wave state asked electric car charged peak demand prompted howl told think electrification everything home appliance car leftwing pipe dream especially light californias mandate requiring 100 new vehicle sale zeroemission 2035 part problem worry expressed ad nauseum ev skeptic much merit yes driving distance issue tiny percentage trip yes electricity bill higher additional cost far lower driver pay gas yes apartment condo dweller plug night legitimate concern must rely public charging infrastructure growing yes ev carbon footprint still typically much smaller gas car evidence compelling hard imagine survival planet unless immediately replace gaspowered auto electric one consequently state federal government want take meaningful action climate change choice subsidize ev buyer that is part problem end electric car still well car mass car ownership devastating environmental consequence beyond tailpipe emission became part car culture 2018 times moved downtown la el segundo dedicated transit commuter even held month times relocation five hour day bus train eventually got leased nissan leaf funny thing happened wellmeaning people reacted done world favor never mind loss transit user 60mile daily drive become ev operator pitied bus riding praised driving electric vehicle like gaspowered car require vast expanse concrete asphalt automotive use paving entire region turned neighborhood heat sink soak energy sun day release night exactly want era accelerating climate change electric vehicle like gaspowered car force driver sit traffic jam everyone else often freeway required bulldozing longestablished minority community built downey local fighting highway expansion plan would displace resident 200 home have not asked something tell yeah electric car would not convince resident give fighting home electric vehicle like gaspowered car needlessly kill people city los angeles record 294 people killed traffic 2021 inadequate infrastructure largely blame increasing size car electric car getting bigger make appealing american consumer is not say are not benefit replacing dirty vehicle zeroemission one cities need curb air pollution electric car because little children living near freeway higher rate asthma trading internal combustion engine electric motor would certainly help replacing one kind car another is not enough city like los angeles want anything trafficchoked dystopia right subsidizing ev ownership tune nearly 10000 car sticker price california may necessary reduce acceleration climate change also bandaid buy time systemic change take hold kind systemic change would build big public transit system la trying make free reliable safe subsidize purchase electric bike make easier commute longer distance device use considerably le power road space electric car think people neighborhood need people driving neighborhood want love god shelter every bus stop every block rider do not risk sunstroke take transit heat wave</td>\n",
       "      <td>09-17-2022</td>\n",
       "    </tr>\n",
       "  </tbody>\n",
       "</table>\n",
       "</div>"
      ],
      "text/plain": [
       "                                                            title  \\\n",
       "0   Commentary: Driving an EV does not make you pro-environment     \n",
       "\n",
       "                                                                                                                                                                                                                                                                                                                                                                                                                                                                                                                                                                                                                                                                                                                                                                                                                                                                                                                                                                                                                                                                                                                                                                                                                                                                                                                                                                                                                                                                                                                                                                                                                                                                                                                                                                                                                                                                                                                                                                                                                                                                                                                                                                                                                                                                                                                                                                                                                                                                                                                                                                                                                                                                                                                                                                                                                                                                                                                                                                                                                                                                                                                                                                                                                                                                                                                                                                                                                                                                                                                                                                                                                                                                                                                                                                                                                                                                                                                                                                                                                                                                                                                                                                                                                                                                                                                                                                                                                                                                                                                                                                                                                                                                                         article  \\\n",
       "0  ['When I started driving an electric vehicle in 2018, I became part of the problem.', 'Not for the reasons cited by EV critics during the recent heat wave, when the state asked that electric cars not be charged during peak demand. That prompted howls of “I told you so” from those who think the electrification of everything from home appliances to cars is a left-wing pipe dream, especially in light of California’s mandate requiring 100% of all new vehicle sales to be zero-emission by 2035.', 'Nor am I part of the problem because of the worries expressed ad nauseum by EV skeptics, few of which have much merit.', 'Yes, driving distance is an issue, but only for a tiny percentage of trips.', 'Yes, my electricity bill is higher, but the additional cost is far lower than what drivers pay for gas.', 'Yes, apartment and condo dwellers who cannot plug in at night have legitimate concerns, because they must rely on our public charging infrastructure — which is growing.', 'Yes, EVs have a carbon footprint, but still typically much smaller than those of gas cars. On this, the evidence is so compelling that it’s hard to imagine survival on this planet unless we immediately replace gas-powered autos with electric ones. Consequently, if the state and federal governments want to take meaningful action on climate change, they have no choice but to subsidize EV buyers.', 'And that’s part of the problem. In the end, an electric car is still, well, a car — and mass car ownership has devastating environmental consequences beyond tailpipe emissions.', 'I became part of this car culture in 2018, after The Times moved from downtown L.A. to El Segundo. Until then I was a dedicated transit commuter and even held out for months after The Times’ relocation. But five hours a day on buses and trains eventually got to me, so I leased a Nissan Leaf.', 'Then a funny thing happened: Some well-meaning people reacted as if I had done the world a favor. Never mind the loss of a transit user to 60-mile daily drives — I had become an EV operator, once pitied for bus riding, now praised for driving.', 'But electric vehicles, like gas-powered cars, require vast expanses of concrete and asphalt for automotive use. This paving over of entire regions has turned neighborhoods into heat sinks that soak up energy from the sun during the day and release it at night — not exactly what we want in an era of accelerating climate change.', 'And electric vehicles, like gas-powered cars, force their drivers to sit in the same traffic jams as everyone else, often on freeways that required the bulldozing of long-established, minority communities to be built. In Downey, locals are fighting a highway expansion plan that would displace residents from more than 200 homes. I haven’t asked, but something tells me “yeah, but more electric cars” wouldn’t convince those residents to give up fighting for their homes.', 'And electric vehicles, like gas-powered cars, needlessly kill people. In the city of Los Angeles, a record 294 people were killed in traffic in 2021. Inadequate infrastructure is largely to blame, but so is the increasing size of cars — and electric cars are getting bigger too, to make them more appealing to American consumers.', 'This isn’t to say there aren’t benefits to replacing dirty vehicles with zero-emission ones. Cities need to curb air pollution, and electric cars cause very little of it. Children living near freeways have higher rates of asthma, and trading internal combustion engines for electric motors would certainly help them.', 'But replacing one kind of car for another isn’t enough if cities like Los Angeles want to be anything other than traffic-choked dystopias. Right now, subsidizing EV ownership to the tune of nearly $10,000 off a car’s sticker price (in California) may be necessary to reduce the acceleration of climate change, but it’s also just a Band-Aid to buy time for systemic change to take hold.', 'And what kind of systemic change would that be? Build out a big public transit system (L.A. is trying), and make it free, reliable and safe. Subsidize the purchase of electric bikes, which make it easier to commute longer distances on devices that use considerably less power and road space than electric cars. Think more of what people in neighborhoods need than what people driving through those neighborhoods want.', 'And for the love of God, shelter every bus stop on every block, so riders don’t risk sunstroke when they take transit during a heat wave.']   \n",
       "\n",
       "  news_source      region  \\\n",
       "0     latimes  west-coast   \n",
       "\n",
       "                                                                                                                                                                                                                                                                                                                                                                                                                                                                                                                                                                                                                                                                                                                                                                                                                                                                                                                                                                                                                                                                                                                                                                                                                                                                                                                                                                                                                                                                                                                                                                                                                                                                                                                                                                                                                                                                                                                                                                                                                                                                                                                                                                                                                                                                                                                                                                                                                                                                                                                                                                                                                                                                                                                                                                                                                                                                                                                                                                                                                                                                                                                                                             article_cleaned  \\\n",
       "0  started driving electric vehicle 2018 became part problem reason cited ev critic recent heat wave state asked electric car charged peak demand prompted howl told think electrification everything home appliance car leftwing pipe dream especially light californias mandate requiring 100 new vehicle sale zeroemission 2035 part problem worry expressed ad nauseum ev skeptic much merit yes driving distance issue tiny percentage trip yes electricity bill higher additional cost far lower driver pay gas yes apartment condo dweller plug night legitimate concern must rely public charging infrastructure growing yes ev carbon footprint still typically much smaller gas car evidence compelling hard imagine survival planet unless immediately replace gaspowered auto electric one consequently state federal government want take meaningful action climate change choice subsidize ev buyer that is part problem end electric car still well car mass car ownership devastating environmental consequence beyond tailpipe emission became part car culture 2018 times moved downtown la el segundo dedicated transit commuter even held month times relocation five hour day bus train eventually got leased nissan leaf funny thing happened wellmeaning people reacted done world favor never mind loss transit user 60mile daily drive become ev operator pitied bus riding praised driving electric vehicle like gaspowered car require vast expanse concrete asphalt automotive use paving entire region turned neighborhood heat sink soak energy sun day release night exactly want era accelerating climate change electric vehicle like gaspowered car force driver sit traffic jam everyone else often freeway required bulldozing longestablished minority community built downey local fighting highway expansion plan would displace resident 200 home have not asked something tell yeah electric car would not convince resident give fighting home electric vehicle like gaspowered car needlessly kill people city los angeles record 294 people killed traffic 2021 inadequate infrastructure largely blame increasing size car electric car getting bigger make appealing american consumer is not say are not benefit replacing dirty vehicle zeroemission one cities need curb air pollution electric car because little children living near freeway higher rate asthma trading internal combustion engine electric motor would certainly help replacing one kind car another is not enough city like los angeles want anything trafficchoked dystopia right subsidizing ev ownership tune nearly 10000 car sticker price california may necessary reduce acceleration climate change also bandaid buy time systemic change take hold kind systemic change would build big public transit system la trying make free reliable safe subsidize purchase electric bike make easier commute longer distance device use considerably le power road space electric car think people neighborhood need people driving neighborhood want love god shelter every bus stop every block rider do not risk sunstroke take transit heat wave    \n",
       "\n",
       "  converted_date  \n",
       "0     09-17-2022  "
      ]
     },
     "execution_count": 138,
     "metadata": {},
     "output_type": "execute_result"
    }
   ],
   "source": [
    "west_coast_df.head(1)"
   ]
  },
  {
   "cell_type": "code",
   "execution_count": 139,
   "id": "a5c1aee8",
   "metadata": {},
   "outputs": [
    {
     "data": {
      "text/plain": [
       "Index(['title', 'article', 'news_source', 'region', 'article_cleaned',\n",
       "       'converted_date'],\n",
       "      dtype='object')"
      ]
     },
     "execution_count": 139,
     "metadata": {},
     "output_type": "execute_result"
    }
   ],
   "source": [
    "west_coast_df.columns"
   ]
  },
  {
   "cell_type": "code",
   "execution_count": 141,
   "id": "e9387fdd",
   "metadata": {},
   "outputs": [],
   "source": [
    "#saving final cleaned dataframes to csv\n",
    "west_coast_df.to_csv('final_cleaned_data/west_coast_cleaned_data.csv')\n",
    "east_coast_df.to_csv('final_cleaned_data/east_coast_cleaned_data.csv')\n",
    "central_df.to_csv('final_cleaned_data/central_cleaned_data.csv')"
   ]
  },
  {
   "cell_type": "code",
   "execution_count": null,
   "id": "7e871f25",
   "metadata": {},
   "outputs": [],
   "source": []
  }
 ],
 "metadata": {
  "kernelspec": {
   "display_name": "Python 3 (ipykernel)",
   "language": "python",
   "name": "python3"
  },
  "language_info": {
   "codemirror_mode": {
    "name": "ipython",
    "version": 3
   },
   "file_extension": ".py",
   "mimetype": "text/x-python",
   "name": "python",
   "nbconvert_exporter": "python",
   "pygments_lexer": "ipython3",
   "version": "3.10.9"
  }
 },
 "nbformat": 4,
 "nbformat_minor": 5
}
